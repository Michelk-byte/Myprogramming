{
  "nbformat": 4,
  "nbformat_minor": 0,
  "metadata": {
    "colab": {
      "name": "product_classifier.ipynb",
      "provenance": [],
      "collapsed_sections": []
    },
    "kernelspec": {
      "name": "python3",
      "display_name": "Python 3"
    },
    "accelerator": "GPU"
  },
  "cells": [
    {
      "cell_type": "code",
      "metadata": {
        "id": "sLKM0hXT9Td6",
        "colab_type": "code",
        "colab": {
          "base_uri": "https://localhost:8080/",
          "height": 122
        },
        "outputId": "0d3f35fd-b359-4306-8c95-fde00cabf1d6"
      },
      "source": [
        "from google.colab import drive\n",
        "drive.mount('/content/drive')"
      ],
      "execution_count": null,
      "outputs": [
        {
          "output_type": "stream",
          "text": [
            "Go to this URL in a browser: https://accounts.google.com/o/oauth2/auth?client_id=947318989803-6bn6qk8qdgf4n4g3pfee6491hc0brc4i.apps.googleusercontent.com&redirect_uri=urn%3aietf%3awg%3aoauth%3a2.0%3aoob&scope=email%20https%3a%2f%2fwww.googleapis.com%2fauth%2fdocs.test%20https%3a%2f%2fwww.googleapis.com%2fauth%2fdrive%20https%3a%2f%2fwww.googleapis.com%2fauth%2fdrive.photos.readonly%20https%3a%2f%2fwww.googleapis.com%2fauth%2fpeopleapi.readonly&response_type=code\n",
            "\n",
            "Enter your authorization code:\n",
            "··········\n",
            "Mounted at /content/drive\n"
          ],
          "name": "stdout"
        }
      ]
    },
    {
      "cell_type": "code",
      "metadata": {
        "id": "FXpbOYAQdt5G",
        "colab_type": "code",
        "colab": {}
      },
      "source": [
        "import pandas as pd\n",
        "import numpy as np\n",
        "import matplotlib.pyplot as plt\n",
        "from sklearn import preprocessing\n",
        "import os\n",
        "import cv2\n"
      ],
      "execution_count": null,
      "outputs": []
    },
    {
      "cell_type": "code",
      "metadata": {
        "id": "BIiPH1SJuHIR",
        "colab_type": "code",
        "colab": {
          "base_uri": "https://localhost:8080/",
          "height": 359
        },
        "outputId": "425c39fe-5ea1-4f7d-f204-b798de0aa5fc"
      },
      "source": [
        "# Reading the text dataset\n",
        "df_text = pd.read_csv('/content/prd_classification_text.csv')\n",
        "df_text.head(10)"
      ],
      "execution_count": null,
      "outputs": [
        {
          "output_type": "execute_result",
          "data": {
            "text/html": [
              "<div>\n",
              "<style scoped>\n",
              "    .dataframe tbody tr th:only-of-type {\n",
              "        vertical-align: middle;\n",
              "    }\n",
              "\n",
              "    .dataframe tbody tr th {\n",
              "        vertical-align: top;\n",
              "    }\n",
              "\n",
              "    .dataframe thead th {\n",
              "        text-align: right;\n",
              "    }\n",
              "</style>\n",
              "<table border=\"1\" class=\"dataframe\">\n",
              "  <thead>\n",
              "    <tr style=\"text-align: right;\">\n",
              "      <th></th>\n",
              "      <th>id</th>\n",
              "      <th>nomProduit</th>\n",
              "      <th>marque</th>\n",
              "      <th>category</th>\n",
              "      <th>famille_drive</th>\n",
              "      <th>rayon_drive</th>\n",
              "    </tr>\n",
              "  </thead>\n",
              "  <tbody>\n",
              "    <tr>\n",
              "      <th>0</th>\n",
              "      <td>9632</td>\n",
              "      <td>Pressade nectar de thé à la pêche bio 6x20cl</td>\n",
              "      <td>PRESSADE</td>\n",
              "      <td>Boissons à base de thé</td>\n",
              "      <td>Epicerie sucrée</td>\n",
              "      <td>Bio &amp; Ecolo</td>\n",
              "    </tr>\n",
              "    <tr>\n",
              "      <th>1</th>\n",
              "      <td>11316</td>\n",
              "      <td>Andros Pur jus d'oranges pressées avec pulpe 1L</td>\n",
              "      <td>ANDROS</td>\n",
              "      <td>Jus et nectars à l'orange</td>\n",
              "      <td>Jus d'orange</td>\n",
              "      <td>Fruits &amp; légumes</td>\n",
              "    </tr>\n",
              "    <tr>\n",
              "      <th>2</th>\n",
              "      <td>11322</td>\n",
              "      <td>Tropicana pure premium jus de pommes pressées 1l</td>\n",
              "      <td>TROPICANA</td>\n",
              "      <td>Jus de pomme</td>\n",
              "      <td>Jus d'orange</td>\n",
              "      <td>Fruits &amp; légumes</td>\n",
              "    </tr>\n",
              "    <tr>\n",
              "      <th>3</th>\n",
              "      <td>11324</td>\n",
              "      <td>Tropicana pur jus ananas citron vert 1l</td>\n",
              "      <td>TROPICANA</td>\n",
              "      <td>Mélanges de fruits</td>\n",
              "      <td>Jus d'orange</td>\n",
              "      <td>Fruits &amp; légumes</td>\n",
              "    </tr>\n",
              "    <tr>\n",
              "      <th>4</th>\n",
              "      <td>188</td>\n",
              "      <td>Innocent Pur jus d'oranges sanguines 90cl</td>\n",
              "      <td>INNOCENT</td>\n",
              "      <td>Jus et nectars à l'orange</td>\n",
              "      <td>Jus d'orange</td>\n",
              "      <td>Fruits &amp; légumes</td>\n",
              "    </tr>\n",
              "    <tr>\n",
              "      <th>5</th>\n",
              "      <td>192</td>\n",
              "      <td>Innocent Pur jus d'oranges avec pulpe 90cl</td>\n",
              "      <td>INNOCENT</td>\n",
              "      <td>Jus et nectars à l'orange</td>\n",
              "      <td>Jus d'orange</td>\n",
              "      <td>Fruits &amp; légumes</td>\n",
              "    </tr>\n",
              "    <tr>\n",
              "      <th>6</th>\n",
              "      <td>178</td>\n",
              "      <td>Innocent Pur jus d'oranges sans pulpe 90cl</td>\n",
              "      <td>INNOCENT</td>\n",
              "      <td>Jus et nectars à l'orange</td>\n",
              "      <td>Jus d'orange</td>\n",
              "      <td>Fruits &amp; légumes</td>\n",
              "    </tr>\n",
              "    <tr>\n",
              "      <th>7</th>\n",
              "      <td>139524</td>\n",
              "      <td>Andros Pur jus d'oranges sans pulpe 1L</td>\n",
              "      <td>ANDROS</td>\n",
              "      <td>Jus et nectars à l'orange</td>\n",
              "      <td>Jus d'orange</td>\n",
              "      <td>Fruits &amp; légumes</td>\n",
              "    </tr>\n",
              "    <tr>\n",
              "      <th>8</th>\n",
              "      <td>223606</td>\n",
              "      <td>ANDROS Pur jus d'oranges pressées sans sucres ...</td>\n",
              "      <td>ANDROS</td>\n",
              "      <td>Jus et nectars à l'orange</td>\n",
              "      <td>Jus d'orange</td>\n",
              "      <td>Fruits &amp; légumes</td>\n",
              "    </tr>\n",
              "    <tr>\n",
              "      <th>9</th>\n",
              "      <td>202</td>\n",
              "      <td>Tropicana Pur jus d'oranges pressées avec pulp...</td>\n",
              "      <td>TROPICANA</td>\n",
              "      <td>Jus et nectars à l'orange</td>\n",
              "      <td>Jus d'orange</td>\n",
              "      <td>Fruits &amp; légumes</td>\n",
              "    </tr>\n",
              "  </tbody>\n",
              "</table>\n",
              "</div>"
            ],
            "text/plain": [
              "       id  ...       rayon_drive\n",
              "0    9632  ...       Bio & Ecolo\n",
              "1   11316  ...  Fruits & légumes\n",
              "2   11322  ...  Fruits & légumes\n",
              "3   11324  ...  Fruits & légumes\n",
              "4     188  ...  Fruits & légumes\n",
              "5     192  ...  Fruits & légumes\n",
              "6     178  ...  Fruits & légumes\n",
              "7  139524  ...  Fruits & légumes\n",
              "8  223606  ...  Fruits & légumes\n",
              "9     202  ...  Fruits & légumes\n",
              "\n",
              "[10 rows x 6 columns]"
            ]
          },
          "metadata": {
            "tags": []
          },
          "execution_count": 135
        }
      ]
    },
    {
      "cell_type": "code",
      "metadata": {
        "id": "r9DUViQR5Oc3",
        "colab_type": "code",
        "colab": {
          "base_uri": "https://localhost:8080/",
          "height": 136
        },
        "outputId": "88a19c9b-75a6-4bfb-878e-19972b031b1b"
      },
      "source": [
        "#Dealing with missing values\n",
        "df_text.isnull().sum()"
      ],
      "execution_count": null,
      "outputs": [
        {
          "output_type": "execute_result",
          "data": {
            "text/plain": [
              "id                 0\n",
              "nomProduit         0\n",
              "marque           287\n",
              "category           0\n",
              "famille_drive      0\n",
              "rayon_drive        0\n",
              "dtype: int64"
            ]
          },
          "metadata": {
            "tags": []
          },
          "execution_count": 136
        }
      ]
    },
    {
      "cell_type": "code",
      "metadata": {
        "id": "GlQMl8wJ5cWt",
        "colab_type": "code",
        "colab": {
          "base_uri": "https://localhost:8080/",
          "height": 948
        },
        "outputId": "dd8b580a-b78b-46bc-b8a8-34b68b936b82"
      },
      "source": [
        "# Locating product without a mark \n",
        "df_text.loc[df_text['marque']=='SANS MARQUE']"
      ],
      "execution_count": null,
      "outputs": [
        {
          "output_type": "execute_result",
          "data": {
            "text/html": [
              "<div>\n",
              "<style scoped>\n",
              "    .dataframe tbody tr th:only-of-type {\n",
              "        vertical-align: middle;\n",
              "    }\n",
              "\n",
              "    .dataframe tbody tr th {\n",
              "        vertical-align: top;\n",
              "    }\n",
              "\n",
              "    .dataframe thead th {\n",
              "        text-align: right;\n",
              "    }\n",
              "</style>\n",
              "<table border=\"1\" class=\"dataframe\">\n",
              "  <thead>\n",
              "    <tr style=\"text-align: right;\">\n",
              "      <th></th>\n",
              "      <th>id</th>\n",
              "      <th>nomProduit</th>\n",
              "      <th>marque</th>\n",
              "      <th>category</th>\n",
              "      <th>famille_drive</th>\n",
              "      <th>rayon_drive</th>\n",
              "    </tr>\n",
              "  </thead>\n",
              "  <tbody>\n",
              "    <tr>\n",
              "      <th>37</th>\n",
              "      <td>5582</td>\n",
              "      <td>Contrex Eau minérale naturelle plate 6x1,5l</td>\n",
              "      <td>SANS MARQUE</td>\n",
              "      <td>Eaux plates</td>\n",
              "      <td>Eaux plates</td>\n",
              "      <td>Boissons</td>\n",
              "    </tr>\n",
              "    <tr>\n",
              "      <th>86</th>\n",
              "      <td>10594</td>\n",
              "      <td>Pure Thé thé infusé glacé grenade 1l</td>\n",
              "      <td>SANS MARQUE</td>\n",
              "      <td>Eaux aromatisée plates</td>\n",
              "      <td>Colas</td>\n",
              "      <td>Boissons</td>\n",
              "    </tr>\n",
              "    <tr>\n",
              "      <th>121</th>\n",
              "      <td>10913</td>\n",
              "      <td>St Simon rhum ambré 35° -70cl</td>\n",
              "      <td>SANS MARQUE</td>\n",
              "      <td>Rhums</td>\n",
              "      <td>Bières</td>\n",
              "      <td>Boissons</td>\n",
              "    </tr>\n",
              "    <tr>\n",
              "      <th>136</th>\n",
              "      <td>7984</td>\n",
              "      <td>Hommelbier Bière blonde belge 7,5% 75cl</td>\n",
              "      <td>SANS MARQUE</td>\n",
              "      <td>Bières spéciales</td>\n",
              "      <td>Bières</td>\n",
              "      <td>Boissons</td>\n",
              "    </tr>\n",
              "    <tr>\n",
              "      <th>158</th>\n",
              "      <td>11124</td>\n",
              "      <td>AOP Saint-Emilion Léo de la Gaffelière rouge 75cl</td>\n",
              "      <td>SANS MARQUE</td>\n",
              "      <td>Bordeaux</td>\n",
              "      <td>Vins rouges</td>\n",
              "      <td>Boissons</td>\n",
              "    </tr>\n",
              "    <tr>\n",
              "      <th>159</th>\n",
              "      <td>196012</td>\n",
              "      <td>AOP Blaye-Côtes-de-Bordeaux Closeraie de Tutia...</td>\n",
              "      <td>SANS MARQUE</td>\n",
              "      <td>Bordeaux</td>\n",
              "      <td>Vins rouges</td>\n",
              "      <td>Boissons</td>\n",
              "    </tr>\n",
              "    <tr>\n",
              "      <th>160</th>\n",
              "      <td>51737</td>\n",
              "      <td>Bordeaux rouge Roc St Vincent -75cl</td>\n",
              "      <td>SANS MARQUE</td>\n",
              "      <td>Bordeaux</td>\n",
              "      <td>Vins rouges</td>\n",
              "      <td>Boissons</td>\n",
              "    </tr>\n",
              "    <tr>\n",
              "      <th>163</th>\n",
              "      <td>11068</td>\n",
              "      <td>Bordeaux supérieur Château Grava rouge 13° -75cl</td>\n",
              "      <td>SANS MARQUE</td>\n",
              "      <td>Bordeaux</td>\n",
              "      <td>Vins rouges</td>\n",
              "      <td>Boissons</td>\n",
              "    </tr>\n",
              "    <tr>\n",
              "      <th>164</th>\n",
              "      <td>11088</td>\n",
              "      <td>Listrac Médoc cru bourgeois moulin Laborde 12,...</td>\n",
              "      <td>SANS MARQUE</td>\n",
              "      <td>Bordeaux</td>\n",
              "      <td>Vins rouges</td>\n",
              "      <td>Boissons</td>\n",
              "    </tr>\n",
              "    <tr>\n",
              "      <th>165</th>\n",
              "      <td>11127</td>\n",
              "      <td>AOP Médoc Château Leboscq rouge 75cl</td>\n",
              "      <td>SANS MARQUE</td>\n",
              "      <td>Bordeaux</td>\n",
              "      <td>Vins rouges</td>\n",
              "      <td>Boissons</td>\n",
              "    </tr>\n",
              "    <tr>\n",
              "      <th>166</th>\n",
              "      <td>11146</td>\n",
              "      <td>Château la Louvière pessac-léognan 12° -75cl</td>\n",
              "      <td>SANS MARQUE</td>\n",
              "      <td>Bordeaux</td>\n",
              "      <td>Vins rouges</td>\n",
              "      <td>Boissons</td>\n",
              "    </tr>\n",
              "    <tr>\n",
              "      <th>167</th>\n",
              "      <td>11185</td>\n",
              "      <td>Haut Médoc Château Verdignan 2005 -13° -75cl</td>\n",
              "      <td>SANS MARQUE</td>\n",
              "      <td>Bordeaux</td>\n",
              "      <td>Vins rouges</td>\n",
              "      <td>Boissons</td>\n",
              "    </tr>\n",
              "    <tr>\n",
              "      <th>168</th>\n",
              "      <td>30333</td>\n",
              "      <td>AOP Bordeaux-Supérieur Roc du Bel-Air rouge 75cl</td>\n",
              "      <td>SANS MARQUE</td>\n",
              "      <td>Bordeaux</td>\n",
              "      <td>Vins rouges</td>\n",
              "      <td>Boissons</td>\n",
              "    </tr>\n",
              "    <tr>\n",
              "      <th>171</th>\n",
              "      <td>8121</td>\n",
              "      <td>AOP Bordeaux Mouton Cadet rouge 75cl</td>\n",
              "      <td>SANS MARQUE</td>\n",
              "      <td>Bordeaux</td>\n",
              "      <td>Vins rouges</td>\n",
              "      <td>Boissons</td>\n",
              "    </tr>\n",
              "    <tr>\n",
              "      <th>172</th>\n",
              "      <td>8138</td>\n",
              "      <td>Baron de Lestac AOP Bordeaux rouge 75cl</td>\n",
              "      <td>SANS MARQUE</td>\n",
              "      <td>Bordeaux</td>\n",
              "      <td>Vins rouges</td>\n",
              "      <td>Boissons</td>\n",
              "    </tr>\n",
              "    <tr>\n",
              "      <th>173</th>\n",
              "      <td>8182</td>\n",
              "      <td>G. Bertrand art de vivre Merlot vin de pays d'...</td>\n",
              "      <td>SANS MARQUE</td>\n",
              "      <td>Bordeaux</td>\n",
              "      <td>Vins rouges</td>\n",
              "      <td>Boissons</td>\n",
              "    </tr>\n",
              "    <tr>\n",
              "      <th>1846</th>\n",
              "      <td>5154</td>\n",
              "      <td>Gato Negro Chili Cabernet-sauvignon rouge 75cl</td>\n",
              "      <td>SANS MARQUE</td>\n",
              "      <td>Bordeaux</td>\n",
              "      <td>Tex-Mex</td>\n",
              "      <td>Epicerie salée</td>\n",
              "    </tr>\n",
              "    <tr>\n",
              "      <th>1865</th>\n",
              "      <td>5155</td>\n",
              "      <td>Saint Simon Rhum blanc agricole Martinique 40%...</td>\n",
              "      <td>SANS MARQUE</td>\n",
              "      <td>Rhums</td>\n",
              "      <td>Autres pays</td>\n",
              "      <td>Epicerie salée</td>\n",
              "    </tr>\n",
              "    <tr>\n",
              "      <th>1868</th>\n",
              "      <td>5581</td>\n",
              "      <td>Auchan Eau gazeuse au citron vert 1L</td>\n",
              "      <td>SANS MARQUE</td>\n",
              "      <td>Eau aromatisée gazeuse et gazéifiée</td>\n",
              "      <td>Eaux gazeuses</td>\n",
              "      <td>Boissons</td>\n",
              "    </tr>\n",
              "    <tr>\n",
              "      <th>1877</th>\n",
              "      <td>5580</td>\n",
              "      <td>Badoit Eau minérale gazeuse verte finement pét...</td>\n",
              "      <td>SANS MARQUE</td>\n",
              "      <td>Eaux gazeuses et gazéifiées</td>\n",
              "      <td>Eaux gazeuses</td>\n",
              "      <td>Boissons</td>\n",
              "    </tr>\n",
              "    <tr>\n",
              "      <th>1904</th>\n",
              "      <td>6485</td>\n",
              "      <td>Pur jus de pomme 1l</td>\n",
              "      <td>SANS MARQUE</td>\n",
              "      <td>Jus de pomme</td>\n",
              "      <td>Monofruit</td>\n",
              "      <td>Boissons</td>\n",
              "    </tr>\n",
              "    <tr>\n",
              "      <th>2054</th>\n",
              "      <td>211265</td>\n",
              "      <td>Truc de fou Boisson énergisante 1l</td>\n",
              "      <td>SANS MARQUE</td>\n",
              "      <td>Boissons énergisantes</td>\n",
              "      <td>Boissons énergissantes</td>\n",
              "      <td>Boissons</td>\n",
              "    </tr>\n",
              "    <tr>\n",
              "      <th>2090</th>\n",
              "      <td>10911</td>\n",
              "      <td>Liberty ship Boisson à base de whisky américai...</td>\n",
              "      <td>SANS MARQUE</td>\n",
              "      <td>Whisky</td>\n",
              "      <td>Whiskies</td>\n",
              "      <td>Boissons</td>\n",
              "    </tr>\n",
              "    <tr>\n",
              "      <th>2092</th>\n",
              "      <td>5160</td>\n",
              "      <td>Liberty ship Bourbon 40% 70cl</td>\n",
              "      <td>SANS MARQUE</td>\n",
              "      <td>Whisky</td>\n",
              "      <td>Whiskies</td>\n",
              "      <td>Boissons</td>\n",
              "    </tr>\n",
              "    <tr>\n",
              "      <th>2100</th>\n",
              "      <td>30075</td>\n",
              "      <td>St simon Boisson à base de rhum mangue ananas ...</td>\n",
              "      <td>SANS MARQUE</td>\n",
              "      <td>Rhums</td>\n",
              "      <td>Rhums</td>\n",
              "      <td>Boissons</td>\n",
              "    </tr>\n",
              "    <tr>\n",
              "      <th>2104</th>\n",
              "      <td>193360</td>\n",
              "      <td>Bologne Rhum vieux Dark Sail agricole Guadelou...</td>\n",
              "      <td>SANS MARQUE</td>\n",
              "      <td>Rhums</td>\n",
              "      <td>Rhums</td>\n",
              "      <td>Boissons</td>\n",
              "    </tr>\n",
              "    <tr>\n",
              "      <th>2105</th>\n",
              "      <td>7985</td>\n",
              "      <td>Frozen cocktail William Peel cola 5,5° -20cl</td>\n",
              "      <td>SANS MARQUE</td>\n",
              "      <td>Whisky</td>\n",
              "      <td>Cocktails</td>\n",
              "      <td>Boissons</td>\n",
              "    </tr>\n",
              "    <tr>\n",
              "      <th>2116</th>\n",
              "      <td>8139</td>\n",
              "      <td>Baron de Lestac AOP Bordeaux rouge 3L</td>\n",
              "      <td>SANS MARQUE</td>\n",
              "      <td>Bordeaux</td>\n",
              "      <td>Cubi</td>\n",
              "      <td>Boissons</td>\n",
              "    </tr>\n",
              "    <tr>\n",
              "      <th>2117</th>\n",
              "      <td>11125</td>\n",
              "      <td>Roche Mazet IGP Pays-d'Oc Merlot Roche Mazet c...</td>\n",
              "      <td>SANS MARQUE</td>\n",
              "      <td>Bordeaux</td>\n",
              "      <td>Cubi</td>\n",
              "      <td>Boissons</td>\n",
              "    </tr>\n",
              "  </tbody>\n",
              "</table>\n",
              "</div>"
            ],
            "text/plain": [
              "          id  ...     rayon_drive\n",
              "37      5582  ...        Boissons\n",
              "86     10594  ...        Boissons\n",
              "121    10913  ...        Boissons\n",
              "136     7984  ...        Boissons\n",
              "158    11124  ...        Boissons\n",
              "159   196012  ...        Boissons\n",
              "160    51737  ...        Boissons\n",
              "163    11068  ...        Boissons\n",
              "164    11088  ...        Boissons\n",
              "165    11127  ...        Boissons\n",
              "166    11146  ...        Boissons\n",
              "167    11185  ...        Boissons\n",
              "168    30333  ...        Boissons\n",
              "171     8121  ...        Boissons\n",
              "172     8138  ...        Boissons\n",
              "173     8182  ...        Boissons\n",
              "1846    5154  ...  Epicerie salée\n",
              "1865    5155  ...  Epicerie salée\n",
              "1868    5581  ...        Boissons\n",
              "1877    5580  ...        Boissons\n",
              "1904    6485  ...        Boissons\n",
              "2054  211265  ...        Boissons\n",
              "2090   10911  ...        Boissons\n",
              "2092    5160  ...        Boissons\n",
              "2100   30075  ...        Boissons\n",
              "2104  193360  ...        Boissons\n",
              "2105    7985  ...        Boissons\n",
              "2116    8139  ...        Boissons\n",
              "2117   11125  ...        Boissons\n",
              "\n",
              "[29 rows x 6 columns]"
            ]
          },
          "metadata": {
            "tags": []
          },
          "execution_count": 137
        }
      ]
    },
    {
      "cell_type": "code",
      "metadata": {
        "id": "AbH0kbmHIZM3",
        "colab_type": "code",
        "colab": {
          "base_uri": "https://localhost:8080/",
          "height": 359
        },
        "outputId": "e7c0e59e-44c3-4cf3-ff58-b84761339273"
      },
      "source": [
        "# Shifting the category to the right and filling missing values with SANS MARQUE\n",
        "df_text = df_text[[c for c in df_text if c not in ['category']] + ['category']]\n",
        "df_text = df_text.fillna('SANS MARQUE')\n",
        "df_text.head(10)"
      ],
      "execution_count": null,
      "outputs": [
        {
          "output_type": "execute_result",
          "data": {
            "text/html": [
              "<div>\n",
              "<style scoped>\n",
              "    .dataframe tbody tr th:only-of-type {\n",
              "        vertical-align: middle;\n",
              "    }\n",
              "\n",
              "    .dataframe tbody tr th {\n",
              "        vertical-align: top;\n",
              "    }\n",
              "\n",
              "    .dataframe thead th {\n",
              "        text-align: right;\n",
              "    }\n",
              "</style>\n",
              "<table border=\"1\" class=\"dataframe\">\n",
              "  <thead>\n",
              "    <tr style=\"text-align: right;\">\n",
              "      <th></th>\n",
              "      <th>id</th>\n",
              "      <th>nomProduit</th>\n",
              "      <th>marque</th>\n",
              "      <th>famille_drive</th>\n",
              "      <th>rayon_drive</th>\n",
              "      <th>category</th>\n",
              "    </tr>\n",
              "  </thead>\n",
              "  <tbody>\n",
              "    <tr>\n",
              "      <th>0</th>\n",
              "      <td>9632</td>\n",
              "      <td>Pressade nectar de thé à la pêche bio 6x20cl</td>\n",
              "      <td>PRESSADE</td>\n",
              "      <td>Epicerie sucrée</td>\n",
              "      <td>Bio &amp; Ecolo</td>\n",
              "      <td>Boissons à base de thé</td>\n",
              "    </tr>\n",
              "    <tr>\n",
              "      <th>1</th>\n",
              "      <td>11316</td>\n",
              "      <td>Andros Pur jus d'oranges pressées avec pulpe 1L</td>\n",
              "      <td>ANDROS</td>\n",
              "      <td>Jus d'orange</td>\n",
              "      <td>Fruits &amp; légumes</td>\n",
              "      <td>Jus et nectars à l'orange</td>\n",
              "    </tr>\n",
              "    <tr>\n",
              "      <th>2</th>\n",
              "      <td>11322</td>\n",
              "      <td>Tropicana pure premium jus de pommes pressées 1l</td>\n",
              "      <td>TROPICANA</td>\n",
              "      <td>Jus d'orange</td>\n",
              "      <td>Fruits &amp; légumes</td>\n",
              "      <td>Jus de pomme</td>\n",
              "    </tr>\n",
              "    <tr>\n",
              "      <th>3</th>\n",
              "      <td>11324</td>\n",
              "      <td>Tropicana pur jus ananas citron vert 1l</td>\n",
              "      <td>TROPICANA</td>\n",
              "      <td>Jus d'orange</td>\n",
              "      <td>Fruits &amp; légumes</td>\n",
              "      <td>Mélanges de fruits</td>\n",
              "    </tr>\n",
              "    <tr>\n",
              "      <th>4</th>\n",
              "      <td>188</td>\n",
              "      <td>Innocent Pur jus d'oranges sanguines 90cl</td>\n",
              "      <td>INNOCENT</td>\n",
              "      <td>Jus d'orange</td>\n",
              "      <td>Fruits &amp; légumes</td>\n",
              "      <td>Jus et nectars à l'orange</td>\n",
              "    </tr>\n",
              "    <tr>\n",
              "      <th>5</th>\n",
              "      <td>192</td>\n",
              "      <td>Innocent Pur jus d'oranges avec pulpe 90cl</td>\n",
              "      <td>INNOCENT</td>\n",
              "      <td>Jus d'orange</td>\n",
              "      <td>Fruits &amp; légumes</td>\n",
              "      <td>Jus et nectars à l'orange</td>\n",
              "    </tr>\n",
              "    <tr>\n",
              "      <th>6</th>\n",
              "      <td>178</td>\n",
              "      <td>Innocent Pur jus d'oranges sans pulpe 90cl</td>\n",
              "      <td>INNOCENT</td>\n",
              "      <td>Jus d'orange</td>\n",
              "      <td>Fruits &amp; légumes</td>\n",
              "      <td>Jus et nectars à l'orange</td>\n",
              "    </tr>\n",
              "    <tr>\n",
              "      <th>7</th>\n",
              "      <td>139524</td>\n",
              "      <td>Andros Pur jus d'oranges sans pulpe 1L</td>\n",
              "      <td>ANDROS</td>\n",
              "      <td>Jus d'orange</td>\n",
              "      <td>Fruits &amp; légumes</td>\n",
              "      <td>Jus et nectars à l'orange</td>\n",
              "    </tr>\n",
              "    <tr>\n",
              "      <th>8</th>\n",
              "      <td>223606</td>\n",
              "      <td>ANDROS Pur jus d'oranges pressées sans sucres ...</td>\n",
              "      <td>ANDROS</td>\n",
              "      <td>Jus d'orange</td>\n",
              "      <td>Fruits &amp; légumes</td>\n",
              "      <td>Jus et nectars à l'orange</td>\n",
              "    </tr>\n",
              "    <tr>\n",
              "      <th>9</th>\n",
              "      <td>202</td>\n",
              "      <td>Tropicana Pur jus d'oranges pressées avec pulp...</td>\n",
              "      <td>TROPICANA</td>\n",
              "      <td>Jus d'orange</td>\n",
              "      <td>Fruits &amp; légumes</td>\n",
              "      <td>Jus et nectars à l'orange</td>\n",
              "    </tr>\n",
              "  </tbody>\n",
              "</table>\n",
              "</div>"
            ],
            "text/plain": [
              "       id  ...                   category\n",
              "0    9632  ...     Boissons à base de thé\n",
              "1   11316  ...  Jus et nectars à l'orange\n",
              "2   11322  ...               Jus de pomme\n",
              "3   11324  ...         Mélanges de fruits\n",
              "4     188  ...  Jus et nectars à l'orange\n",
              "5     192  ...  Jus et nectars à l'orange\n",
              "6     178  ...  Jus et nectars à l'orange\n",
              "7  139524  ...  Jus et nectars à l'orange\n",
              "8  223606  ...  Jus et nectars à l'orange\n",
              "9     202  ...  Jus et nectars à l'orange\n",
              "\n",
              "[10 rows x 6 columns]"
            ]
          },
          "metadata": {
            "tags": []
          },
          "execution_count": 138
        }
      ]
    },
    {
      "cell_type": "code",
      "metadata": {
        "id": "iKdMqT43IznJ",
        "colab_type": "code",
        "colab": {
          "base_uri": "https://localhost:8080/",
          "height": 136
        },
        "outputId": "e1f29c12-08cf-4bb3-d22e-19c76b60eb83"
      },
      "source": [
        "#Dealing with missing data\n",
        "df_text.isnull().sum()"
      ],
      "execution_count": null,
      "outputs": [
        {
          "output_type": "execute_result",
          "data": {
            "text/plain": [
              "id               0\n",
              "nomProduit       0\n",
              "marque           0\n",
              "famille_drive    0\n",
              "rayon_drive      0\n",
              "category         0\n",
              "dtype: int64"
            ]
          },
          "metadata": {
            "tags": []
          },
          "execution_count": 139
        }
      ]
    },
    {
      "cell_type": "code",
      "metadata": {
        "id": "IYOGqC-mI7aM",
        "colab_type": "code",
        "colab": {
          "base_uri": "https://localhost:8080/",
          "height": 359
        },
        "outputId": "1f82b22b-b14b-488e-afee-636c6037f08f"
      },
      "source": [
        "# Creating a copy of the orignal dataset to work on\n",
        "new_dftext = df_text[['id','nomProduit', 'marque', 'famille_drive','rayon_drive','category']].copy()\n",
        "new_dftext.head(10)"
      ],
      "execution_count": null,
      "outputs": [
        {
          "output_type": "execute_result",
          "data": {
            "text/html": [
              "<div>\n",
              "<style scoped>\n",
              "    .dataframe tbody tr th:only-of-type {\n",
              "        vertical-align: middle;\n",
              "    }\n",
              "\n",
              "    .dataframe tbody tr th {\n",
              "        vertical-align: top;\n",
              "    }\n",
              "\n",
              "    .dataframe thead th {\n",
              "        text-align: right;\n",
              "    }\n",
              "</style>\n",
              "<table border=\"1\" class=\"dataframe\">\n",
              "  <thead>\n",
              "    <tr style=\"text-align: right;\">\n",
              "      <th></th>\n",
              "      <th>id</th>\n",
              "      <th>nomProduit</th>\n",
              "      <th>marque</th>\n",
              "      <th>famille_drive</th>\n",
              "      <th>rayon_drive</th>\n",
              "      <th>category</th>\n",
              "    </tr>\n",
              "  </thead>\n",
              "  <tbody>\n",
              "    <tr>\n",
              "      <th>0</th>\n",
              "      <td>9632</td>\n",
              "      <td>Pressade nectar de thé à la pêche bio 6x20cl</td>\n",
              "      <td>PRESSADE</td>\n",
              "      <td>Epicerie sucrée</td>\n",
              "      <td>Bio &amp; Ecolo</td>\n",
              "      <td>Boissons à base de thé</td>\n",
              "    </tr>\n",
              "    <tr>\n",
              "      <th>1</th>\n",
              "      <td>11316</td>\n",
              "      <td>Andros Pur jus d'oranges pressées avec pulpe 1L</td>\n",
              "      <td>ANDROS</td>\n",
              "      <td>Jus d'orange</td>\n",
              "      <td>Fruits &amp; légumes</td>\n",
              "      <td>Jus et nectars à l'orange</td>\n",
              "    </tr>\n",
              "    <tr>\n",
              "      <th>2</th>\n",
              "      <td>11322</td>\n",
              "      <td>Tropicana pure premium jus de pommes pressées 1l</td>\n",
              "      <td>TROPICANA</td>\n",
              "      <td>Jus d'orange</td>\n",
              "      <td>Fruits &amp; légumes</td>\n",
              "      <td>Jus de pomme</td>\n",
              "    </tr>\n",
              "    <tr>\n",
              "      <th>3</th>\n",
              "      <td>11324</td>\n",
              "      <td>Tropicana pur jus ananas citron vert 1l</td>\n",
              "      <td>TROPICANA</td>\n",
              "      <td>Jus d'orange</td>\n",
              "      <td>Fruits &amp; légumes</td>\n",
              "      <td>Mélanges de fruits</td>\n",
              "    </tr>\n",
              "    <tr>\n",
              "      <th>4</th>\n",
              "      <td>188</td>\n",
              "      <td>Innocent Pur jus d'oranges sanguines 90cl</td>\n",
              "      <td>INNOCENT</td>\n",
              "      <td>Jus d'orange</td>\n",
              "      <td>Fruits &amp; légumes</td>\n",
              "      <td>Jus et nectars à l'orange</td>\n",
              "    </tr>\n",
              "    <tr>\n",
              "      <th>5</th>\n",
              "      <td>192</td>\n",
              "      <td>Innocent Pur jus d'oranges avec pulpe 90cl</td>\n",
              "      <td>INNOCENT</td>\n",
              "      <td>Jus d'orange</td>\n",
              "      <td>Fruits &amp; légumes</td>\n",
              "      <td>Jus et nectars à l'orange</td>\n",
              "    </tr>\n",
              "    <tr>\n",
              "      <th>6</th>\n",
              "      <td>178</td>\n",
              "      <td>Innocent Pur jus d'oranges sans pulpe 90cl</td>\n",
              "      <td>INNOCENT</td>\n",
              "      <td>Jus d'orange</td>\n",
              "      <td>Fruits &amp; légumes</td>\n",
              "      <td>Jus et nectars à l'orange</td>\n",
              "    </tr>\n",
              "    <tr>\n",
              "      <th>7</th>\n",
              "      <td>139524</td>\n",
              "      <td>Andros Pur jus d'oranges sans pulpe 1L</td>\n",
              "      <td>ANDROS</td>\n",
              "      <td>Jus d'orange</td>\n",
              "      <td>Fruits &amp; légumes</td>\n",
              "      <td>Jus et nectars à l'orange</td>\n",
              "    </tr>\n",
              "    <tr>\n",
              "      <th>8</th>\n",
              "      <td>223606</td>\n",
              "      <td>ANDROS Pur jus d'oranges pressées sans sucres ...</td>\n",
              "      <td>ANDROS</td>\n",
              "      <td>Jus d'orange</td>\n",
              "      <td>Fruits &amp; légumes</td>\n",
              "      <td>Jus et nectars à l'orange</td>\n",
              "    </tr>\n",
              "    <tr>\n",
              "      <th>9</th>\n",
              "      <td>202</td>\n",
              "      <td>Tropicana Pur jus d'oranges pressées avec pulp...</td>\n",
              "      <td>TROPICANA</td>\n",
              "      <td>Jus d'orange</td>\n",
              "      <td>Fruits &amp; légumes</td>\n",
              "      <td>Jus et nectars à l'orange</td>\n",
              "    </tr>\n",
              "  </tbody>\n",
              "</table>\n",
              "</div>"
            ],
            "text/plain": [
              "       id  ...                   category\n",
              "0    9632  ...     Boissons à base de thé\n",
              "1   11316  ...  Jus et nectars à l'orange\n",
              "2   11322  ...               Jus de pomme\n",
              "3   11324  ...         Mélanges de fruits\n",
              "4     188  ...  Jus et nectars à l'orange\n",
              "5     192  ...  Jus et nectars à l'orange\n",
              "6     178  ...  Jus et nectars à l'orange\n",
              "7  139524  ...  Jus et nectars à l'orange\n",
              "8  223606  ...  Jus et nectars à l'orange\n",
              "9     202  ...  Jus et nectars à l'orange\n",
              "\n",
              "[10 rows x 6 columns]"
            ]
          },
          "metadata": {
            "tags": []
          },
          "execution_count": 140
        }
      ]
    },
    {
      "cell_type": "code",
      "metadata": {
        "id": "TQJxyQetlcmH",
        "colab_type": "code",
        "colab": {
          "base_uri": "https://localhost:8080/",
          "height": 419
        },
        "outputId": "e31eafd5-f627-4cdf-ab3d-87a2f8a6b430"
      },
      "source": [
        "# Dealing with ponctuation mark\n",
        "new_dftext[new_dftext.nomProduit.str.contains(';')]"
      ],
      "execution_count": null,
      "outputs": [
        {
          "output_type": "execute_result",
          "data": {
            "text/html": [
              "<div>\n",
              "<style scoped>\n",
              "    .dataframe tbody tr th:only-of-type {\n",
              "        vertical-align: middle;\n",
              "    }\n",
              "\n",
              "    .dataframe tbody tr th {\n",
              "        vertical-align: top;\n",
              "    }\n",
              "\n",
              "    .dataframe thead th {\n",
              "        text-align: right;\n",
              "    }\n",
              "</style>\n",
              "<table border=\"1\" class=\"dataframe\">\n",
              "  <thead>\n",
              "    <tr style=\"text-align: right;\">\n",
              "      <th></th>\n",
              "      <th>id</th>\n",
              "      <th>nomProduit</th>\n",
              "      <th>marque</th>\n",
              "      <th>famille_drive</th>\n",
              "      <th>rayon_drive</th>\n",
              "      <th>category</th>\n",
              "    </tr>\n",
              "  </thead>\n",
              "  <tbody>\n",
              "    <tr>\n",
              "      <th>272</th>\n",
              "      <td>184630</td>\n",
              "      <td>Chocolats œuf chocolat au lait &amp;amp;  éclats d...</td>\n",
              "      <td>CHEVALIERS ARGOUGES</td>\n",
              "      <td>Epicerie sucrée</td>\n",
              "      <td>Bio et Ecologie</td>\n",
              "      <td>autres chocolats</td>\n",
              "    </tr>\n",
              "    <tr>\n",
              "      <th>373</th>\n",
              "      <td>185687</td>\n",
              "      <td>Œuf chocolat moi moche &amp;amp; méchant KINDER SU...</td>\n",
              "      <td>KINDER</td>\n",
              "      <td>Chocolats et bonbons</td>\n",
              "      <td>Epicerie Sucrée</td>\n",
              "      <td>chocolat surprise</td>\n",
              "    </tr>\n",
              "    <tr>\n",
              "      <th>3862</th>\n",
              "      <td>76977</td>\n",
              "      <td>Lait d&amp;#39;amande original Alpro1L</td>\n",
              "      <td>SANS MARQUE</td>\n",
              "      <td>Boissons végétales</td>\n",
              "      <td>Frais</td>\n",
              "      <td>Diététique et jus de légumes</td>\n",
              "    </tr>\n",
              "    <tr>\n",
              "      <th>3864</th>\n",
              "      <td>124746</td>\n",
              "      <td>Boisson Lipton Ice TeaP&amp;#234;che light bo&amp;#238...</td>\n",
              "      <td>SANS MARQUE</td>\n",
              "      <td>Boissons à base de thé</td>\n",
              "      <td>Boissons</td>\n",
              "      <td>Eau aromatisée gazeuse et gazéifiée</td>\n",
              "    </tr>\n",
              "    <tr>\n",
              "      <th>3865</th>\n",
              "      <td>99082</td>\n",
              "      <td>Th&amp;#233; glac&amp;#233; Lipton Ice TeaP&amp;#234;che -...</td>\n",
              "      <td>SANS MARQUE</td>\n",
              "      <td>Boissons à base de thé</td>\n",
              "      <td>Boissons</td>\n",
              "      <td>Boissons à base de thé</td>\n",
              "    </tr>\n",
              "    <tr>\n",
              "      <th>...</th>\n",
              "      <td>...</td>\n",
              "      <td>...</td>\n",
              "      <td>...</td>\n",
              "      <td>...</td>\n",
              "      <td>...</td>\n",
              "      <td>...</td>\n",
              "    </tr>\n",
              "    <tr>\n",
              "      <th>3957</th>\n",
              "      <td>99819</td>\n",
              "      <td>Whisky Ballantine&amp;#39;s Finest40%vol - 1L</td>\n",
              "      <td>SANS MARQUE</td>\n",
              "      <td>Whisky</td>\n",
              "      <td>Boissons</td>\n",
              "      <td>Whisky</td>\n",
              "    </tr>\n",
              "    <tr>\n",
              "      <th>3963</th>\n",
              "      <td>102871</td>\n",
              "      <td>Rhum ambr&amp;#233; Havana ClubRon Anejo Especial ...</td>\n",
              "      <td>SANS MARQUE</td>\n",
              "      <td>Rhum, Vodka, Gin, Téquila</td>\n",
              "      <td>Boissons</td>\n",
              "      <td>Rhums</td>\n",
              "    </tr>\n",
              "    <tr>\n",
              "      <th>3966</th>\n",
              "      <td>87452</td>\n",
              "      <td>Vin rouge Vieux CarionMerlot Pays d&amp;#39;Oc IGP...</td>\n",
              "      <td>SANS MARQUE</td>\n",
              "      <td>Vins rouges</td>\n",
              "      <td>Boissons</td>\n",
              "      <td>Bordeaux</td>\n",
              "    </tr>\n",
              "    <tr>\n",
              "      <th>3968</th>\n",
              "      <td>88189</td>\n",
              "      <td>Champagne Canard Duch&amp;#234;neBrut - 12%vol - 75cl</td>\n",
              "      <td>SANS MARQUE</td>\n",
              "      <td>Champagnes</td>\n",
              "      <td>Boissons</td>\n",
              "      <td>Champagnes Bruts</td>\n",
              "    </tr>\n",
              "    <tr>\n",
              "      <th>3969</th>\n",
              "      <td>88194</td>\n",
              "      <td>Champagne Nicolas FeuillatteBrut Grande R&amp;#233...</td>\n",
              "      <td>SANS MARQUE</td>\n",
              "      <td>Champagnes</td>\n",
              "      <td>Boissons</td>\n",
              "      <td>Champagnes Bruts</td>\n",
              "    </tr>\n",
              "  </tbody>\n",
              "</table>\n",
              "<p>62 rows × 6 columns</p>\n",
              "</div>"
            ],
            "text/plain": [
              "          id  ...                             category\n",
              "272   184630  ...                     autres chocolats\n",
              "373   185687  ...                    chocolat surprise\n",
              "3862   76977  ...         Diététique et jus de légumes\n",
              "3864  124746  ...  Eau aromatisée gazeuse et gazéifiée\n",
              "3865   99082  ...               Boissons à base de thé\n",
              "...      ...  ...                                  ...\n",
              "3957   99819  ...                               Whisky\n",
              "3963  102871  ...                                Rhums\n",
              "3966   87452  ...                             Bordeaux\n",
              "3968   88189  ...                     Champagnes Bruts\n",
              "3969   88194  ...                     Champagnes Bruts\n",
              "\n",
              "[62 rows x 6 columns]"
            ]
          },
          "metadata": {
            "tags": []
          },
          "execution_count": 141
        }
      ]
    },
    {
      "cell_type": "code",
      "metadata": {
        "id": "WFPuZPfai8Sw",
        "colab_type": "code",
        "colab": {}
      },
      "source": [
        "import nltk\n",
        "from nltk.tokenize import word_tokenize"
      ],
      "execution_count": null,
      "outputs": []
    },
    {
      "cell_type": "code",
      "metadata": {
        "id": "AFDbAsRQiZOy",
        "colab_type": "code",
        "colab": {
          "base_uri": "https://localhost:8080/",
          "height": 918
        },
        "outputId": "afc4ceb3-dc7e-45d1-e6c5-12a3d20055fb"
      },
      "source": [
        "# Printing Most occured words featured in the name product as we can see there is a lot of stopwords and ponctuation mark that are inessential\n",
        "names = new_dftext.nomProduit.str.cat(sep=' ')\n",
        "nltk.download('punkt')\n",
        "tokens = word_tokenize(names)\n",
        "vocabulary = set(tokens)\n",
        "print(len(vocabulary))\n",
        "frequency_dist = nltk.FreqDist(tokens)\n",
        "sorted(frequency_dist,key=frequency_dist.__getitem__, reverse=True)[0:50]"
      ],
      "execution_count": null,
      "outputs": [
        {
          "output_type": "stream",
          "text": [
            "[nltk_data] Downloading package punkt to /root/nltk_data...\n",
            "[nltk_data]   Package punkt is already up-to-date!\n",
            "4284\n"
          ],
          "name": "stdout"
        },
        {
          "output_type": "execute_result",
          "data": {
            "text/plain": [
              "['de',\n",
              " 'Eau',\n",
              " '-',\n",
              " 'Boisson',\n",
              " 'Chocolat',\n",
              " 'Jus',\n",
              " 'Bière',\n",
              " '%',\n",
              " 'jus',\n",
              " ',',\n",
              " 'Pâques',\n",
              " 'au',\n",
              " 'à',\n",
              " 'gazeuse',\n",
              " '&',\n",
              " 'minérale',\n",
              " 'sans',\n",
              " 'fruits',\n",
              " 'citron',\n",
              " 'naturelle',\n",
              " 'Soda',\n",
              " 'lait',\n",
              " 'pulpe',\n",
              " '1l',\n",
              " \"d'orange\",\n",
              " 'Pur',\n",
              " 'et',\n",
              " 'blonde',\n",
              " 'aux',\n",
              " 'Sirop',\n",
              " 'bio',\n",
              " 'pêche',\n",
              " '75cl',\n",
              " 'sucres',\n",
              " 'Whisky',\n",
              " 'Champagne',\n",
              " 'CARREFOUR',\n",
              " 'vert',\n",
              " 'aromatisée',\n",
              " 'saveur',\n",
              " '70cl',\n",
              " '#',\n",
              " 'Auchan',\n",
              " ';',\n",
              " 'Palette',\n",
              " 'pomme',\n",
              " 'la',\n",
              " 'Mascara',\n",
              " 'Parfum',\n",
              " 'orange']"
            ]
          },
          "metadata": {
            "tags": []
          },
          "execution_count": 143
        }
      ]
    },
    {
      "cell_type": "code",
      "metadata": {
        "id": "5iE8YZ53jwz1",
        "colab_type": "code",
        "colab": {
          "base_uri": "https://localhost:8080/",
          "height": 918
        },
        "outputId": "f39b9531-e482-46fe-fb1a-6ebaa3d33e9e"
      },
      "source": [
        "# Removing stopwords and inessential ponctuation mark\n",
        "from nltk.corpus import stopwords\n",
        "nltk.download('stopwords')\n",
        "\n",
        "stop_words = set(stopwords.words('french'))\n",
        "#ponctuation = ['!','”','$','(',')','*','+',',','-','.','/',':',';','<','=','>','?','@','[','\\'',']','^','_','`','{','|','}','~','\\t','\\n']\n",
        "\n",
        "tokens = [w for w in tokens if (not w in stop_words)]\n",
        "vocabulary = set(tokens)\n",
        "print(len(vocabulary))\n",
        "frequency_dist = nltk.FreqDist(tokens)\n",
        "sorted(frequency_dist,key=frequency_dist.__getitem__, reverse=True)[0:50]"
      ],
      "execution_count": null,
      "outputs": [
        {
          "output_type": "stream",
          "text": [
            "[nltk_data] Downloading package stopwords to /root/nltk_data...\n",
            "[nltk_data]   Package stopwords is already up-to-date!\n",
            "4254\n"
          ],
          "name": "stdout"
        },
        {
          "output_type": "execute_result",
          "data": {
            "text/plain": [
              "['Eau',\n",
              " '-',\n",
              " 'Boisson',\n",
              " 'Chocolat',\n",
              " 'Jus',\n",
              " 'Bière',\n",
              " '%',\n",
              " 'jus',\n",
              " ',',\n",
              " 'Pâques',\n",
              " 'gazeuse',\n",
              " '&',\n",
              " 'minérale',\n",
              " 'sans',\n",
              " 'fruits',\n",
              " 'citron',\n",
              " 'naturelle',\n",
              " 'Soda',\n",
              " 'lait',\n",
              " 'pulpe',\n",
              " '1l',\n",
              " \"d'orange\",\n",
              " 'Pur',\n",
              " 'blonde',\n",
              " 'Sirop',\n",
              " 'bio',\n",
              " 'pêche',\n",
              " '75cl',\n",
              " 'sucres',\n",
              " 'Whisky',\n",
              " 'Champagne',\n",
              " 'CARREFOUR',\n",
              " 'vert',\n",
              " 'aromatisée',\n",
              " 'saveur',\n",
              " '70cl',\n",
              " '#',\n",
              " 'Auchan',\n",
              " ';',\n",
              " 'Palette',\n",
              " 'pomme',\n",
              " 'Mascara',\n",
              " 'Parfum',\n",
              " 'orange',\n",
              " '1L',\n",
              " 'DE',\n",
              " 'ajoutés',\n",
              " 'rouge',\n",
              " 'pur',\n",
              " 'brut']"
            ]
          },
          "metadata": {
            "tags": []
          },
          "execution_count": 144
        }
      ]
    },
    {
      "cell_type": "code",
      "metadata": {
        "id": "C5VctOGIk4VI",
        "colab_type": "code",
        "colab": {
          "base_uri": "https://localhost:8080/",
          "height": 198
        },
        "outputId": "b7ea4f2c-76bc-45ae-f464-a515c565a399"
      },
      "source": [
        "from wordcloud import WordCloud\n",
        "import matplotlib.pyplot as plt\n",
        "wordcloud = WordCloud().generate_from_frequencies(frequency_dist)\n",
        "plt.imshow(wordcloud)\n",
        "plt.axis(\"off\")\n",
        "plt.show()"
      ],
      "execution_count": null,
      "outputs": [
        {
          "output_type": "display_data",
          "data": {
            "image/png": "[encoded data removed]",
            "text/plain": [
              "<Figure size 432x288 with 1 Axes>"
            ]
          },
          "metadata": {
            "tags": [],
            "needs_background": "light"
          }
        }
      ]
    },
    {
      "cell_type": "code",
      "metadata": {
        "id": "2O04MvvnocOf",
        "colab_type": "code",
        "colab": {
          "base_uri": "https://localhost:8080/",
          "height": 88
        },
        "outputId": "0e09c868-b9a7-48c6-affe-2817595667ed"
      },
      "source": [
        "# Converting test to sequence of words\n",
        "from keras.preprocessing.text import text_to_word_sequence\n",
        "from nltk.corpus import stopwords\n",
        "nltk.download('stopwords')\n",
        "\n",
        "# define the document\n",
        "result=[]\n",
        "tokens = []\n",
        "for i,produit in enumerate(new_dftext.nomProduit.values):\n",
        "  # tokenize the document\n",
        "  words = text_to_word_sequence(produit,filters='!”$()*+,-./:;<=>?@[\\\\]^_`{|}~\\t\\n')\n",
        "  stop_words = set(stopwords.words('french'))\n",
        "  words = [w for w in words if not w in stop_words]\n",
        "  tokens += [w for w in words]\n",
        "  result.append(words)\n",
        "\n",
        "print(result[0:5])\n",
        "new_dftext['nomProduit']=result\n"
      ],
      "execution_count": null,
      "outputs": [
        {
          "output_type": "stream",
          "text": [
            "[nltk_data] Downloading package stopwords to /root/nltk_data...\n",
            "[nltk_data]   Package stopwords is already up-to-date!\n",
            "[['pressade', 'nectar', 'thé', 'pêche', 'bio', '6x20cl'], ['andros', 'pur', 'jus', \"d'oranges\", 'pressées', 'pulpe', '1l'], ['tropicana', 'pure', 'premium', 'jus', 'pommes', 'pressées', '1l'], ['tropicana', 'pur', 'jus', 'ananas', 'citron', 'vert', '1l'], ['innocent', 'pur', 'jus', \"d'oranges\", 'sanguines', '90cl']]\n"
          ],
          "name": "stdout"
        }
      ]
    },
    {
      "cell_type": "code",
      "metadata": {
        "id": "hnMWBjjCrw1W",
        "colab_type": "code",
        "colab": {
          "base_uri": "https://localhost:8080/",
          "height": 359
        },
        "outputId": "8eb21bd9-be7c-404b-bfa7-d1b709c10177"
      },
      "source": [
        "new_dftext.head(10)"
      ],
      "execution_count": null,
      "outputs": [
        {
          "output_type": "execute_result",
          "data": {
            "text/html": [
              "<div>\n",
              "<style scoped>\n",
              "    .dataframe tbody tr th:only-of-type {\n",
              "        vertical-align: middle;\n",
              "    }\n",
              "\n",
              "    .dataframe tbody tr th {\n",
              "        vertical-align: top;\n",
              "    }\n",
              "\n",
              "    .dataframe thead th {\n",
              "        text-align: right;\n",
              "    }\n",
              "</style>\n",
              "<table border=\"1\" class=\"dataframe\">\n",
              "  <thead>\n",
              "    <tr style=\"text-align: right;\">\n",
              "      <th></th>\n",
              "      <th>id</th>\n",
              "      <th>nomProduit</th>\n",
              "      <th>marque</th>\n",
              "      <th>famille_drive</th>\n",
              "      <th>rayon_drive</th>\n",
              "      <th>category</th>\n",
              "    </tr>\n",
              "  </thead>\n",
              "  <tbody>\n",
              "    <tr>\n",
              "      <th>0</th>\n",
              "      <td>9632</td>\n",
              "      <td>[pressade, nectar, thé, pêche, bio, 6x20cl]</td>\n",
              "      <td>PRESSADE</td>\n",
              "      <td>Epicerie sucrée</td>\n",
              "      <td>Bio &amp; Ecolo</td>\n",
              "      <td>Boissons à base de thé</td>\n",
              "    </tr>\n",
              "    <tr>\n",
              "      <th>1</th>\n",
              "      <td>11316</td>\n",
              "      <td>[andros, pur, jus, d'oranges, pressées, pulpe,...</td>\n",
              "      <td>ANDROS</td>\n",
              "      <td>Jus d'orange</td>\n",
              "      <td>Fruits &amp; légumes</td>\n",
              "      <td>Jus et nectars à l'orange</td>\n",
              "    </tr>\n",
              "    <tr>\n",
              "      <th>2</th>\n",
              "      <td>11322</td>\n",
              "      <td>[tropicana, pure, premium, jus, pommes, pressé...</td>\n",
              "      <td>TROPICANA</td>\n",
              "      <td>Jus d'orange</td>\n",
              "      <td>Fruits &amp; légumes</td>\n",
              "      <td>Jus de pomme</td>\n",
              "    </tr>\n",
              "    <tr>\n",
              "      <th>3</th>\n",
              "      <td>11324</td>\n",
              "      <td>[tropicana, pur, jus, ananas, citron, vert, 1l]</td>\n",
              "      <td>TROPICANA</td>\n",
              "      <td>Jus d'orange</td>\n",
              "      <td>Fruits &amp; légumes</td>\n",
              "      <td>Mélanges de fruits</td>\n",
              "    </tr>\n",
              "    <tr>\n",
              "      <th>4</th>\n",
              "      <td>188</td>\n",
              "      <td>[innocent, pur, jus, d'oranges, sanguines, 90cl]</td>\n",
              "      <td>INNOCENT</td>\n",
              "      <td>Jus d'orange</td>\n",
              "      <td>Fruits &amp; légumes</td>\n",
              "      <td>Jus et nectars à l'orange</td>\n",
              "    </tr>\n",
              "    <tr>\n",
              "      <th>5</th>\n",
              "      <td>192</td>\n",
              "      <td>[innocent, pur, jus, d'oranges, pulpe, 90cl]</td>\n",
              "      <td>INNOCENT</td>\n",
              "      <td>Jus d'orange</td>\n",
              "      <td>Fruits &amp; légumes</td>\n",
              "      <td>Jus et nectars à l'orange</td>\n",
              "    </tr>\n",
              "    <tr>\n",
              "      <th>6</th>\n",
              "      <td>178</td>\n",
              "      <td>[innocent, pur, jus, d'oranges, sans, pulpe, 9...</td>\n",
              "      <td>INNOCENT</td>\n",
              "      <td>Jus d'orange</td>\n",
              "      <td>Fruits &amp; légumes</td>\n",
              "      <td>Jus et nectars à l'orange</td>\n",
              "    </tr>\n",
              "    <tr>\n",
              "      <th>7</th>\n",
              "      <td>139524</td>\n",
              "      <td>[andros, pur, jus, d'oranges, sans, pulpe, 1l]</td>\n",
              "      <td>ANDROS</td>\n",
              "      <td>Jus d'orange</td>\n",
              "      <td>Fruits &amp; légumes</td>\n",
              "      <td>Jus et nectars à l'orange</td>\n",
              "    </tr>\n",
              "    <tr>\n",
              "      <th>8</th>\n",
              "      <td>223606</td>\n",
              "      <td>[andros, pur, jus, d'oranges, pressées, sans, ...</td>\n",
              "      <td>ANDROS</td>\n",
              "      <td>Jus d'orange</td>\n",
              "      <td>Fruits &amp; légumes</td>\n",
              "      <td>Jus et nectars à l'orange</td>\n",
              "    </tr>\n",
              "    <tr>\n",
              "      <th>9</th>\n",
              "      <td>202</td>\n",
              "      <td>[tropicana, pur, jus, d'oranges, pressées, pul...</td>\n",
              "      <td>TROPICANA</td>\n",
              "      <td>Jus d'orange</td>\n",
              "      <td>Fruits &amp; légumes</td>\n",
              "      <td>Jus et nectars à l'orange</td>\n",
              "    </tr>\n",
              "  </tbody>\n",
              "</table>\n",
              "</div>"
            ],
            "text/plain": [
              "       id  ...                   category\n",
              "0    9632  ...     Boissons à base de thé\n",
              "1   11316  ...  Jus et nectars à l'orange\n",
              "2   11322  ...               Jus de pomme\n",
              "3   11324  ...         Mélanges de fruits\n",
              "4     188  ...  Jus et nectars à l'orange\n",
              "5     192  ...  Jus et nectars à l'orange\n",
              "6     178  ...  Jus et nectars à l'orange\n",
              "7  139524  ...  Jus et nectars à l'orange\n",
              "8  223606  ...  Jus et nectars à l'orange\n",
              "9     202  ...  Jus et nectars à l'orange\n",
              "\n",
              "[10 rows x 6 columns]"
            ]
          },
          "metadata": {
            "tags": []
          },
          "execution_count": 147
        }
      ]
    },
    {
      "cell_type": "code",
      "metadata": {
        "id": "AqLWAiSJ4t0A",
        "colab_type": "code",
        "colab": {
          "base_uri": "https://localhost:8080/",
          "height": 34
        },
        "outputId": "11c81e58-a034-46b2-ae02-c580f613c477"
      },
      "source": [
        "len(set(tokens)) #vocab_size"
      ],
      "execution_count": null,
      "outputs": [
        {
          "output_type": "execute_result",
          "data": {
            "text/plain": [
              "3307"
            ]
          },
          "metadata": {
            "tags": []
          },
          "execution_count": 148
        }
      ]
    },
    {
      "cell_type": "code",
      "metadata": {
        "id": "oCKeZNJY-UL6",
        "colab_type": "code",
        "colab": {
          "base_uri": "https://localhost:8080/",
          "height": 1000
        },
        "outputId": "18a44209-a647-43a5-b5cf-f9cb6b9e7e90"
      },
      "source": [
        "# Defining word_to_id mapping words to integers\n",
        "tmp_vocabulary = set(tokens)\n",
        "vocabulary = list(set(tokens))\n",
        "vocabulary += ['<START>','<UKN>','<END>','<PAD>']\n",
        "\n",
        "vocab_size = len(vocabulary)\n",
        "print(vocab_size)\n",
        "word_to_id = {}\n",
        "word_to_id['<PAD>']=0\n",
        "word_to_id['<START>']=1\n",
        "word_to_id['<UKN>']=2\n",
        "word_to_id['<END>']=3\n",
        "for i, c in enumerate(tmp_vocabulary):\n",
        "  word_to_id[c]=i+4\n",
        "word_to_id"
      ],
      "execution_count": null,
      "outputs": [
        {
          "output_type": "stream",
          "text": [
            "3311\n"
          ],
          "name": "stdout"
        },
        {
          "output_type": "execute_result",
          "data": {
            "text/plain": [
              "{'<PAD>': 0,\n",
              " '<START>': 1,\n",
              " '<UKN>': 2,\n",
              " '<END>': 3,\n",
              " 'frontal': 4,\n",
              " 'corse': 5,\n",
              " 'alchemist': 6,\n",
              " 'versant': 7,\n",
              " 'chinois': 8,\n",
              " 'mettre': 9,\n",
              " 'guilty': 10,\n",
              " 'awake': 11,\n",
              " 'rides': 12,\n",
              " 'badoit': 13,\n",
              " 'chocolaté': 14,\n",
              " '2017': 15,\n",
              " '2019': 16,\n",
              " \"daniel's\": 17,\n",
              " 'uomo': 18,\n",
              " 'pamplelune': 19,\n",
              " 'bières': 20,\n",
              " 'carionmerlot': 21,\n",
              " 'grimbergen': 22,\n",
              " 'deal': 23,\n",
              " '12x33cl': 24,\n",
              " 'finest40%vol': 25,\n",
              " 'heaven': 26,\n",
              " 'but': 27,\n",
              " 'cochon': 28,\n",
              " 'sill1l': 29,\n",
              " 'angelo': 30,\n",
              " 'impérial': 31,\n",
              " '25cl': 32,\n",
              " 'emporio': 33,\n",
              " 'forever': 34,\n",
              " 'france\"': 35,\n",
              " 'hydration': 36,\n",
              " 'hour®': 37,\n",
              " 'melange': 38,\n",
              " 'lemonbouteille': 39,\n",
              " 'apple': 40,\n",
              " 'fiction': 41,\n",
              " 'kilian': 42,\n",
              " 'luminizing': 43,\n",
              " 'home': 44,\n",
              " 'fake': 45,\n",
              " 'agrum&#39': 46,\n",
              " 'intensément': 47,\n",
              " \"j'adore\": 48,\n",
              " 'lansonbrut': 49,\n",
              " 'raclette': 50,\n",
              " 'nutri': 51,\n",
              " 'obsessed': 52,\n",
              " 'syrah': 53,\n",
              " 'clarifiante': 54,\n",
              " 'pocket': 55,\n",
              " 'toilette': 56,\n",
              " 'ozone': 57,\n",
              " 'hydratante': 58,\n",
              " 'miss': 59,\n",
              " 'town': 60,\n",
              " 'fairies': 61,\n",
              " 'pressée': 62,\n",
              " 'citron': 63,\n",
              " 'marie': 64,\n",
              " 'régénérant': 65,\n",
              " 'gaffelière': 66,\n",
              " 'fromage': 67,\n",
              " 'fresh': 68,\n",
              " 'daisy': 69,\n",
              " 'precision': 70,\n",
              " 'little': 71,\n",
              " 'jet': 72,\n",
              " 'lotion': 73,\n",
              " \"d'arsac\": 74,\n",
              " 'liquide': 75,\n",
              " 'asséchant': 76,\n",
              " '\"le': 77,\n",
              " 'concentrés': 78,\n",
              " 'beauty': 79,\n",
              " 'planet': 80,\n",
              " 'prodigieuse': 81,\n",
              " 'phyto': 82,\n",
              " 'kiwis': 83,\n",
              " 'nights': 84,\n",
              " 'hommelbier': 85,\n",
              " 'hydrating': 86,\n",
              " 'nouvel': 87,\n",
              " 'pierre': 88,\n",
              " 'diabolique': 89,\n",
              " 'escapade': 90,\n",
              " 'encre': 91,\n",
              " 'terre': 92,\n",
              " 'simon': 93,\n",
              " 'apéritif': 94,\n",
              " 'electric': 95,\n",
              " 'anything': 96,\n",
              " 'reines': 97,\n",
              " 'village': 98,\n",
              " 'ecrins': 99,\n",
              " 'citrona': 100,\n",
              " '9%vol': 101,\n",
              " 'finition': 102,\n",
              " 'moulages': 103,\n",
              " 'landes': 104,\n",
              " 'graphic': 105,\n",
              " 'bush': 106,\n",
              " 'reflets': 107,\n",
              " 'vieux': 108,\n",
              " 'sceau': 109,\n",
              " 'blaye': 110,\n",
              " 'citrons': 111,\n",
              " 'ambr&#233': 112,\n",
              " 'lash': 113,\n",
              " 'vitalité': 114,\n",
              " 'sarment': 115,\n",
              " 'facile': 116,\n",
              " 'boîte': 117,\n",
              " \"d'tox\": 118,\n",
              " 'gel': 119,\n",
              " 'sucres': 120,\n",
              " 'bourg': 121,\n",
              " 'legendary': 122,\n",
              " 'prisme': 123,\n",
              " 'moisture': 124,\n",
              " 'lancome': 125,\n",
              " 'sultry': 126,\n",
              " 'sublimage': 127,\n",
              " 'curling': 128,\n",
              " 'estée': 129,\n",
              " '20cl': 130,\n",
              " 'jack': 131,\n",
              " 'cocoon': 132,\n",
              " 'multi': 133,\n",
              " 'tincture': 134,\n",
              " 'clan': 135,\n",
              " 'ambient': 136,\n",
              " 'essence': 137,\n",
              " '7': 138,\n",
              " 'premium': 139,\n",
              " 'look': 140,\n",
              " 'atlantique': 141,\n",
              " 'bourbon': 142,\n",
              " 'heidsieckbrut': 143,\n",
              " 'gelée': 144,\n",
              " 'vamp': 145,\n",
              " 's1': 146,\n",
              " 'rosy': 147,\n",
              " 'amand6x50cl': 148,\n",
              " 'show': 149,\n",
              " 'warenghem': 150,\n",
              " 'cosmia': 151,\n",
              " 'shootmultivitaminé': 152,\n",
              " 'glide': 153,\n",
              " 'anisé': 154,\n",
              " 'mellow': 155,\n",
              " 'chant': 156,\n",
              " \"card'hu\": 157,\n",
              " 'fruit\"': 158,\n",
              " 'montaudon': 159,\n",
              " 'cadet': 160,\n",
              " 'thonon6x1': 161,\n",
              " 'bio': 162,\n",
              " 'tête': 163,\n",
              " 'fûts': 164,\n",
              " \"d'éponges\": 165,\n",
              " 'bois': 166,\n",
              " 'juice': 167,\n",
              " '50cl': 168,\n",
              " 'multifruit': 169,\n",
              " 'saint': 170,\n",
              " '3x33cl': 171,\n",
              " 'cl': 172,\n",
              " 'pa': 173,\n",
              " 'vintage': 174,\n",
              " 'orientali': 175,\n",
              " 'fete': 176,\n",
              " 'appelations': 177,\n",
              " 'nomade': 178,\n",
              " \"women'secret\": 179,\n",
              " 'beam40%vol': 180,\n",
              " 'glacé': 181,\n",
              " 'multifruits': 182,\n",
              " 'twist': 183,\n",
              " 'recovery': 184,\n",
              " 'setting': 185,\n",
              " 'mazet': 186,\n",
              " 'confiserie': 187,\n",
              " 'gallery': 188,\n",
              " 'carrefour': 189,\n",
              " 'signature': 190,\n",
              " 'lighting': 191,\n",
              " 'seven': 192,\n",
              " 'cerise': 193,\n",
              " 'coach': 194,\n",
              " 'waterproof': 195,\n",
              " 'ball': 196,\n",
              " 'soft': 197,\n",
              " 'réfrigérés': 198,\n",
              " 'superstar': 199,\n",
              " 'table': 200,\n",
              " 'aoc': 201,\n",
              " 'blossom': 202,\n",
              " 'palette': 203,\n",
              " 'mousse': 204,\n",
              " 'dyno': 205,\n",
              " 'désaltérant': 206,\n",
              " 'végétau': 207,\n",
              " '6x25cl': 208,\n",
              " 'travel': 209,\n",
              " 'olympéa': 210,\n",
              " 'montagne': 211,\n",
              " 'ballantines': 212,\n",
              " 'basilic': 213,\n",
              " \"d'orient\": 214,\n",
              " 'masque': 215,\n",
              " 'maquillage': 216,\n",
              " 'agricole': 217,\n",
              " 'primaires': 218,\n",
              " '35%': 219,\n",
              " \"d'auvergne\": 220,\n",
              " 'under': 221,\n",
              " \"d'arômes\": 222,\n",
              " 'pointe': 223,\n",
              " 'chêne': 224,\n",
              " 'schokobons': 225,\n",
              " 'caraïbes': 226,\n",
              " 'jb': 227,\n",
              " 'edt': 228,\n",
              " 's40%vol': 229,\n",
              " 'hd': 230,\n",
              " 'fluide': 231,\n",
              " 'chat': 232,\n",
              " '60cl': 233,\n",
              " 'cie': 234,\n",
              " 'panda': 235,\n",
              " 'distillerie': 236,\n",
              " 'femme': 237,\n",
              " \"bul'z\": 238,\n",
              " 'pumpkin': 239,\n",
              " 'micronutrient': 240,\n",
              " 'nudes': 241,\n",
              " 'ans': 242,\n",
              " 'di': 243,\n",
              " 'tin': 244,\n",
              " \"d'argouges\": 245,\n",
              " 'teisseiremojito': 246,\n",
              " 'my': 247,\n",
              " 'iridescente': 248,\n",
              " \"sacrée''\": 249,\n",
              " 'n°23': 250,\n",
              " 'cheek': 251,\n",
              " 'villars': 252,\n",
              " 'gone': 253,\n",
              " 're': 254,\n",
              " 'l12': 255,\n",
              " '1x5l': 256,\n",
              " 'seductive': 257,\n",
              " 'loch': 258,\n",
              " 'flashmasque': 259,\n",
              " 'vitamin': 260,\n",
              " 'jim': 261,\n",
              " 'pistache': 262,\n",
              " 'céréales': 263,\n",
              " 'superprimer': 264,\n",
              " 'tenue': 265,\n",
              " 'rockateur': 266,\n",
              " '#7': 267,\n",
              " 'chouffe': 268,\n",
              " 'psychik': 269,\n",
              " 'naturally': 270,\n",
              " 'ointment': 271,\n",
              " 'it’s': 272,\n",
              " 'her': 273,\n",
              " 'shooticed': 274,\n",
              " 'intense': 275,\n",
              " 'bretagne': 276,\n",
              " 'wattwiller': 277,\n",
              " 'karmeliet': 278,\n",
              " 'orgasm': 279,\n",
              " 'blush': 280,\n",
              " 'marjolaine': 281,\n",
              " 'away': 282,\n",
              " '2x33cl': 283,\n",
              " 'opening': 284,\n",
              " 'brit': 285,\n",
              " 'glimmerize': 286,\n",
              " 'maximator': 287,\n",
              " '8x20cl': 288,\n",
              " 'miraculous': 289,\n",
              " 'illusione': 290,\n",
              " 'wattwillernaturelle': 291,\n",
              " 'vahine': 292,\n",
              " \"d'\": 293,\n",
              " 'mous': 294,\n",
              " 'at': 295,\n",
              " 'naturel': 296,\n",
              " 'lil': 297,\n",
              " 'premiere': 298,\n",
              " 'naked': 299,\n",
              " 'kombucha': 300,\n",
              " 'chloé': 301,\n",
              " 'rousse': 302,\n",
              " 'riz': 303,\n",
              " 'fétiche': 304,\n",
              " 'reserve': 305,\n",
              " 'paupières': 306,\n",
              " 'fondant': 307,\n",
              " 'mp': 308,\n",
              " 'mûre': 309,\n",
              " 'pol': 310,\n",
              " \"oliver's\": 311,\n",
              " 'nestle': 312,\n",
              " 'energydoctor': 313,\n",
              " 'nuxuriance': 314,\n",
              " \"d'hermès\": 315,\n",
              " 'aromatics': 316,\n",
              " 'crêpe': 317,\n",
              " 'love': 318,\n",
              " 'louna': 319,\n",
              " 'corail': 320,\n",
              " 'shopping': 321,\n",
              " 'baby': 322,\n",
              " 'renaissance': 323,\n",
              " 'million': 324,\n",
              " '2': 325,\n",
              " 'leo': 326,\n",
              " 'perfectdraft': 327,\n",
              " 'special': 328,\n",
              " 'biscuit': 329,\n",
              " 'neon': 330,\n",
              " 'london': 331,\n",
              " 'evercalm': 332,\n",
              " 'coffret': 333,\n",
              " 'loverdose': 334,\n",
              " '6x50cl': 335,\n",
              " 'pinceaux': 336,\n",
              " 'scrub': 337,\n",
              " 'samsara': 338,\n",
              " 'cleansing': 339,\n",
              " 'jura': 340,\n",
              " 'traitante': 341,\n",
              " 'ginette': 342,\n",
              " 'ancienne': 343,\n",
              " 'cherrysia': 344,\n",
              " 'maracuja': 345,\n",
              " 'amande': 346,\n",
              " 'florent': 347,\n",
              " 'rives': 348,\n",
              " 'tm': 349,\n",
              " 'irlandaise': 350,\n",
              " 'argile': 351,\n",
              " 'orangettes': 352,\n",
              " 'décorés': 353,\n",
              " 'man': 354,\n",
              " 'camo': 355,\n",
              " 'sublimateur': 356,\n",
              " 'dark': 357,\n",
              " 'thomas': 358,\n",
              " 'grouse': 359,\n",
              " 'lefèvre': 360,\n",
              " 'pout': 361,\n",
              " 'véritable': 362,\n",
              " 'pipeline': 363,\n",
              " 'selection': 364,\n",
              " 'balancing': 365,\n",
              " 'clotilde': 366,\n",
              " 'cubanisto': 367,\n",
              " '500': 368,\n",
              " '176': 369,\n",
              " '24h': 370,\n",
              " 'réunion': 371,\n",
              " 'louis': 372,\n",
              " 'makeup': 373,\n",
              " 'razzle': 374,\n",
              " 'végétal': 375,\n",
              " 'chantet': 376,\n",
              " 'popping': 377,\n",
              " 'finest': 378,\n",
              " 'paw': 379,\n",
              " 'malbec': 380,\n",
              " 'name': 381,\n",
              " 'skoll': 382,\n",
              " 'agneaux': 383,\n",
              " 'écrin': 384,\n",
              " 'jr': 385,\n",
              " 'hyper': 386,\n",
              " 'purifiant': 387,\n",
              " 'ecitron': 388,\n",
              " 'ajoutées': 389,\n",
              " 'calèche': 390,\n",
              " 'festival': 391,\n",
              " 'live': 392,\n",
              " 'hypnose': 393,\n",
              " 'indécence': 394,\n",
              " 'rale': 395,\n",
              " \"d'estournel\": 396,\n",
              " 'sheer': 397,\n",
              " 'dust': 398,\n",
              " 'vida': 399,\n",
              " 'gocce': 400,\n",
              " 'liquistick': 401,\n",
              " 'margherita': 402,\n",
              " 'emu': 403,\n",
              " 'bacon': 404,\n",
              " 'légume': 405,\n",
              " 'glycolic': 406,\n",
              " 'rum': 407,\n",
              " 'roche': 408,\n",
              " 'valentin': 409,\n",
              " 'wood40%vol': 410,\n",
              " 'bites': 411,\n",
              " 'frangipani': 412,\n",
              " 'caresse': 413,\n",
              " 'blanet': 414,\n",
              " 'morning': 415,\n",
              " 'tropicaux': 416,\n",
              " 'carli': 417,\n",
              " 'goddess': 418,\n",
              " 'monopoleclassic': 419,\n",
              " 'estephe': 420,\n",
              " 'emmental': 421,\n",
              " 'fibres': 422,\n",
              " 'sculpt': 423,\n",
              " 'dinosaures': 424,\n",
              " 'programme': 425,\n",
              " 'chandonimpérial': 426,\n",
              " 'marker': 427,\n",
              " 'umbrian': 428,\n",
              " 'sugarbomb': 429,\n",
              " 'libertine': 430,\n",
              " 'recourbés': 431,\n",
              " 'robouteille': 432,\n",
              " 'feuillate': 433,\n",
              " 'bioregenerate': 434,\n",
              " 'advanced': 435,\n",
              " 'orangina6x25cl': 436,\n",
              " 'shot': 437,\n",
              " 'iced': 438,\n",
              " 'smudger': 439,\n",
              " 'éléphant': 440,\n",
              " 'réveil': 441,\n",
              " 'n°70': 442,\n",
              " 'démultipliés': 443,\n",
              " 'studded': 444,\n",
              " 'treatment': 445,\n",
              " 'coeur': 446,\n",
              " \"l'intemporel\": 447,\n",
              " 'pepper': 448,\n",
              " 'jicky': 449,\n",
              " 'mystique': 450,\n",
              " 'jardin': 451,\n",
              " 'mas': 452,\n",
              " 'capri': 453,\n",
              " '08': 454,\n",
              " \"l'essentiel\": 455,\n",
              " 'galatée': 456,\n",
              " 'barrel': 457,\n",
              " 'liquid': 458,\n",
              " 'lot': 459,\n",
              " 'orangina': 460,\n",
              " 'sì': 461,\n",
              " 'poivron': 462,\n",
              " 'absolu': 463,\n",
              " 'mac': 464,\n",
              " 'carta': 465,\n",
              " 'lipton': 466,\n",
              " '33cl': 467,\n",
              " 'lipocils': 468,\n",
              " 'vezelay': 469,\n",
              " 'fuenté': 470,\n",
              " 'pinceau': 471,\n",
              " 'voyeur': 472,\n",
              " '8™': 473,\n",
              " '100ml': 474,\n",
              " 'célestins6x50cl': 475,\n",
              " 'rosa': 476,\n",
              " 'passiflora': 477,\n",
              " 'deluxe': 478,\n",
              " 'emilion': 479,\n",
              " 'pères': 480,\n",
              " 'sachet': 481,\n",
              " 'basics': 482,\n",
              " 'mercury': 483,\n",
              " 'nesteathé': 484,\n",
              " 'exotique': 485,\n",
              " 'corps': 486,\n",
              " 'nighter': 487,\n",
              " \"roll'ink\": 488,\n",
              " 'gioia': 489,\n",
              " 'waterlock': 490,\n",
              " 'tekiros': 491,\n",
              " 'pillardot': 492,\n",
              " 'azélaique': 493,\n",
              " 'frères': 494,\n",
              " 'maïs': 495,\n",
              " 'costa': 496,\n",
              " 'rouge6x1l': 497,\n",
              " 'bodied': 498,\n",
              " 'classic': 499,\n",
              " 'bear': 500,\n",
              " 'lips': 501,\n",
              " 'kayali': 502,\n",
              " 'abricot': 503,\n",
              " 'pop': 504,\n",
              " 'ch': 505,\n",
              " 'amie': 506,\n",
              " 'gazeuse': 507,\n",
              " 'britt': 508,\n",
              " 'plumprageous': 509,\n",
              " 'pommery': 510,\n",
              " 'protect': 511,\n",
              " 'embout': 512,\n",
              " 'n°60': 513,\n",
              " 'ginseng': 514,\n",
              " 'fruits1': 515,\n",
              " 'n°5': 516,\n",
              " 'minéralle': 517,\n",
              " 'monde': 518,\n",
              " 'mothership': 519,\n",
              " 'totale': 520,\n",
              " 'escargos': 521,\n",
              " 'barbie': 522,\n",
              " '51': 523,\n",
              " 'cactus': 524,\n",
              " '4x20cl': 525,\n",
              " 'superliner': 526,\n",
              " 'extraits': 527,\n",
              " 'scent': 528,\n",
              " 'médoc': 529,\n",
              " 'oasismultifruits': 530,\n",
              " 'porter': 531,\n",
              " 'oxygen': 532,\n",
              " 'père': 533,\n",
              " \"panda's\": 534,\n",
              " 'talk': 535,\n",
              " 'yuza': 536,\n",
              " 'ace': 537,\n",
              " 'douceur': 538,\n",
              " 'lardons': 539,\n",
              " 'budweiser': 540,\n",
              " 'poisson': 541,\n",
              " 'maroilles': 542,\n",
              " 'kitty': 543,\n",
              " 'pureté': 544,\n",
              " 'n°12': 545,\n",
              " 'pomme': 546,\n",
              " 'lait': 547,\n",
              " '2x1': 548,\n",
              " 'gosset': 549,\n",
              " 'boîtes': 550,\n",
              " 'illuminateur': 551,\n",
              " 'poires': 552,\n",
              " 'palettes': 553,\n",
              " 'japonais': 554,\n",
              " 'film': 555,\n",
              " 'chivas40%vol': 556,\n",
              " 'pressées': 557,\n",
              " 'diluer': 558,\n",
              " 'délicate': 559,\n",
              " 'pera': 560,\n",
              " 'sail': 561,\n",
              " 'château': 562,\n",
              " 'sirop': 563,\n",
              " '230': 564,\n",
              " 'flavoured': 565,\n",
              " '2016': 566,\n",
              " 'ambre': 567,\n",
              " '10': 568,\n",
              " 'mirror': 569,\n",
              " 'self': 570,\n",
              " 'doctor': 571,\n",
              " 'verdignan': 572,\n",
              " 'charbon': 573,\n",
              " \"d'orange\": 574,\n",
              " 'agir': 575,\n",
              " 'verre': 576,\n",
              " 'explorer': 577,\n",
              " 'briquettes': 578,\n",
              " 'zen': 579,\n",
              " \"l'acide\": 580,\n",
              " 'fruccigrenadine': 581,\n",
              " 'hipster': 582,\n",
              " 'prestille': 583,\n",
              " 'sugar': 584,\n",
              " 'infini': 585,\n",
              " '16x33cl': 586,\n",
              " 'sun': 587,\n",
              " 'hugo': 588,\n",
              " 'bidon': 589,\n",
              " \"l'angelus\": 590,\n",
              " 'poreless': 591,\n",
              " 'skinactive': 592,\n",
              " 'aromatis&#233': 593,\n",
              " 'rosé': 594,\n",
              " 'pastis': 595,\n",
              " \"collector's\": 596,\n",
              " '10x33cl': 597,\n",
              " 'ultra': 598,\n",
              " 'finement': 599,\n",
              " 'amrezy': 600,\n",
              " \"grant'sréserve\": 601,\n",
              " 'voyager': 602,\n",
              " 'game': 603,\n",
              " \"d'orgeblonde\": 604,\n",
              " 'poudrée': 605,\n",
              " 'uptown': 606,\n",
              " 'affligem6x25cl': 607,\n",
              " 'moët': 608,\n",
              " 'xv': 609,\n",
              " 'flyliner': 610,\n",
              " \"grant's\": 611,\n",
              " 'vu': 612,\n",
              " \"m&m's\": 613,\n",
              " 'cellar': 614,\n",
              " 'musical': 615,\n",
              " 'enzyme': 616,\n",
              " 'major': 617,\n",
              " 'madagascarbio': 618,\n",
              " 'plush': 619,\n",
              " 'scintillant': 620,\n",
              " 'canard': 621,\n",
              " 'born': 622,\n",
              " 'capricciosa': 623,\n",
              " 'guiot': 624,\n",
              " 'abeille': 625,\n",
              " 'illicit': 626,\n",
              " \"agrum'4x1l\": 627,\n",
              " 'parfums': 628,\n",
              " \"p'tit\": 629,\n",
              " 'force': 630,\n",
              " 'lacquer': 631,\n",
              " 'poperings': 632,\n",
              " 'litre': 633,\n",
              " \"bio'logique\": 634,\n",
              " 'minute': 635,\n",
              " 'coconut': 636,\n",
              " 'escale': 637,\n",
              " '30%': 638,\n",
              " 'fard': 639,\n",
              " 'cythère': 640,\n",
              " 'rocket': 641,\n",
              " 'bonbon': 642,\n",
              " 'lemoncanette': 643,\n",
              " 'rouges': 644,\n",
              " 'hot': 645,\n",
              " 'spritz': 646,\n",
              " '7up': 647,\n",
              " 'vie': 648,\n",
              " 'proof': 649,\n",
              " 'snake': 650,\n",
              " 'an': 651,\n",
              " 'verte': 652,\n",
              " 'v3': 653,\n",
              " 'light': 654,\n",
              " 'démaquillante': 655,\n",
              " 'fraîche': 656,\n",
              " 'plastique': 657,\n",
              " 'fines': 658,\n",
              " 'control': 659,\n",
              " 'lazulia': 660,\n",
              " 'eternelle': 661,\n",
              " 'arrangé': 662,\n",
              " 'mini': 663,\n",
              " 'parfum30ml': 664,\n",
              " 'levure': 665,\n",
              " 'tradition': 666,\n",
              " 'emerald': 667,\n",
              " 'jafadenbrésil': 668,\n",
              " 'the': 669,\n",
              " 'shackleton': 670,\n",
              " 'quotidienne': 671,\n",
              " 'kids': 672,\n",
              " 'nuit': 673,\n",
              " 'this': 674,\n",
              " 'ursuline': 675,\n",
              " 'bi': 676,\n",
              " 'pressed': 677,\n",
              " 'bonde': 678,\n",
              " 'trappist': 679,\n",
              " 'face': 680,\n",
              " '25': 681,\n",
              " 'witte': 682,\n",
              " 'leboscq': 683,\n",
              " 'exclusive': 684,\n",
              " 'tiffany&co': 685,\n",
              " 'unlimited': 686,\n",
              " 'offert': 687,\n",
              " 'fromages': 688,\n",
              " 'global': 689,\n",
              " '\"anti': 690,\n",
              " 'citon': 691,\n",
              " 'plastiquede': 692,\n",
              " 'foubouteille': 693,\n",
              " 'd&#39': 694,\n",
              " 'cos': 695,\n",
              " 'nude': 696,\n",
              " 'true': 697,\n",
              " 'stella': 698,\n",
              " 'géante': 699,\n",
              " \"l'avent\": 700,\n",
              " 'sexy': 701,\n",
              " 'male': 702,\n",
              " 'campsey': 703,\n",
              " 'dore': 704,\n",
              " 'camille': 705,\n",
              " 'magic': 706,\n",
              " 'real': 707,\n",
              " 'crush': 708,\n",
              " '85cl': 709,\n",
              " \"don't\": 710,\n",
              " 'eyeshadow': 711,\n",
              " 'frozen': 712,\n",
              " 'tissu': 713,\n",
              " '15g': 714,\n",
              " 'marti': 715,\n",
              " 'darkside': 716,\n",
              " 'éponge': 717,\n",
              " 'praline': 718,\n",
              " 'tropicanass': 719,\n",
              " 'kronenbourg': 720,\n",
              " 'dual': 721,\n",
              " 'upon': 722,\n",
              " 'distilled': 723,\n",
              " 'lashlights': 724,\n",
              " 'bolognaise': 725,\n",
              " 'shalimar': 726,\n",
              " 'plantscription': 727,\n",
              " 'teintée': 728,\n",
              " 'grandiôse': 729,\n",
              " 'fou': 730,\n",
              " 'cordon': 731,\n",
              " 'cloud': 732,\n",
              " 'dillon43%vol': 733,\n",
              " 'ck': 734,\n",
              " 'decay': 735,\n",
              " 'fraîcheur': 736,\n",
              " 'bruges': 737,\n",
              " 'anejo': 738,\n",
              " 'stoeffler': 739,\n",
              " '3x75cl': 740,\n",
              " 'diplomatico': 741,\n",
              " 'to': 742,\n",
              " 'meltdown': 743,\n",
              " 'rossa': 744,\n",
              " 'brune': 745,\n",
              " 'clémentines': 746,\n",
              " 'mirabelle': 747,\n",
              " 'camel': 748,\n",
              " 'than': 749,\n",
              " 'g': 750,\n",
              " 'ceramidin': 751,\n",
              " \"l'assortiment\": 752,\n",
              " '5x2l': 753,\n",
              " 'allongeant': 754,\n",
              " 'body': 755,\n",
              " 'manta': 756,\n",
              " 'asséchante': 757,\n",
              " 'perversion': 758,\n",
              " 'pp': 759,\n",
              " 'retinol': 760,\n",
              " 'nebrut': 761,\n",
              " 'sponge': 762,\n",
              " 'eco': 763,\n",
              " 'beach': 764,\n",
              " 'brut': 765,\n",
              " 'ardente': 766,\n",
              " 'che': 767,\n",
              " 'tomate': 768,\n",
              " 'globale': 769,\n",
              " '33%': 770,\n",
              " 'confiseur': 771,\n",
              " 'lightslim': 772,\n",
              " 'utra': 773,\n",
              " \"phenomen'eyes\": 774,\n",
              " '75l': 775,\n",
              " 'mushroom': 776,\n",
              " 'myrtilles': 777,\n",
              " 'chanau': 778,\n",
              " 'farmy': 779,\n",
              " 'canette': 780,\n",
              " 'take': 781,\n",
              " 'zaini': 782,\n",
              " 'bags': 783,\n",
              " 'x3': 784,\n",
              " 'georges': 785,\n",
              " 'chalks': 786,\n",
              " 'givré': 787,\n",
              " 'paradise': 788,\n",
              " '09': 789,\n",
              " 'bella': 790,\n",
              " 'thonon': 791,\n",
              " 'refermentée': 792,\n",
              " 'legend': 793,\n",
              " 'moulis': 794,\n",
              " 'décoré': 795,\n",
              " 'ferragni': 796,\n",
              " 'princess': 797,\n",
              " 'santal': 798,\n",
              " 'chocolatier': 799,\n",
              " 'escargot': 800,\n",
              " 'antioxidant': 801,\n",
              " 'winter': 802,\n",
              " '6x33cl': 803,\n",
              " 'minuit': 804,\n",
              " \"d'âge\": 805,\n",
              " 'gravitymud': 806,\n",
              " 'fronsac': 807,\n",
              " 'clarté': 808,\n",
              " 'estompe': 809,\n",
              " 'finishing': 810,\n",
              " 'make': 811,\n",
              " 'valdonnep&#234': 812,\n",
              " 'pétillante': 813,\n",
              " 'duvel': 814,\n",
              " 'source': 815,\n",
              " '9%': 816,\n",
              " 'alpro': 817,\n",
              " 'fanta': 818,\n",
              " 'krieka': 819,\n",
              " 'koala': 820,\n",
              " 'nutrition': 821,\n",
              " 'lager': 822,\n",
              " 'normales': 823,\n",
              " 'sel': 824,\n",
              " 'voyage': 825,\n",
              " 'peaches': 826,\n",
              " \"jean'slime\": 827,\n",
              " 'poupée': 828,\n",
              " \"t'œuf\": 829,\n",
              " 'epreuve': 830,\n",
              " 'mille': 831,\n",
              " 'oxydante': 832,\n",
              " '1offert': 833,\n",
              " 'vegan': 834,\n",
              " '7x1': 835,\n",
              " 'patpatrouille': 836,\n",
              " 'lemon': 837,\n",
              " '50ml': 838,\n",
              " '228': 839,\n",
              " 'jolie': 840,\n",
              " 'lestacbordeaux': 841,\n",
              " \"'memento\": 842,\n",
              " 'cinescope': 843,\n",
              " \"o'verger\": 844,\n",
              " 'ultraviolet': 845,\n",
              " 'baume': 846,\n",
              " 'gauche': 847,\n",
              " 'œuf': 848,\n",
              " 'matifiante': 849,\n",
              " '6x20cl': 850,\n",
              " 'watermelon': 851,\n",
              " 'anti': 852,\n",
              " 'frenchy\"': 853,\n",
              " 'boissons': 854,\n",
              " 'monsieur': 855,\n",
              " 'lactic': 856,\n",
              " 'guarana': 857,\n",
              " 'sunset': 858,\n",
              " 'lightbouteille': 859,\n",
              " 'lacoste': 860,\n",
              " 'nuanceur': 861,\n",
              " '\"grande': 862,\n",
              " 'splendida': 863,\n",
              " 'nuxellence': 864,\n",
              " 'goldenland': 865,\n",
              " 'machine': 866,\n",
              " 'kriek': 867,\n",
              " 'holiday': 868,\n",
              " 'buttered': 869,\n",
              " 'beautiful': 870,\n",
              " 'bulles': 871,\n",
              " 'eponge': 872,\n",
              " 'elves': 873,\n",
              " 'ombre': 874,\n",
              " 'divin': 875,\n",
              " 'campbell40%': 876,\n",
              " 'arôme': 877,\n",
              " 'roller': 878,\n",
              " 'right': 879,\n",
              " 'sous': 880,\n",
              " 'squeezable': 881,\n",
              " \"maker's\": 882,\n",
              " 'n°19': 883,\n",
              " 'narciso': 884,\n",
              " \"l'eau\": 885,\n",
              " 'matcha': 886,\n",
              " '50': 887,\n",
              " \"l'original\": 888,\n",
              " 'ii': 889,\n",
              " 'ricard': 890,\n",
              " 'pores': 891,\n",
              " 'z&#233': 892,\n",
              " 'éclat': 893,\n",
              " 'nature': 894,\n",
              " 'fixateur': 895,\n",
              " 'roma': 896,\n",
              " 'power': 897,\n",
              " 'beautyblender': 898,\n",
              " 'sky': 899,\n",
              " 'that': 900,\n",
              " 'exotiques': 901,\n",
              " 'pinot': 902,\n",
              " 'jeunesse': 903,\n",
              " 'wu': 904,\n",
              " 'highlighter': 905,\n",
              " 'moulin': 906,\n",
              " 'flora': 907,\n",
              " 'bertrand': 908,\n",
              " 'capture': 909,\n",
              " 'chimay': 910,\n",
              " 'fritures': 911,\n",
              " 'fahrenheit': 912,\n",
              " 'cils': 913,\n",
              " 'liaisons': 914,\n",
              " 'tenseur': 915,\n",
              " '40°': 916,\n",
              " 'tape': 917,\n",
              " 'pat': 918,\n",
              " 'casks': 919,\n",
              " 'pêches': 920,\n",
              " 'triple': 921,\n",
              " 'ballet': 922,\n",
              " 'mercedes': 923,\n",
              " '5%': 924,\n",
              " 'oversized': 925,\n",
              " 'eyeliner': 926,\n",
              " 'plump': 927,\n",
              " 'star': 928,\n",
              " 'moet': 929,\n",
              " 'caviar': 930,\n",
              " 'solution': 931,\n",
              " 'cerises': 932,\n",
              " 'lash‑expert': 933,\n",
              " 'vanity': 934,\n",
              " 'ferme': 935,\n",
              " 'pepperoni': 936,\n",
              " 'vitamines': 937,\n",
              " 'belge': 938,\n",
              " 'coco': 939,\n",
              " 'line': 940,\n",
              " 'acqua': 941,\n",
              " 'naturels': 942,\n",
              " 'rivieres': 943,\n",
              " '9°': 944,\n",
              " '55°': 945,\n",
              " 'simply': 946,\n",
              " 'u': 947,\n",
              " 'flirt': 948,\n",
              " 'sante': 949,\n",
              " 'valdonnefraise': 950,\n",
              " 'voulez': 951,\n",
              " 'havana': 952,\n",
              " 'infusée': 953,\n",
              " 'of': 954,\n",
              " 'lorina': 955,\n",
              " 'quickie': 956,\n",
              " \"l'oréal\": 957,\n",
              " 'doux': 958,\n",
              " 'wonderland': 959,\n",
              " 'alert': 960,\n",
              " 'radiance': 961,\n",
              " 'ressurfaçante': 962,\n",
              " \"shy'm\": 963,\n",
              " 'kit': 964,\n",
              " 'perché': 965,\n",
              " 'ice': 966,\n",
              " 'célestins': 967,\n",
              " 'duchene': 968,\n",
              " 'prelude': 969,\n",
              " 'blanches': 970,\n",
              " 'palms': 971,\n",
              " 'ever': 972,\n",
              " 'maison': 973,\n",
              " 'hangover': 974,\n",
              " 'regalavec': 975,\n",
              " 'suive': 976,\n",
              " 'guess': 977,\n",
              " 'bière': 978,\n",
              " 'space': 979,\n",
              " 'pore': 980,\n",
              " 'illumination': 981,\n",
              " 'regard': 982,\n",
              " 'glenfiddich': 983,\n",
              " 'audacious': 984,\n",
              " 'féline': 985,\n",
              " 'rocher': 986,\n",
              " 'parfait': 987,\n",
              " 'léo': 988,\n",
              " '8°': 989,\n",
              " 'juicyfraise': 990,\n",
              " '4x250ml': 991,\n",
              " 'taurine': 992,\n",
              " 'purity': 993,\n",
              " 'free': 994,\n",
              " 'dream': 995,\n",
              " 'points': 996,\n",
              " 'ruby': 997,\n",
              " '12°': 998,\n",
              " 'schweppes': 999,\n",
              " ...}"
            ]
          },
          "metadata": {
            "tags": []
          },
          "execution_count": 149
        }
      ]
    },
    {
      "cell_type": "code",
      "metadata": {
        "id": "CODGo7GA2uq_",
        "colab_type": "code",
        "colab": {
          "base_uri": "https://localhost:8080/",
          "height": 71
        },
        "outputId": "c5cced1a-083b-466f-d84c-8db60862be37"
      },
      "source": [
        "# Converting categories to labels\n",
        "df_category = new_dftext['category'].unique()\n",
        "category_to_id = {}\n",
        "for i, c in enumerate(df_category):\n",
        "  category_to_id[c]=i\n",
        "category_to_id['biscuits au chocolat']=44\n",
        "print(category_to_id)\n",
        "print(f\"size = {len(category_to_id)}\")"
      ],
      "execution_count": null,
      "outputs": [
        {
          "output_type": "stream",
          "text": [
            "{0: 0, 1: 1, 2: 2, 3: 3, 4: 4, 5: 5, 6: 6, 7: 7, 8: 8, 9: 9, 10: 10, 11: 11, 12: 12, 13: 13, 14: 14, 15: 15, 16: 16, 17: 17, 18: 18, 19: 19, 20: 20, 21: 21, 22: 22, 23: 23, 24: 24, 25: 25, 26: 26, 27: 27, 28: 28, 29: 29, 30: 30, 31: 31, 32: 32, 33: 33, 34: 34, 35: 35, 36: 36, 37: 37, 38: 38, 39: 39, 40: 40, 41: 41, 42: 42, 43: 43, 'biscuits au chocolat': 44}\n",
            "size = 45\n"
          ],
          "name": "stdout"
        }
      ]
    },
    {
      "cell_type": "code",
      "metadata": {
        "id": "KwwotVo158me",
        "colab_type": "code",
        "colab": {}
      },
      "source": [
        "df_marque = new_dftext['marque'].unique()\n",
        "marque_to_id = {}\n",
        "for i, c in enumerate(df_marque):\n",
        "  marque_to_id[c]=i"
      ],
      "execution_count": null,
      "outputs": []
    },
    {
      "cell_type": "code",
      "metadata": {
        "id": "hT_6LoE86JZd",
        "colab_type": "code",
        "colab": {}
      },
      "source": [
        "df_fd = new_dftext['famille_drive'].unique()\n",
        "fd_to_id = {}\n",
        "for i, c in enumerate(df_fd):\n",
        "  fd_to_id[c]=i"
      ],
      "execution_count": null,
      "outputs": []
    },
    {
      "cell_type": "code",
      "metadata": {
        "id": "oQBinHl76JOI",
        "colab_type": "code",
        "colab": {}
      },
      "source": [
        "df_rd = new_dftext['rayon_drive'].unique()\n",
        "rd_to_id = {}\n",
        "for i, c in enumerate(df_rd):\n",
        "  rd_to_id[c]=i"
      ],
      "execution_count": null,
      "outputs": []
    },
    {
      "cell_type": "code",
      "metadata": {
        "id": "v1EoRItn3K8h",
        "colab_type": "code",
        "colab": {
          "base_uri": "https://localhost:8080/",
          "height": 34
        },
        "outputId": "76aa02a7-4bcf-401f-c1ae-3a3246a3c31b"
      },
      "source": [
        "category = [category_to_id[c] for c in new_dftext.category]\n",
        "new_dftext.category = category\n",
        "category[0:5]"
      ],
      "execution_count": null,
      "outputs": [
        {
          "output_type": "execute_result",
          "data": {
            "text/plain": [
              "[0, 1, 2, 3, 1]"
            ]
          },
          "metadata": {
            "tags": []
          },
          "execution_count": 151
        }
      ]
    },
    {
      "cell_type": "code",
      "metadata": {
        "id": "YwN1N3gh4EpS",
        "colab_type": "code",
        "colab": {
          "base_uri": "https://localhost:8080/",
          "height": 359
        },
        "outputId": "b30fa9fa-11f3-42f9-93a8-f6f386107a18"
      },
      "source": [
        "new_dftext.head(10)"
      ],
      "execution_count": null,
      "outputs": [
        {
          "output_type": "execute_result",
          "data": {
            "text/html": [
              "<div>\n",
              "<style scoped>\n",
              "    .dataframe tbody tr th:only-of-type {\n",
              "        vertical-align: middle;\n",
              "    }\n",
              "\n",
              "    .dataframe tbody tr th {\n",
              "        vertical-align: top;\n",
              "    }\n",
              "\n",
              "    .dataframe thead th {\n",
              "        text-align: right;\n",
              "    }\n",
              "</style>\n",
              "<table border=\"1\" class=\"dataframe\">\n",
              "  <thead>\n",
              "    <tr style=\"text-align: right;\">\n",
              "      <th></th>\n",
              "      <th>id</th>\n",
              "      <th>nomProduit</th>\n",
              "      <th>marque</th>\n",
              "      <th>famille_drive</th>\n",
              "      <th>rayon_drive</th>\n",
              "      <th>category</th>\n",
              "    </tr>\n",
              "  </thead>\n",
              "  <tbody>\n",
              "    <tr>\n",
              "      <th>0</th>\n",
              "      <td>9632</td>\n",
              "      <td>[pressade, nectar, thé, pêche, bio, 6x20cl]</td>\n",
              "      <td>PRESSADE</td>\n",
              "      <td>Epicerie sucrée</td>\n",
              "      <td>Bio &amp; Ecolo</td>\n",
              "      <td>0</td>\n",
              "    </tr>\n",
              "    <tr>\n",
              "      <th>1</th>\n",
              "      <td>11316</td>\n",
              "      <td>[andros, pur, jus, d'oranges, pressées, pulpe,...</td>\n",
              "      <td>ANDROS</td>\n",
              "      <td>Jus d'orange</td>\n",
              "      <td>Fruits &amp; légumes</td>\n",
              "      <td>1</td>\n",
              "    </tr>\n",
              "    <tr>\n",
              "      <th>2</th>\n",
              "      <td>11322</td>\n",
              "      <td>[tropicana, pure, premium, jus, pommes, pressé...</td>\n",
              "      <td>TROPICANA</td>\n",
              "      <td>Jus d'orange</td>\n",
              "      <td>Fruits &amp; légumes</td>\n",
              "      <td>2</td>\n",
              "    </tr>\n",
              "    <tr>\n",
              "      <th>3</th>\n",
              "      <td>11324</td>\n",
              "      <td>[tropicana, pur, jus, ananas, citron, vert, 1l]</td>\n",
              "      <td>TROPICANA</td>\n",
              "      <td>Jus d'orange</td>\n",
              "      <td>Fruits &amp; légumes</td>\n",
              "      <td>3</td>\n",
              "    </tr>\n",
              "    <tr>\n",
              "      <th>4</th>\n",
              "      <td>188</td>\n",
              "      <td>[innocent, pur, jus, d'oranges, sanguines, 90cl]</td>\n",
              "      <td>INNOCENT</td>\n",
              "      <td>Jus d'orange</td>\n",
              "      <td>Fruits &amp; légumes</td>\n",
              "      <td>1</td>\n",
              "    </tr>\n",
              "    <tr>\n",
              "      <th>5</th>\n",
              "      <td>192</td>\n",
              "      <td>[innocent, pur, jus, d'oranges, pulpe, 90cl]</td>\n",
              "      <td>INNOCENT</td>\n",
              "      <td>Jus d'orange</td>\n",
              "      <td>Fruits &amp; légumes</td>\n",
              "      <td>1</td>\n",
              "    </tr>\n",
              "    <tr>\n",
              "      <th>6</th>\n",
              "      <td>178</td>\n",
              "      <td>[innocent, pur, jus, d'oranges, sans, pulpe, 9...</td>\n",
              "      <td>INNOCENT</td>\n",
              "      <td>Jus d'orange</td>\n",
              "      <td>Fruits &amp; légumes</td>\n",
              "      <td>1</td>\n",
              "    </tr>\n",
              "    <tr>\n",
              "      <th>7</th>\n",
              "      <td>139524</td>\n",
              "      <td>[andros, pur, jus, d'oranges, sans, pulpe, 1l]</td>\n",
              "      <td>ANDROS</td>\n",
              "      <td>Jus d'orange</td>\n",
              "      <td>Fruits &amp; légumes</td>\n",
              "      <td>1</td>\n",
              "    </tr>\n",
              "    <tr>\n",
              "      <th>8</th>\n",
              "      <td>223606</td>\n",
              "      <td>[andros, pur, jus, d'oranges, pressées, sans, ...</td>\n",
              "      <td>ANDROS</td>\n",
              "      <td>Jus d'orange</td>\n",
              "      <td>Fruits &amp; légumes</td>\n",
              "      <td>1</td>\n",
              "    </tr>\n",
              "    <tr>\n",
              "      <th>9</th>\n",
              "      <td>202</td>\n",
              "      <td>[tropicana, pur, jus, d'oranges, pressées, pul...</td>\n",
              "      <td>TROPICANA</td>\n",
              "      <td>Jus d'orange</td>\n",
              "      <td>Fruits &amp; légumes</td>\n",
              "      <td>1</td>\n",
              "    </tr>\n",
              "  </tbody>\n",
              "</table>\n",
              "</div>"
            ],
            "text/plain": [
              "       id  ... category\n",
              "0    9632  ...        0\n",
              "1   11316  ...        1\n",
              "2   11322  ...        2\n",
              "3   11324  ...        3\n",
              "4     188  ...        1\n",
              "5     192  ...        1\n",
              "6     178  ...        1\n",
              "7  139524  ...        1\n",
              "8  223606  ...        1\n",
              "9     202  ...        1\n",
              "\n",
              "[10 rows x 6 columns]"
            ]
          },
          "metadata": {
            "tags": []
          },
          "execution_count": 152
        }
      ]
    },
    {
      "cell_type": "code",
      "metadata": {
        "id": "iMpA03dVJHrL",
        "colab_type": "code",
        "colab": {
          "base_uri": "https://localhost:8080/",
          "height": 359
        },
        "outputId": "969878af-8d40-4b1a-bc62-0e4a36a14d7c"
      },
      "source": [
        "# Label Encoding of marque, famille_drive and rayon_drive\n",
        "\n",
        "le_marque = [marque_to_id[c] for c in new_dftext.marque]\n",
        "new_dftext.marque = le_marque\n",
        "\n",
        "le_familledrive = [fd_to_id[c] for c in new_dftext.famille_drive]\n",
        "new_dftext.famille_drive = le_familledrive\n",
        "\n",
        "le_rayondrive = [rd_to_id[c] for c in new_dftext.rayon_drive]\n",
        "new_dftext.rayon_drive = le_rayondrive\n",
        "\n",
        "\n",
        "new_dftext.head(10)"
      ],
      "execution_count": null,
      "outputs": [
        {
          "output_type": "execute_result",
          "data": {
            "text/html": [
              "<div>\n",
              "<style scoped>\n",
              "    .dataframe tbody tr th:only-of-type {\n",
              "        vertical-align: middle;\n",
              "    }\n",
              "\n",
              "    .dataframe tbody tr th {\n",
              "        vertical-align: top;\n",
              "    }\n",
              "\n",
              "    .dataframe thead th {\n",
              "        text-align: right;\n",
              "    }\n",
              "</style>\n",
              "<table border=\"1\" class=\"dataframe\">\n",
              "  <thead>\n",
              "    <tr style=\"text-align: right;\">\n",
              "      <th></th>\n",
              "      <th>id</th>\n",
              "      <th>nomProduit</th>\n",
              "      <th>marque</th>\n",
              "      <th>famille_drive</th>\n",
              "      <th>rayon_drive</th>\n",
              "      <th>category</th>\n",
              "    </tr>\n",
              "  </thead>\n",
              "  <tbody>\n",
              "    <tr>\n",
              "      <th>0</th>\n",
              "      <td>9632</td>\n",
              "      <td>[1, 2285, 2646, 1136, 1766, 162, 850]</td>\n",
              "      <td>0</td>\n",
              "      <td>0</td>\n",
              "      <td>0</td>\n",
              "      <td>0</td>\n",
              "    </tr>\n",
              "    <tr>\n",
              "      <th>1</th>\n",
              "      <td>11316</td>\n",
              "      <td>[1, 1367, 2351, 3160, 2305, 557, 2011, 1780]</td>\n",
              "      <td>1</td>\n",
              "      <td>1</td>\n",
              "      <td>1</td>\n",
              "      <td>1</td>\n",
              "    </tr>\n",
              "    <tr>\n",
              "      <th>2</th>\n",
              "      <td>11322</td>\n",
              "      <td>[1, 1801, 1764, 139, 3160, 2791, 557, 1780]</td>\n",
              "      <td>2</td>\n",
              "      <td>1</td>\n",
              "      <td>1</td>\n",
              "      <td>2</td>\n",
              "    </tr>\n",
              "    <tr>\n",
              "      <th>3</th>\n",
              "      <td>11324</td>\n",
              "      <td>[1, 1801, 2351, 3160, 1050, 63, 2235, 1780]</td>\n",
              "      <td>2</td>\n",
              "      <td>1</td>\n",
              "      <td>1</td>\n",
              "      <td>3</td>\n",
              "    </tr>\n",
              "    <tr>\n",
              "      <th>4</th>\n",
              "      <td>188</td>\n",
              "      <td>[1, 2128, 2351, 3160, 2305, 2900, 2990]</td>\n",
              "      <td>3</td>\n",
              "      <td>1</td>\n",
              "      <td>1</td>\n",
              "      <td>1</td>\n",
              "    </tr>\n",
              "    <tr>\n",
              "      <th>5</th>\n",
              "      <td>192</td>\n",
              "      <td>[1, 2128, 2351, 3160, 2305, 2011, 2990]</td>\n",
              "      <td>3</td>\n",
              "      <td>1</td>\n",
              "      <td>1</td>\n",
              "      <td>1</td>\n",
              "    </tr>\n",
              "    <tr>\n",
              "      <th>6</th>\n",
              "      <td>178</td>\n",
              "      <td>[1, 2128, 2351, 3160, 2305, 2041, 2011, 2990]</td>\n",
              "      <td>3</td>\n",
              "      <td>1</td>\n",
              "      <td>1</td>\n",
              "      <td>1</td>\n",
              "    </tr>\n",
              "    <tr>\n",
              "      <th>7</th>\n",
              "      <td>139524</td>\n",
              "      <td>[1, 1367, 2351, 3160, 2305, 2041, 2011, 1780]</td>\n",
              "      <td>1</td>\n",
              "      <td>1</td>\n",
              "      <td>1</td>\n",
              "      <td>1</td>\n",
              "    </tr>\n",
              "    <tr>\n",
              "      <th>8</th>\n",
              "      <td>223606</td>\n",
              "      <td>[1, 1367, 2351, 3160, 2305, 557, 2041, 120, 16...</td>\n",
              "      <td>1</td>\n",
              "      <td>1</td>\n",
              "      <td>1</td>\n",
              "      <td>1</td>\n",
              "    </tr>\n",
              "    <tr>\n",
              "      <th>9</th>\n",
              "      <td>202</td>\n",
              "      <td>[1, 1801, 2351, 3160, 2305, 557, 2011, 2837, 1...</td>\n",
              "      <td>2</td>\n",
              "      <td>1</td>\n",
              "      <td>1</td>\n",
              "      <td>1</td>\n",
              "    </tr>\n",
              "  </tbody>\n",
              "</table>\n",
              "</div>"
            ],
            "text/plain": [
              "       id  ... category\n",
              "0    9632  ...        0\n",
              "1   11316  ...        1\n",
              "2   11322  ...        2\n",
              "3   11324  ...        3\n",
              "4     188  ...        1\n",
              "5     192  ...        1\n",
              "6     178  ...        1\n",
              "7  139524  ...        1\n",
              "8  223606  ...        1\n",
              "9     202  ...        1\n",
              "\n",
              "[10 rows x 6 columns]"
            ]
          },
          "metadata": {
            "tags": []
          },
          "execution_count": 313
        }
      ]
    },
    {
      "cell_type": "code",
      "metadata": {
        "id": "Sx_jgz-aIXJh",
        "colab_type": "code",
        "colab": {
          "base_uri": "https://localhost:8080/",
          "height": 359
        },
        "outputId": "1b798ce5-9b98-4bea-fd24-be7c0a7ef716"
      },
      "source": [
        "# Creating the sequence of integers to feed the RNN\n",
        "sequence_of_id = []\n",
        "for sequence in new_dftext.nomProduit:\n",
        "  sequence_of_id.append([1] + [word_to_id[w] if w in word_to_id else 2 for w in sequence ] )\n",
        "new_dftext.nomProduit = sequence_of_id\n",
        "\n",
        "new_dftext.head(10)"
      ],
      "execution_count": null,
      "outputs": [
        {
          "output_type": "execute_result",
          "data": {
            "text/html": [
              "<div>\n",
              "<style scoped>\n",
              "    .dataframe tbody tr th:only-of-type {\n",
              "        vertical-align: middle;\n",
              "    }\n",
              "\n",
              "    .dataframe tbody tr th {\n",
              "        vertical-align: top;\n",
              "    }\n",
              "\n",
              "    .dataframe thead th {\n",
              "        text-align: right;\n",
              "    }\n",
              "</style>\n",
              "<table border=\"1\" class=\"dataframe\">\n",
              "  <thead>\n",
              "    <tr style=\"text-align: right;\">\n",
              "      <th></th>\n",
              "      <th>id</th>\n",
              "      <th>nomProduit</th>\n",
              "      <th>marque</th>\n",
              "      <th>famille_drive</th>\n",
              "      <th>rayon_drive</th>\n",
              "      <th>category</th>\n",
              "    </tr>\n",
              "  </thead>\n",
              "  <tbody>\n",
              "    <tr>\n",
              "      <th>0</th>\n",
              "      <td>9632</td>\n",
              "      <td>[1, 2285, 2646, 1136, 1766, 162, 850]</td>\n",
              "      <td>529</td>\n",
              "      <td>169</td>\n",
              "      <td>4</td>\n",
              "      <td>0</td>\n",
              "    </tr>\n",
              "    <tr>\n",
              "      <th>1</th>\n",
              "      <td>11316</td>\n",
              "      <td>[1, 1367, 2351, 3160, 2305, 557, 2011, 1780]</td>\n",
              "      <td>18</td>\n",
              "      <td>201</td>\n",
              "      <td>20</td>\n",
              "      <td>1</td>\n",
              "    </tr>\n",
              "    <tr>\n",
              "      <th>2</th>\n",
              "      <td>11322</td>\n",
              "      <td>[1, 1801, 1764, 139, 3160, 2791, 557, 1780]</td>\n",
              "      <td>647</td>\n",
              "      <td>201</td>\n",
              "      <td>20</td>\n",
              "      <td>2</td>\n",
              "    </tr>\n",
              "    <tr>\n",
              "      <th>3</th>\n",
              "      <td>11324</td>\n",
              "      <td>[1, 1801, 2351, 3160, 1050, 63, 2235, 1780]</td>\n",
              "      <td>647</td>\n",
              "      <td>201</td>\n",
              "      <td>20</td>\n",
              "      <td>3</td>\n",
              "    </tr>\n",
              "    <tr>\n",
              "      <th>4</th>\n",
              "      <td>188</td>\n",
              "      <td>[1, 2128, 2351, 3160, 2305, 2900, 2990]</td>\n",
              "      <td>304</td>\n",
              "      <td>201</td>\n",
              "      <td>20</td>\n",
              "      <td>1</td>\n",
              "    </tr>\n",
              "    <tr>\n",
              "      <th>5</th>\n",
              "      <td>192</td>\n",
              "      <td>[1, 2128, 2351, 3160, 2305, 2011, 2990]</td>\n",
              "      <td>304</td>\n",
              "      <td>201</td>\n",
              "      <td>20</td>\n",
              "      <td>1</td>\n",
              "    </tr>\n",
              "    <tr>\n",
              "      <th>6</th>\n",
              "      <td>178</td>\n",
              "      <td>[1, 2128, 2351, 3160, 2305, 2041, 2011, 2990]</td>\n",
              "      <td>304</td>\n",
              "      <td>201</td>\n",
              "      <td>20</td>\n",
              "      <td>1</td>\n",
              "    </tr>\n",
              "    <tr>\n",
              "      <th>7</th>\n",
              "      <td>139524</td>\n",
              "      <td>[1, 1367, 2351, 3160, 2305, 2041, 2011, 1780]</td>\n",
              "      <td>18</td>\n",
              "      <td>201</td>\n",
              "      <td>20</td>\n",
              "      <td>1</td>\n",
              "    </tr>\n",
              "    <tr>\n",
              "      <th>8</th>\n",
              "      <td>223606</td>\n",
              "      <td>[1, 1367, 2351, 3160, 2305, 557, 2041, 120, 16...</td>\n",
              "      <td>18</td>\n",
              "      <td>201</td>\n",
              "      <td>20</td>\n",
              "      <td>1</td>\n",
              "    </tr>\n",
              "    <tr>\n",
              "      <th>9</th>\n",
              "      <td>202</td>\n",
              "      <td>[1, 1801, 2351, 3160, 2305, 557, 2011, 2837, 1...</td>\n",
              "      <td>647</td>\n",
              "      <td>201</td>\n",
              "      <td>20</td>\n",
              "      <td>1</td>\n",
              "    </tr>\n",
              "  </tbody>\n",
              "</table>\n",
              "</div>"
            ],
            "text/plain": [
              "       id  ... category\n",
              "0    9632  ...        0\n",
              "1   11316  ...        1\n",
              "2   11322  ...        2\n",
              "3   11324  ...        3\n",
              "4     188  ...        1\n",
              "5     192  ...        1\n",
              "6     178  ...        1\n",
              "7  139524  ...        1\n",
              "8  223606  ...        1\n",
              "9     202  ...        1\n",
              "\n",
              "[10 rows x 6 columns]"
            ]
          },
          "metadata": {
            "tags": []
          },
          "execution_count": 154
        }
      ]
    },
    {
      "cell_type": "code",
      "metadata": {
        "id": "BR3kQfSdS4wk",
        "colab_type": "code",
        "colab": {
          "base_uri": "https://localhost:8080/",
          "height": 34
        },
        "outputId": "b20e1f45-b1a1-4ae4-9947-5f591a089471"
      },
      "source": [
        "# Longest sentences \n",
        "nomProduit_ = new_dftext.nomProduit.values\n",
        "nomProduit_ = np.array(nomProduit_,dtype=np.ndarray)\n",
        "maxLen = len(max(nomProduit_, key=len))\n",
        "maxLen\n"
      ],
      "execution_count": null,
      "outputs": [
        {
          "output_type": "execute_result",
          "data": {
            "text/plain": [
              "15"
            ]
          },
          "metadata": {
            "tags": []
          },
          "execution_count": 155
        }
      ]
    },
    {
      "cell_type": "code",
      "metadata": {
        "id": "MP83qbSoLKMZ",
        "colab_type": "code",
        "colab": {}
      },
      "source": [
        "# plot the histogram of the charges\n",
        "import tensorflow as tf \n",
        "from keras import Input\n",
        "from tensorflow.keras.models import Sequential\n",
        "from tensorflow.keras import Model\n",
        "from tensorflow.keras.layers import Dense, Dropout, concatenate, Activation, BatchNormalization\n",
        "from tensorflow.keras.layers import Embedding, Flatten, Conv2D, MaxPooling2D\n",
        "from tensorflow.keras.layers import LSTM\n",
        "from tensorflow.keras.callbacks import TensorBoard\n",
        "from keras.preprocessing import sequence"
      ],
      "execution_count": null,
      "outputs": []
    },
    {
      "cell_type": "code",
      "metadata": {
        "id": "h47zWDdFjiAc",
        "colab_type": "code",
        "colab": {
          "base_uri": "https://localhost:8080/",
          "height": 359
        },
        "outputId": "3b3c65b3-b12b-4dbd-8ec7-2531cc7ea8bc"
      },
      "source": [
        "from sklearn.model_selection import train_test_split\n",
        "new_dftext_train, new_dftext_test = train_test_split(new_dftext, test_size=0.1, random_state=42, shuffle=True)\n",
        "new_dftext_train.head(10)"
      ],
      "execution_count": null,
      "outputs": [
        {
          "output_type": "execute_result",
          "data": {
            "text/html": [
              "<div>\n",
              "<style scoped>\n",
              "    .dataframe tbody tr th:only-of-type {\n",
              "        vertical-align: middle;\n",
              "    }\n",
              "\n",
              "    .dataframe tbody tr th {\n",
              "        vertical-align: top;\n",
              "    }\n",
              "\n",
              "    .dataframe thead th {\n",
              "        text-align: right;\n",
              "    }\n",
              "</style>\n",
              "<table border=\"1\" class=\"dataframe\">\n",
              "  <thead>\n",
              "    <tr style=\"text-align: right;\">\n",
              "      <th></th>\n",
              "      <th>id</th>\n",
              "      <th>nomProduit</th>\n",
              "      <th>marque</th>\n",
              "      <th>famille_drive</th>\n",
              "      <th>rayon_drive</th>\n",
              "      <th>category</th>\n",
              "    </tr>\n",
              "  </thead>\n",
              "  <tbody>\n",
              "    <tr>\n",
              "      <th>3205</th>\n",
              "      <td>195348</td>\n",
              "      <td>[1, 1927, 1990, 1914]</td>\n",
              "      <td>141</td>\n",
              "      <td>124</td>\n",
              "      <td>8</td>\n",
              "      <td>12</td>\n",
              "    </tr>\n",
              "    <tr>\n",
              "      <th>2909</th>\n",
              "      <td>70085</td>\n",
              "      <td>[1, 2295, 1824, 2457, 765, 1019]</td>\n",
              "      <td>376</td>\n",
              "      <td>106</td>\n",
              "      <td>1</td>\n",
              "      <td>19</td>\n",
              "    </tr>\n",
              "    <tr>\n",
              "      <th>2044</th>\n",
              "      <td>6907</td>\n",
              "      <td>[1, 1736, 1136, 2235, 3039, 2986, 1780]</td>\n",
              "      <td>474</td>\n",
              "      <td>361</td>\n",
              "      <td>6</td>\n",
              "      <td>0</td>\n",
              "    </tr>\n",
              "    <tr>\n",
              "      <th>2377</th>\n",
              "      <td>292455</td>\n",
              "      <td>[1, 595, 2552]</td>\n",
              "      <td>291</td>\n",
              "      <td>4</td>\n",
              "      <td>6</td>\n",
              "      <td>27</td>\n",
              "    </tr>\n",
              "    <tr>\n",
              "      <th>1056</th>\n",
              "      <td>385483</td>\n",
              "      <td>[1, 2805, 2120, 3068, 3216]</td>\n",
              "      <td>584</td>\n",
              "      <td>268</td>\n",
              "      <td>28</td>\n",
              "      <td>36</td>\n",
              "    </tr>\n",
              "    <tr>\n",
              "      <th>3921</th>\n",
              "      <td>79018</td>\n",
              "      <td>[1, 1008, 3267, 395, 1904, 2941, 1704, 1562]</td>\n",
              "      <td>579</td>\n",
              "      <td>163</td>\n",
              "      <td>6</td>\n",
              "      <td>6</td>\n",
              "    </tr>\n",
              "    <tr>\n",
              "      <th>69</th>\n",
              "      <td>10573</td>\n",
              "      <td>[1, 466, 966, 2222, 2203, 1766, 2837, 1014]</td>\n",
              "      <td>392</td>\n",
              "      <td>124</td>\n",
              "      <td>6</td>\n",
              "      <td>0</td>\n",
              "    </tr>\n",
              "    <tr>\n",
              "      <th>1507</th>\n",
              "      <td>390302</td>\n",
              "      <td>[1, 1132, 3280, 903, 2368, 661]</td>\n",
              "      <td>523</td>\n",
              "      <td>171</td>\n",
              "      <td>36</td>\n",
              "      <td>37</td>\n",
              "    </tr>\n",
              "    <tr>\n",
              "      <th>45</th>\n",
              "      <td>6376</td>\n",
              "      <td>[1, 2209, 2351, 3160, 574, 2011, 1780]</td>\n",
              "      <td>25</td>\n",
              "      <td>265</td>\n",
              "      <td>6</td>\n",
              "      <td>1</td>\n",
              "    </tr>\n",
              "    <tr>\n",
              "      <th>3472</th>\n",
              "      <td>389796</td>\n",
              "      <td>[1, 59, 1988, 1008, 56, 878, 1048]</td>\n",
              "      <td>190</td>\n",
              "      <td>271</td>\n",
              "      <td>30</td>\n",
              "      <td>39</td>\n",
              "    </tr>\n",
              "  </tbody>\n",
              "</table>\n",
              "</div>"
            ],
            "text/plain": [
              "          id  ... category\n",
              "3205  195348  ...       12\n",
              "2909   70085  ...       19\n",
              "2044    6907  ...        0\n",
              "2377  292455  ...       27\n",
              "1056  385483  ...       36\n",
              "3921   79018  ...        6\n",
              "69     10573  ...        0\n",
              "1507  390302  ...       37\n",
              "45      6376  ...        1\n",
              "3472  389796  ...       39\n",
              "\n",
              "[10 rows x 6 columns]"
            ]
          },
          "metadata": {
            "tags": []
          },
          "execution_count": 157
        }
      ]
    },
    {
      "cell_type": "code",
      "metadata": {
        "id": "6kQPhyr9j4yk",
        "colab_type": "code",
        "colab": {
          "base_uri": "https://localhost:8080/",
          "height": 34
        },
        "outputId": "449d6ec6-8969-45b9-9ce9-90c99f2f94c2"
      },
      "source": [
        "nomProduit_train = new_dftext_train.nomProduit.values\n",
        "nomProduit_test = new_dftext_test.nomProduit.values\n",
        "nomProduit_train = np.array(nomProduit_train,dtype=np.ndarray)\n",
        "nomProduit_test = np.array(nomProduit_test,dtype=np.ndarray)\n",
        "maxLen = len(max((nomProduit_train), key=len))\n",
        "if maxLen < len(max((nomProduit_test), key=len)):\n",
        "  maxLen = len(max((nomProduit_test), key=len))\n",
        "maxLen = maxLen +1 #appending the <END>\n",
        "maxLen"
      ],
      "execution_count": null,
      "outputs": [
        {
          "output_type": "execute_result",
          "data": {
            "text/plain": [
              "16"
            ]
          },
          "metadata": {
            "tags": []
          },
          "execution_count": 158
        }
      ]
    },
    {
      "cell_type": "code",
      "metadata": {
        "id": "QkJmDFX4FAhr",
        "colab_type": "code",
        "colab": {}
      },
      "source": [
        "def pad_sequences(X, word_to_index, max_len):\n",
        "  m = X.shape[0]\n",
        "  X_indices = np.zeros((m,max_len),dtype=int)\n",
        "  for i in range(m):\n",
        "    j = 0\n",
        "    for w in X[i]:\n",
        "      X_indices[i, j] = int(w)\n",
        "      j += 1\n",
        "    X_indices[i, max_len-1] = 3\n",
        "  return np.array(X_indices)\n"
      ],
      "execution_count": null,
      "outputs": []
    },
    {
      "cell_type": "code",
      "metadata": {
        "id": "8iFEFm45mcvi",
        "colab_type": "code",
        "colab": {
          "base_uri": "https://localhost:8080/",
          "height": 136
        },
        "outputId": "dce517b6-b7e8-42bd-c162-bd217afe0f7d"
      },
      "source": [
        "# We need to feed the NN with indentical shape so we pad every sentence shorter than maxLen with zeros \n",
        "nomProduit_train = pad_sequences(nomProduit_train, word_to_id, 20)\n",
        "nomProduit_test = pad_sequences(nomProduit_test, word_to_id, 20)\n",
        "nomProduit_train"
      ],
      "execution_count": null,
      "outputs": [
        {
          "output_type": "execute_result",
          "data": {
            "text/plain": [
              "array([[   1, 1927, 1990, ...,    0,    0,    3],\n",
              "       [   1, 2295, 1824, ...,    0,    0,    3],\n",
              "       [   1, 1736, 1136, ...,    0,    0,    3],\n",
              "       ...,\n",
              "       [   1, 2590, 1003, ...,    0,    0,    3],\n",
              "       [   1, 1554,  874, ...,    0,    0,    3],\n",
              "       [   1, 3160, 1975, ...,    0,    0,    3]])"
            ]
          },
          "metadata": {
            "tags": []
          },
          "execution_count": 160
        }
      ]
    },
    {
      "cell_type": "code",
      "metadata": {
        "id": "NTWkyjio6N-8",
        "colab_type": "code",
        "colab": {
          "base_uri": "https://localhost:8080/",
          "height": 136
        },
        "outputId": "2cccd8a6-6be6-4a94-8d94-1c73ec668b94"
      },
      "source": [
        "# Normalizing other attributes\n",
        "other_train = new_dftext_train[['marque','famille_drive','rayon_drive']].values\n",
        "other_test = new_dftext_test[['marque','famille_drive','rayon_drive']].values\n",
        "other_train = preprocessing.normalize(other_train)\n",
        "other_test = preprocessing.normalize(other_test)\n",
        "other_train"
      ],
      "execution_count": null,
      "outputs": [
        {
          "output_type": "execute_result",
          "data": {
            "text/plain": [
              "array([[0.75024415, 0.65978918, 0.04256704],\n",
              "       [0.96248081, 0.27133768, 0.00255979],\n",
              "       [0.79550695, 0.60586078, 0.01006971],\n",
              "       ...,\n",
              "       [0.48267571, 0.87022556, 0.09864905],\n",
              "       [0.95132739, 0.28086809, 0.12684365],\n",
              "       [0.41755194, 0.90807411, 0.03243122]])"
            ]
          },
          "metadata": {
            "tags": []
          },
          "execution_count": 99
        }
      ]
    },
    {
      "cell_type": "code",
      "metadata": {
        "id": "-6-h-8H9hhEv",
        "colab_type": "code",
        "colab": {}
      },
      "source": [
        "cat_ = new_dftext_train.category.values.tolist()\n",
        "cat_.append(44)\n",
        "cat_ = np.array(cat_)"
      ],
      "execution_count": null,
      "outputs": []
    },
    {
      "cell_type": "code",
      "metadata": {
        "id": "O5o3rCl0LlFp",
        "colab_type": "code",
        "colab": {
          "base_uri": "https://localhost:8080/",
          "height": 136
        },
        "outputId": "cf7363fe-999c-4d2c-b49a-a2ace607a72e"
      },
      "source": [
        "# One hot encoding the category column\n",
        "from keras.utils import to_categorical\n",
        "\n",
        "\n",
        "encoded_category_train = to_categorical(cat_)\n",
        "encoded_category_test = to_categorical(cat_)\n",
        "\n",
        "encoded_category_train"
      ],
      "execution_count": null,
      "outputs": [
        {
          "output_type": "execute_result",
          "data": {
            "text/plain": [
              "array([[0., 0., 0., ..., 0., 0., 0.],\n",
              "       [0., 0., 0., ..., 0., 0., 0.],\n",
              "       [1., 0., 0., ..., 0., 0., 0.],\n",
              "       ...,\n",
              "       [0., 0., 0., ..., 0., 0., 0.],\n",
              "       [0., 0., 0., ..., 0., 0., 0.],\n",
              "       [0., 0., 0., ..., 0., 0., 1.]], dtype=float32)"
            ]
          },
          "metadata": {
            "tags": []
          },
          "execution_count": 219
        }
      ]
    },
    {
      "cell_type": "code",
      "metadata": {
        "id": "BtFb6K_zN_A7",
        "colab_type": "code",
        "colab": {
          "base_uri": "https://localhost:8080/",
          "height": 34
        },
        "outputId": "1759638f-d14f-40b3-ce14-0e118545bd54"
      },
      "source": [
        "output_size = encoded_category_train.shape[1]\n",
        "output_size"
      ],
      "execution_count": null,
      "outputs": [
        {
          "output_type": "execute_result",
          "data": {
            "text/plain": [
              "44"
            ]
          },
          "metadata": {
            "tags": []
          },
          "execution_count": 163
        }
      ]
    },
    {
      "cell_type": "code",
      "metadata": {
        "id": "2wUDxbWvuy3t",
        "colab_type": "code",
        "colab": {
          "base_uri": "https://localhost:8080/",
          "height": 612
        },
        "outputId": "f565696b-40db-4932-d74f-10d94b3ed678"
      },
      "source": [
        "model=Sequential()\n",
        "model.add(Embedding(vocab_size+1, 50, input_length=20))\n",
        "\n",
        "model.add(LSTM(256, input_shape=((20,50)),return_sequences=True))\n",
        "model.add(Dropout(0.2))\n",
        "model.add(BatchNormalization())\n",
        "\n",
        "model.add(LSTM(256, input_shape=((20,50)),return_sequences=True))\n",
        "model.add(Dropout(0.1))\n",
        "model.add(BatchNormalization())\n",
        "\n",
        "model.add(LSTM(256, input_shape=((20,50)),return_sequences=False))\n",
        "model.add(Dropout(0.1))\n",
        "model.add(BatchNormalization())\n",
        "\n",
        "model.add(Dense(96, activation='relu'))\n",
        "model.add(Dropout(0.1))\n",
        "\n",
        "model.add(Dense(output_size, activation='softmax'))\n",
        "print(model.summary())"
      ],
      "execution_count": null,
      "outputs": [
        {
          "output_type": "stream",
          "text": [
            "Model: \"sequential\"\n",
            "_________________________________________________________________\n",
            "Layer (type)                 Output Shape              Param #   \n",
            "=================================================================\n",
            "embedding (Embedding)        (None, 16, 50)            165600    \n",
            "_________________________________________________________________\n",
            "lstm (LSTM)                  (None, 16, 256)           314368    \n",
            "_________________________________________________________________\n",
            "dropout (Dropout)            (None, 16, 256)           0         \n",
            "_________________________________________________________________\n",
            "batch_normalization (BatchNo (None, 16, 256)           1024      \n",
            "_________________________________________________________________\n",
            "lstm_1 (LSTM)                (None, 16, 256)           525312    \n",
            "_________________________________________________________________\n",
            "dropout_1 (Dropout)          (None, 16, 256)           0         \n",
            "_________________________________________________________________\n",
            "batch_normalization_1 (Batch (None, 16, 256)           1024      \n",
            "_________________________________________________________________\n",
            "lstm_2 (LSTM)                (None, 256)               525312    \n",
            "_________________________________________________________________\n",
            "dropout_2 (Dropout)          (None, 256)               0         \n",
            "_________________________________________________________________\n",
            "batch_normalization_2 (Batch (None, 256)               1024      \n",
            "_________________________________________________________________\n",
            "dense (Dense)                (None, 96)                24672     \n",
            "_________________________________________________________________\n",
            "dropout_3 (Dropout)          (None, 96)                0         \n",
            "_________________________________________________________________\n",
            "dense_1 (Dense)              (None, 44)                4268      \n",
            "=================================================================\n",
            "Total params: 1,562,604\n",
            "Trainable params: 1,561,068\n",
            "Non-trainable params: 1,536\n",
            "_________________________________________________________________\n",
            "None\n"
          ],
          "name": "stdout"
        }
      ]
    },
    {
      "cell_type": "code",
      "metadata": {
        "id": "U9LHG7wALDhq",
        "colab_type": "code",
        "colab": {}
      },
      "source": [
        "model.compile(loss='categorical_crossentropy', optimizer='adam', metrics=['accuracy'])"
      ],
      "execution_count": null,
      "outputs": []
    },
    {
      "cell_type": "code",
      "metadata": {
        "id": "esoYtSP6Jc84",
        "colab_type": "code",
        "colab": {}
      },
      "source": [
        "training_size = nomProduit_train.shape[0]\n",
        "nomProduit_valid, other_valid,encoded_category_valid = nomProduit_train[:int(training_size*0.09)], other_train[:int(training_size*0.09)],encoded_category_train[:int(training_size*0.09)]\n",
        "nomProduit_train2, other_train2,encoded_category_train2 = nomProduit_train[int(training_size*0.09):], other_train[int(training_size*0.09):],encoded_category_train[int(training_size*0.09):]\n"
      ],
      "execution_count": null,
      "outputs": []
    },
    {
      "cell_type": "code",
      "metadata": {
        "id": "0y2AwArxLELN",
        "colab_type": "code",
        "colab": {
          "base_uri": "https://localhost:8080/",
          "height": 1000
        },
        "outputId": "41a93609-718d-47e7-c3c4-a5faa7b756ca"
      },
      "source": [
        "model.fit(nomProduit_train2, encoded_category_train2,validation_data=(nomProduit_valid,encoded_category_valid), epochs = 40, batch_size=64)"
      ],
      "execution_count": null,
      "outputs": [
        {
          "output_type": "stream",
          "text": [
            "Epoch 1/40\n",
            "51/51 [==============================] - 2s 34ms/step - loss: 2.6898 - accuracy: 0.3135 - val_loss: 3.7472 - val_accuracy: 0.0374\n",
            "Epoch 2/40\n",
            "51/51 [==============================] - 1s 12ms/step - loss: 1.4654 - accuracy: 0.5762 - val_loss: 3.6556 - val_accuracy: 0.1340\n",
            "Epoch 3/40\n",
            "51/51 [==============================] - 1s 12ms/step - loss: 0.9331 - accuracy: 0.7157 - val_loss: 3.5116 - val_accuracy: 0.0685\n",
            "Epoch 4/40\n",
            "51/51 [==============================] - 1s 12ms/step - loss: 0.6225 - accuracy: 0.8085 - val_loss: 3.2739 - val_accuracy: 0.1464\n",
            "Epoch 5/40\n",
            "51/51 [==============================] - 1s 14ms/step - loss: 0.4816 - accuracy: 0.8460 - val_loss: 3.2985 - val_accuracy: 0.1215\n",
            "Epoch 6/40\n",
            "51/51 [==============================] - 1s 13ms/step - loss: 0.4203 - accuracy: 0.8700 - val_loss: 2.9029 - val_accuracy: 0.1558\n",
            "Epoch 7/40\n",
            "51/51 [==============================] - 1s 13ms/step - loss: 0.3508 - accuracy: 0.8888 - val_loss: 2.8184 - val_accuracy: 0.2960\n",
            "Epoch 8/40\n",
            "51/51 [==============================] - 1s 12ms/step - loss: 0.3138 - accuracy: 0.8970 - val_loss: 2.2256 - val_accuracy: 0.4081\n",
            "Epoch 9/40\n",
            "51/51 [==============================] - 1s 14ms/step - loss: 0.2921 - accuracy: 0.8989 - val_loss: 1.7420 - val_accuracy: 0.5078\n",
            "Epoch 10/40\n",
            "51/51 [==============================] - 1s 13ms/step - loss: 0.2770 - accuracy: 0.9044 - val_loss: 1.6748 - val_accuracy: 0.5576\n",
            "Epoch 11/40\n",
            "51/51 [==============================] - 1s 12ms/step - loss: 0.2508 - accuracy: 0.9167 - val_loss: 1.6694 - val_accuracy: 0.5794\n",
            "Epoch 12/40\n",
            "51/51 [==============================] - 1s 12ms/step - loss: 0.2357 - accuracy: 0.9146 - val_loss: 1.5529 - val_accuracy: 0.6044\n",
            "Epoch 13/40\n",
            "51/51 [==============================] - 1s 12ms/step - loss: 0.2156 - accuracy: 0.9232 - val_loss: 1.7234 - val_accuracy: 0.5919\n",
            "Epoch 14/40\n",
            "51/51 [==============================] - 1s 12ms/step - loss: 0.2368 - accuracy: 0.9195 - val_loss: 2.1793 - val_accuracy: 0.5389\n",
            "Epoch 15/40\n",
            "51/51 [==============================] - 1s 12ms/step - loss: 0.2103 - accuracy: 0.9275 - val_loss: 1.6933 - val_accuracy: 0.6044\n",
            "Epoch 16/40\n",
            "51/51 [==============================] - 1s 12ms/step - loss: 0.1958 - accuracy: 0.9305 - val_loss: 1.7415 - val_accuracy: 0.5950\n",
            "Epoch 17/40\n",
            "51/51 [==============================] - 1s 12ms/step - loss: 0.1998 - accuracy: 0.9293 - val_loss: 1.7973 - val_accuracy: 0.5981\n",
            "Epoch 18/40\n",
            "51/51 [==============================] - 1s 12ms/step - loss: 0.1890 - accuracy: 0.9352 - val_loss: 1.9536 - val_accuracy: 0.5763\n",
            "Epoch 19/40\n",
            "51/51 [==============================] - 1s 12ms/step - loss: 0.2061 - accuracy: 0.9284 - val_loss: 1.9541 - val_accuracy: 0.5732\n",
            "Epoch 20/40\n",
            "51/51 [==============================] - 1s 12ms/step - loss: 0.1772 - accuracy: 0.9376 - val_loss: 1.8698 - val_accuracy: 0.6044\n",
            "Epoch 21/40\n",
            "51/51 [==============================] - 1s 12ms/step - loss: 0.1864 - accuracy: 0.9327 - val_loss: 1.9494 - val_accuracy: 0.5826\n",
            "Epoch 22/40\n",
            "51/51 [==============================] - 1s 12ms/step - loss: 0.1647 - accuracy: 0.9401 - val_loss: 2.1980 - val_accuracy: 0.5950\n",
            "Epoch 23/40\n",
            "51/51 [==============================] - 1s 13ms/step - loss: 0.1484 - accuracy: 0.9453 - val_loss: 2.0131 - val_accuracy: 0.5919\n",
            "Epoch 24/40\n",
            "51/51 [==============================] - 1s 14ms/step - loss: 0.1347 - accuracy: 0.9478 - val_loss: 1.8489 - val_accuracy: 0.6199\n",
            "Epoch 25/40\n",
            "51/51 [==============================] - 1s 12ms/step - loss: 0.1295 - accuracy: 0.9499 - val_loss: 2.0232 - val_accuracy: 0.6137\n",
            "Epoch 26/40\n",
            "51/51 [==============================] - 1s 12ms/step - loss: 0.1272 - accuracy: 0.9499 - val_loss: 2.0505 - val_accuracy: 0.5981\n",
            "Epoch 27/40\n",
            "51/51 [==============================] - 1s 13ms/step - loss: 0.1304 - accuracy: 0.9465 - val_loss: 2.1402 - val_accuracy: 0.5826\n",
            "Epoch 28/40\n",
            "51/51 [==============================] - 1s 12ms/step - loss: 0.1633 - accuracy: 0.9407 - val_loss: 2.1233 - val_accuracy: 0.5763\n",
            "Epoch 29/40\n",
            "51/51 [==============================] - 1s 12ms/step - loss: 0.1555 - accuracy: 0.9438 - val_loss: 1.9003 - val_accuracy: 0.5919\n",
            "Epoch 30/40\n",
            "51/51 [==============================] - 1s 12ms/step - loss: 0.1697 - accuracy: 0.9373 - val_loss: 1.9767 - val_accuracy: 0.5670\n",
            "Epoch 31/40\n",
            "51/51 [==============================] - 1s 12ms/step - loss: 0.1788 - accuracy: 0.9370 - val_loss: 1.8174 - val_accuracy: 0.6262\n",
            "Epoch 32/40\n",
            "51/51 [==============================] - 1s 12ms/step - loss: 0.1639 - accuracy: 0.9431 - val_loss: 2.0805 - val_accuracy: 0.5981\n",
            "Epoch 33/40\n",
            "51/51 [==============================] - 1s 12ms/step - loss: 0.1548 - accuracy: 0.9428 - val_loss: 1.7667 - val_accuracy: 0.6636\n",
            "Epoch 34/40\n",
            "51/51 [==============================] - 1s 13ms/step - loss: 0.1514 - accuracy: 0.9456 - val_loss: 1.9548 - val_accuracy: 0.6293\n",
            "Epoch 35/40\n",
            "51/51 [==============================] - 1s 13ms/step - loss: 0.1343 - accuracy: 0.9499 - val_loss: 1.8514 - val_accuracy: 0.6324\n",
            "Epoch 36/40\n",
            "51/51 [==============================] - 1s 12ms/step - loss: 0.1124 - accuracy: 0.9557 - val_loss: 1.9438 - val_accuracy: 0.6417\n",
            "Epoch 37/40\n",
            "51/51 [==============================] - 1s 14ms/step - loss: 0.1099 - accuracy: 0.9582 - val_loss: 2.0819 - val_accuracy: 0.6480\n",
            "Epoch 38/40\n",
            "51/51 [==============================] - 1s 12ms/step - loss: 0.1001 - accuracy: 0.9582 - val_loss: 2.0362 - val_accuracy: 0.6417\n",
            "Epoch 39/40\n",
            "51/51 [==============================] - 1s 12ms/step - loss: 0.1014 - accuracy: 0.9567 - val_loss: 2.1243 - val_accuracy: 0.6199\n",
            "Epoch 40/40\n",
            "51/51 [==============================] - 1s 12ms/step - loss: 0.1183 - accuracy: 0.9567 - val_loss: 2.1190 - val_accuracy: 0.6199\n"
          ],
          "name": "stdout"
        },
        {
          "output_type": "execute_result",
          "data": {
            "text/plain": [
              "<tensorflow.python.keras.callbacks.History at 0x7f659015bfd0>"
            ]
          },
          "metadata": {
            "tags": []
          },
          "execution_count": 35
        }
      ]
    },
    {
      "cell_type": "code",
      "metadata": {
        "id": "Lkf5kTNwtuMT",
        "colab_type": "code",
        "colab": {}
      },
      "source": [
        "pred = model.predict(nomProduit_test)"
      ],
      "execution_count": null,
      "outputs": []
    },
    {
      "cell_type": "code",
      "metadata": {
        "id": "bOfPvY9st8UJ",
        "colab_type": "code",
        "colab": {
          "base_uri": "https://localhost:8080/",
          "height": 34
        },
        "outputId": "1a7a75c2-df8e-45c0-f5e5-e28edca97878"
      },
      "source": [
        "np.argmax(pred[0]) == category_test[0]"
      ],
      "execution_count": null,
      "outputs": [
        {
          "output_type": "execute_result",
          "data": {
            "text/plain": [
              "True"
            ]
          },
          "metadata": {
            "tags": []
          },
          "execution_count": 40
        }
      ]
    },
    {
      "cell_type": "code",
      "metadata": {
        "id": "PXDSUi-ALh1D",
        "colab_type": "code",
        "colab": {
          "base_uri": "https://localhost:8080/",
          "height": 34
        },
        "outputId": "cd10ccff-7ee9-49b9-c061-adfc865fd156"
      },
      "source": [
        "loss, acc = model.evaluate(nomProduit_test, encoded_category_test)"
      ],
      "execution_count": null,
      "outputs": [
        {
          "output_type": "stream",
          "text": [
            "13/13 [==============================] - 0s 6ms/step - loss: 1.9217 - accuracy: 0.6533\n"
          ],
          "name": "stdout"
        }
      ]
    },
    {
      "cell_type": "code",
      "metadata": {
        "id": "fFwdmcV8U_wI",
        "colab_type": "code",
        "colab": {
          "base_uri": "https://localhost:8080/",
          "height": 34
        },
        "outputId": "8a5e2860-42ab-4431-e1e0-2fe029faf8cc"
      },
      "source": [
        "np.argmax(pred[31])"
      ],
      "execution_count": null,
      "outputs": [
        {
          "output_type": "execute_result",
          "data": {
            "text/plain": [
              "40"
            ]
          },
          "metadata": {
            "tags": []
          },
          "execution_count": 42
        }
      ]
    },
    {
      "cell_type": "code",
      "metadata": {
        "id": "n-tCrkjFVB31",
        "colab_type": "code",
        "colab": {
          "base_uri": "https://localhost:8080/",
          "height": 34
        },
        "outputId": "7028c206-c931-44ad-f783-c28d21760b84"
      },
      "source": [
        "category_test[31]"
      ],
      "execution_count": null,
      "outputs": [
        {
          "output_type": "execute_result",
          "data": {
            "text/plain": [
              "42"
            ]
          },
          "metadata": {
            "tags": []
          },
          "execution_count": 43
        }
      ]
    },
    {
      "cell_type": "code",
      "metadata": {
        "id": "YLUoD4Wmn23N",
        "colab_type": "code",
        "colab": {
          "base_uri": "https://localhost:8080/",
          "height": 985
        },
        "outputId": "6f86f43c-4b8b-45b5-b0e7-2eaa7a502ade"
      },
      "source": [
        "nomProduit = Input(shape=(20,))\n",
        "nomProduitlayers = Embedding(vocab_size+1, 50, input_length=20)(nomProduit)\n",
        "nomProduitlayers = LSTM(256, input_shape=((20,50)),return_sequences=True)(nomProduitlayers)\n",
        "nomProduitlayers = Dropout(0.2)(nomProduitlayers)\n",
        "nomProduitlayers = BatchNormalization()(nomProduitlayers)\n",
        "\n",
        "nomProduitlayers = LSTM(256, input_shape=((20,50)),return_sequences=True)(nomProduitlayers)\n",
        "nomProduitlayers = Dropout(0.1)(nomProduitlayers)\n",
        "nomProduitlayers = BatchNormalization()(nomProduitlayers)\n",
        "\n",
        "nomProduitlayers = LSTM(256, input_shape=((20,50)),return_sequences=False)(nomProduitlayers)\n",
        "nomProduitlayers = Dropout(0.1)(nomProduitlayers)\n",
        "nomProduitlayers = BatchNormalization()(nomProduitlayers)\n",
        "\n",
        "nomProduit_output = Dense(96, activation='relu')(nomProduitlayers)\n",
        "nomProduit_output = Dropout(0.1)(nomProduit_output)\n",
        "\n",
        "other = Input(shape=(3,1))\n",
        "otherlayer = LSTM(256, input_shape=((3,1)))(other)\n",
        "otherlayer = Dropout(0.1)(otherlayer)\n",
        "otherlayer = BatchNormalization()(otherlayer)\n",
        "\n",
        "other_output = Dense(32, activation='relu')(otherlayer)\n",
        "other_output = Dropout(0.1)(other_output)\n",
        "\n",
        "output = concatenate([nomProduit_output,other_output])\n",
        "output = Dense(64, activation='relu')(output)\n",
        "output = Dropout(0.1)(output)\n",
        "\n",
        "output = Dense(output_size, activation='softmax')(output)\n",
        "\n",
        "model = Model([nomProduit, other], output)\n",
        "model.summary()"
      ],
      "execution_count": null,
      "outputs": [
        {
          "output_type": "stream",
          "text": [
            "Model: \"functional_3\"\n",
            "__________________________________________________________________________________________________\n",
            "Layer (type)                    Output Shape         Param #     Connected to                     \n",
            "==================================================================================================\n",
            "input_3 (InputLayer)            [(None, 16)]         0                                            \n",
            "__________________________________________________________________________________________________\n",
            "embedding_2 (Embedding)         (None, 16, 50)       165600      input_3[0][0]                    \n",
            "__________________________________________________________________________________________________\n",
            "lstm_7 (LSTM)                   (None, 16, 256)      314368      embedding_2[0][0]                \n",
            "__________________________________________________________________________________________________\n",
            "dropout_11 (Dropout)            (None, 16, 256)      0           lstm_7[0][0]                     \n",
            "__________________________________________________________________________________________________\n",
            "batch_normalization_7 (BatchNor (None, 16, 256)      1024        dropout_11[0][0]                 \n",
            "__________________________________________________________________________________________________\n",
            "lstm_8 (LSTM)                   (None, 16, 256)      525312      batch_normalization_7[0][0]      \n",
            "__________________________________________________________________________________________________\n",
            "dropout_12 (Dropout)            (None, 16, 256)      0           lstm_8[0][0]                     \n",
            "__________________________________________________________________________________________________\n",
            "batch_normalization_8 (BatchNor (None, 16, 256)      1024        dropout_12[0][0]                 \n",
            "__________________________________________________________________________________________________\n",
            "input_4 (InputLayer)            [(None, 3, 1)]       0                                            \n",
            "__________________________________________________________________________________________________\n",
            "lstm_9 (LSTM)                   (None, 256)          525312      batch_normalization_8[0][0]      \n",
            "__________________________________________________________________________________________________\n",
            "lstm_10 (LSTM)                  (None, 256)          264192      input_4[0][0]                    \n",
            "__________________________________________________________________________________________________\n",
            "dropout_13 (Dropout)            (None, 256)          0           lstm_9[0][0]                     \n",
            "__________________________________________________________________________________________________\n",
            "dropout_15 (Dropout)            (None, 256)          0           lstm_10[0][0]                    \n",
            "__________________________________________________________________________________________________\n",
            "batch_normalization_9 (BatchNor (None, 256)          1024        dropout_13[0][0]                 \n",
            "__________________________________________________________________________________________________\n",
            "batch_normalization_10 (BatchNo (None, 256)          1024        dropout_15[0][0]                 \n",
            "__________________________________________________________________________________________________\n",
            "dense_6 (Dense)                 (None, 96)           24672       batch_normalization_9[0][0]      \n",
            "__________________________________________________________________________________________________\n",
            "dense_7 (Dense)                 (None, 32)           8224        batch_normalization_10[0][0]     \n",
            "__________________________________________________________________________________________________\n",
            "dropout_14 (Dropout)            (None, 96)           0           dense_6[0][0]                    \n",
            "__________________________________________________________________________________________________\n",
            "dropout_16 (Dropout)            (None, 32)           0           dense_7[0][0]                    \n",
            "__________________________________________________________________________________________________\n",
            "concatenate_1 (Concatenate)     (None, 128)          0           dropout_14[0][0]                 \n",
            "                                                                 dropout_16[0][0]                 \n",
            "__________________________________________________________________________________________________\n",
            "dense_8 (Dense)                 (None, 64)           8256        concatenate_1[0][0]              \n",
            "__________________________________________________________________________________________________\n",
            "dropout_17 (Dropout)            (None, 64)           0           dense_8[0][0]                    \n",
            "__________________________________________________________________________________________________\n",
            "dense_9 (Dense)                 (None, 44)           2860        dropout_17[0][0]                 \n",
            "==================================================================================================\n",
            "Total params: 1,842,892\n",
            "Trainable params: 1,840,844\n",
            "Non-trainable params: 2,048\n",
            "__________________________________________________________________________________________________\n"
          ],
          "name": "stdout"
        }
      ]
    },
    {
      "cell_type": "code",
      "metadata": {
        "id": "vJbnWz_ex4Nc",
        "colab_type": "code",
        "colab": {}
      },
      "source": [
        "model.compile(loss='categorical_crossentropy', optimizer='adam', metrics=['accuracy'])"
      ],
      "execution_count": null,
      "outputs": []
    },
    {
      "cell_type": "code",
      "metadata": {
        "id": "EdOh62mU7nxH",
        "colab_type": "code",
        "colab": {
          "base_uri": "https://localhost:8080/",
          "height": 1000
        },
        "outputId": "c39b3a86-e9a1-4d4d-9333-a354c5341ab0"
      },
      "source": [
        "model.fit([nomProduit_train2,other_train2], encoded_category_train2,validation_data=([nomProduit_valid,other_valid],encoded_category_valid), epochs = 40, batch_size = 64)"
      ],
      "execution_count": null,
      "outputs": [
        {
          "output_type": "stream",
          "text": [
            "Epoch 1/40\n",
            "51/51 [==============================] - 2s 42ms/step - loss: 3.1124 - accuracy: 0.2262 - val_loss: 3.7503 - val_accuracy: 0.0654\n",
            "Epoch 2/40\n",
            "51/51 [==============================] - 1s 17ms/step - loss: 1.8966 - accuracy: 0.4871 - val_loss: 3.6598 - val_accuracy: 0.0810\n",
            "Epoch 3/40\n",
            "51/51 [==============================] - 1s 14ms/step - loss: 1.2605 - accuracy: 0.6223 - val_loss: 3.4814 - val_accuracy: 0.1153\n",
            "Epoch 4/40\n",
            "51/51 [==============================] - 1s 15ms/step - loss: 0.9445 - accuracy: 0.7105 - val_loss: 3.1647 - val_accuracy: 0.1433\n",
            "Epoch 5/40\n",
            "51/51 [==============================] - 1s 15ms/step - loss: 0.7793 - accuracy: 0.7541 - val_loss: 3.0609 - val_accuracy: 0.1807\n",
            "Epoch 6/40\n",
            "51/51 [==============================] - 1s 14ms/step - loss: 0.6243 - accuracy: 0.8036 - val_loss: 2.4187 - val_accuracy: 0.3333\n",
            "Epoch 7/40\n",
            "51/51 [==============================] - 1s 15ms/step - loss: 0.5311 - accuracy: 0.8359 - val_loss: 1.7017 - val_accuracy: 0.4829\n",
            "Epoch 8/40\n",
            "51/51 [==============================] - 1s 14ms/step - loss: 0.4672 - accuracy: 0.8531 - val_loss: 1.7945 - val_accuracy: 0.4922\n",
            "Epoch 9/40\n",
            "51/51 [==============================] - 1s 15ms/step - loss: 0.4469 - accuracy: 0.8639 - val_loss: 1.8976 - val_accuracy: 0.4984\n",
            "Epoch 10/40\n",
            "51/51 [==============================] - 1s 17ms/step - loss: 0.3744 - accuracy: 0.8829 - val_loss: 1.7754 - val_accuracy: 0.5514\n",
            "Epoch 11/40\n",
            "51/51 [==============================] - 1s 15ms/step - loss: 0.3271 - accuracy: 0.9038 - val_loss: 1.4031 - val_accuracy: 0.6137\n",
            "Epoch 12/40\n",
            "51/51 [==============================] - 1s 15ms/step - loss: 0.3144 - accuracy: 0.9023 - val_loss: 1.6711 - val_accuracy: 0.6044\n",
            "Epoch 13/40\n",
            "51/51 [==============================] - 1s 16ms/step - loss: 0.3062 - accuracy: 0.9014 - val_loss: 1.9325 - val_accuracy: 0.5576\n",
            "Epoch 14/40\n",
            "51/51 [==============================] - 1s 17ms/step - loss: 0.2958 - accuracy: 0.9023 - val_loss: 1.6268 - val_accuracy: 0.6044\n",
            "Epoch 15/40\n",
            "51/51 [==============================] - 1s 17ms/step - loss: 0.2754 - accuracy: 0.9075 - val_loss: 2.2895 - val_accuracy: 0.5701\n",
            "Epoch 16/40\n",
            "51/51 [==============================] - 1s 14ms/step - loss: 0.2877 - accuracy: 0.9053 - val_loss: 1.6306 - val_accuracy: 0.6075\n",
            "Epoch 17/40\n",
            "51/51 [==============================] - 1s 16ms/step - loss: 0.2888 - accuracy: 0.9100 - val_loss: 1.7804 - val_accuracy: 0.5919\n",
            "Epoch 18/40\n",
            "51/51 [==============================] - 1s 15ms/step - loss: 0.2530 - accuracy: 0.9192 - val_loss: 1.7653 - val_accuracy: 0.6044\n",
            "Epoch 19/40\n",
            "51/51 [==============================] - 1s 15ms/step - loss: 0.2322 - accuracy: 0.9275 - val_loss: 1.6621 - val_accuracy: 0.6573\n",
            "Epoch 20/40\n",
            "51/51 [==============================] - 1s 15ms/step - loss: 0.2408 - accuracy: 0.9250 - val_loss: 1.7938 - val_accuracy: 0.6199\n",
            "Epoch 21/40\n",
            "51/51 [==============================] - 1s 14ms/step - loss: 0.2075 - accuracy: 0.9312 - val_loss: 1.9102 - val_accuracy: 0.6012\n",
            "Epoch 22/40\n",
            "51/51 [==============================] - 1s 15ms/step - loss: 0.2289 - accuracy: 0.9241 - val_loss: 2.2276 - val_accuracy: 0.5763\n",
            "Epoch 23/40\n",
            "51/51 [==============================] - 1s 15ms/step - loss: 0.2015 - accuracy: 0.9321 - val_loss: 1.8611 - val_accuracy: 0.6573\n",
            "Epoch 24/40\n",
            "51/51 [==============================] - 1s 15ms/step - loss: 0.2118 - accuracy: 0.9305 - val_loss: 1.7980 - val_accuracy: 0.6480\n",
            "Epoch 25/40\n",
            "51/51 [==============================] - 1s 15ms/step - loss: 0.1783 - accuracy: 0.9398 - val_loss: 1.9115 - val_accuracy: 0.6231\n",
            "Epoch 26/40\n",
            "51/51 [==============================] - 1s 14ms/step - loss: 0.1979 - accuracy: 0.9336 - val_loss: 2.1764 - val_accuracy: 0.6012\n",
            "Epoch 27/40\n",
            "51/51 [==============================] - 1s 15ms/step - loss: 0.1982 - accuracy: 0.9348 - val_loss: 2.1337 - val_accuracy: 0.6199\n",
            "Epoch 28/40\n",
            "51/51 [==============================] - 1s 16ms/step - loss: 0.2008 - accuracy: 0.9336 - val_loss: 1.7543 - val_accuracy: 0.6355\n",
            "Epoch 29/40\n",
            "51/51 [==============================] - 1s 14ms/step - loss: 0.2085 - accuracy: 0.9318 - val_loss: 1.9117 - val_accuracy: 0.6293\n",
            "Epoch 30/40\n",
            "51/51 [==============================] - 1s 14ms/step - loss: 0.1873 - accuracy: 0.9395 - val_loss: 1.9543 - val_accuracy: 0.6137\n",
            "Epoch 31/40\n",
            "51/51 [==============================] - 1s 15ms/step - loss: 0.1763 - accuracy: 0.9370 - val_loss: 1.8851 - val_accuracy: 0.6293\n",
            "Epoch 32/40\n",
            "51/51 [==============================] - 1s 14ms/step - loss: 0.1621 - accuracy: 0.9444 - val_loss: 2.1644 - val_accuracy: 0.6324\n",
            "Epoch 33/40\n",
            "51/51 [==============================] - 1s 17ms/step - loss: 0.1647 - accuracy: 0.9428 - val_loss: 2.2383 - val_accuracy: 0.6075\n",
            "Epoch 34/40\n",
            "51/51 [==============================] - 1s 17ms/step - loss: 0.1620 - accuracy: 0.9428 - val_loss: 1.9289 - val_accuracy: 0.6293\n",
            "Epoch 35/40\n",
            "51/51 [==============================] - 1s 15ms/step - loss: 0.1586 - accuracy: 0.9419 - val_loss: 1.9264 - val_accuracy: 0.6386\n",
            "Epoch 36/40\n",
            "51/51 [==============================] - 1s 14ms/step - loss: 0.1540 - accuracy: 0.9471 - val_loss: 1.9480 - val_accuracy: 0.6106\n",
            "Epoch 37/40\n",
            "51/51 [==============================] - 1s 15ms/step - loss: 0.1558 - accuracy: 0.9441 - val_loss: 1.8339 - val_accuracy: 0.6511\n",
            "Epoch 38/40\n",
            "51/51 [==============================] - 1s 15ms/step - loss: 0.1388 - accuracy: 0.9471 - val_loss: 2.0395 - val_accuracy: 0.6168\n",
            "Epoch 39/40\n",
            "51/51 [==============================] - 1s 17ms/step - loss: 0.1449 - accuracy: 0.9456 - val_loss: 2.1495 - val_accuracy: 0.6449\n",
            "Epoch 40/40\n",
            "51/51 [==============================] - 1s 17ms/step - loss: 0.1771 - accuracy: 0.9376 - val_loss: 1.9307 - val_accuracy: 0.6511\n"
          ],
          "name": "stdout"
        },
        {
          "output_type": "execute_result",
          "data": {
            "text/plain": [
              "<tensorflow.python.keras.callbacks.History at 0x7f650b2884a8>"
            ]
          },
          "metadata": {
            "tags": []
          },
          "execution_count": 49
        }
      ]
    },
    {
      "cell_type": "code",
      "metadata": {
        "id": "DXo5dcCCGLeG",
        "colab_type": "code",
        "colab": {
          "base_uri": "https://localhost:8080/",
          "height": 52
        },
        "outputId": "1b23487b-a381-49f6-df29-635f9e329174"
      },
      "source": [
        "loss, acc = model.evaluate([nomProduit_test,other_test], encoded_category_test)\n",
        "acc"
      ],
      "execution_count": null,
      "outputs": [
        {
          "output_type": "stream",
          "text": [
            "13/13 [==============================] - 0s 6ms/step - loss: 1.8102 - accuracy: 0.6935\n"
          ],
          "name": "stdout"
        },
        {
          "output_type": "execute_result",
          "data": {
            "text/plain": [
              "0.6934673190116882"
            ]
          },
          "metadata": {
            "tags": []
          },
          "execution_count": 50
        }
      ]
    },
    {
      "cell_type": "code",
      "metadata": {
        "id": "jk6lxSe7GVmy",
        "colab_type": "code",
        "colab": {}
      },
      "source": [
        "pred = model.predict([nomProduit_test,other_test])\n"
      ],
      "execution_count": null,
      "outputs": []
    },
    {
      "cell_type": "code",
      "metadata": {
        "id": "gWSXxa8jGmM5",
        "colab_type": "code",
        "colab": {
          "base_uri": "https://localhost:8080/",
          "height": 34
        },
        "outputId": "4d49d379-fc12-4bb2-c857-b6dfb164ac1a"
      },
      "source": [
        "np.sum(pred[0])\n"
      ],
      "execution_count": null,
      "outputs": [
        {
          "output_type": "execute_result",
          "data": {
            "text/plain": [
              "1.0"
            ]
          },
          "metadata": {
            "tags": []
          },
          "execution_count": 52
        }
      ]
    },
    {
      "cell_type": "code",
      "metadata": {
        "id": "GgzMrOXKGno0",
        "colab_type": "code",
        "colab": {
          "base_uri": "https://localhost:8080/",
          "height": 34
        },
        "outputId": "5d0ec5a6-58a3-4fb1-fd58-554cc76b735c"
      },
      "source": [
        "np.argmax(pred[31])"
      ],
      "execution_count": null,
      "outputs": [
        {
          "output_type": "execute_result",
          "data": {
            "text/plain": [
              "20"
            ]
          },
          "metadata": {
            "tags": []
          },
          "execution_count": 55
        }
      ]
    },
    {
      "cell_type": "code",
      "metadata": {
        "id": "IQwDX1kaHTEz",
        "colab_type": "code",
        "colab": {
          "base_uri": "https://localhost:8080/",
          "height": 34
        },
        "outputId": "cdab24fa-5d57-4ac7-f4a0-43b3656ac749"
      },
      "source": [
        "category_test[31]"
      ],
      "execution_count": null,
      "outputs": [
        {
          "output_type": "execute_result",
          "data": {
            "text/plain": [
              "42"
            ]
          },
          "metadata": {
            "tags": []
          },
          "execution_count": 56
        }
      ]
    },
    {
      "cell_type": "code",
      "metadata": {
        "id": "saEWigF-Zz2O",
        "colab_type": "code",
        "colab": {
          "base_uri": "https://localhost:8080/",
          "height": 359
        },
        "outputId": "b4dc6a12-7543-477c-d24f-1e8c5d121e7c"
      },
      "source": [
        "# Loading Image Dataset\n",
        "df_image = pd.read_csv('/content/prd_classification_image.csv')\n",
        "df_image.head(10)"
      ],
      "execution_count": null,
      "outputs": [
        {
          "output_type": "execute_result",
          "data": {
            "text/html": [
              "<div>\n",
              "<style scoped>\n",
              "    .dataframe tbody tr th:only-of-type {\n",
              "        vertical-align: middle;\n",
              "    }\n",
              "\n",
              "    .dataframe tbody tr th {\n",
              "        vertical-align: top;\n",
              "    }\n",
              "\n",
              "    .dataframe thead th {\n",
              "        text-align: right;\n",
              "    }\n",
              "</style>\n",
              "<table border=\"1\" class=\"dataframe\">\n",
              "  <thead>\n",
              "    <tr style=\"text-align: right;\">\n",
              "      <th></th>\n",
              "      <th>id</th>\n",
              "      <th>url</th>\n",
              "    </tr>\n",
              "  </thead>\n",
              "  <tbody>\n",
              "    <tr>\n",
              "      <th>0</th>\n",
              "      <td>166</td>\n",
              "      <td>https://media.auchan.fr/MEDIASTEP73419569_165x...</td>\n",
              "    </tr>\n",
              "    <tr>\n",
              "      <th>1</th>\n",
              "      <td>2810</td>\n",
              "      <td>https://media.auchan.fr/MEDIASTEP57433119_165x...</td>\n",
              "    </tr>\n",
              "    <tr>\n",
              "      <th>2</th>\n",
              "      <td>3131</td>\n",
              "      <td>https://media.auchan.fr/MEDIASTEP61167474_460x...</td>\n",
              "    </tr>\n",
              "    <tr>\n",
              "      <th>3</th>\n",
              "      <td>3146</td>\n",
              "      <td>https://media.auchan.fr/MEDIASTEP57975980_165x...</td>\n",
              "    </tr>\n",
              "    <tr>\n",
              "      <th>4</th>\n",
              "      <td>6395</td>\n",
              "      <td>https://media.auchan.fr/MEDIASTEP67195204_165x...</td>\n",
              "    </tr>\n",
              "    <tr>\n",
              "      <th>5</th>\n",
              "      <td>6464</td>\n",
              "      <td>https://media.auchan.fr/MEDIASTEP61854876_460x...</td>\n",
              "    </tr>\n",
              "    <tr>\n",
              "      <th>6</th>\n",
              "      <td>6465</td>\n",
              "      <td>https://media.auchan.fr/MEDIASTEP57433204_165x...</td>\n",
              "    </tr>\n",
              "    <tr>\n",
              "      <th>7</th>\n",
              "      <td>6465</td>\n",
              "      <td>https://media.auchan.fr/MEDIASTEP57433204_165x...</td>\n",
              "    </tr>\n",
              "    <tr>\n",
              "      <th>8</th>\n",
              "      <td>6465</td>\n",
              "      <td>https://media.auchan.fr/MEDIASTEP57433204_165x...</td>\n",
              "    </tr>\n",
              "    <tr>\n",
              "      <th>9</th>\n",
              "      <td>6465</td>\n",
              "      <td>https://media.auchan.fr/MEDIASTEP57433204_165x...</td>\n",
              "    </tr>\n",
              "  </tbody>\n",
              "</table>\n",
              "</div>"
            ],
            "text/plain": [
              "     id                                                url\n",
              "0   166  https://media.auchan.fr/MEDIASTEP73419569_165x...\n",
              "1  2810  https://media.auchan.fr/MEDIASTEP57433119_165x...\n",
              "2  3131  https://media.auchan.fr/MEDIASTEP61167474_460x...\n",
              "3  3146  https://media.auchan.fr/MEDIASTEP57975980_165x...\n",
              "4  6395  https://media.auchan.fr/MEDIASTEP67195204_165x...\n",
              "5  6464  https://media.auchan.fr/MEDIASTEP61854876_460x...\n",
              "6  6465  https://media.auchan.fr/MEDIASTEP57433204_165x...\n",
              "7  6465  https://media.auchan.fr/MEDIASTEP57433204_165x...\n",
              "8  6465  https://media.auchan.fr/MEDIASTEP57433204_165x...\n",
              "9  6465  https://media.auchan.fr/MEDIASTEP57433204_165x..."
            ]
          },
          "metadata": {
            "tags": []
          },
          "execution_count": 165
        }
      ]
    },
    {
      "cell_type": "code",
      "metadata": {
        "id": "py6blJzopLuu",
        "colab_type": "code",
        "colab": {
          "base_uri": "https://localhost:8080/",
          "height": 68
        },
        "outputId": "b2302dd7-ee9b-40ff-ba7d-e8f5d954683e"
      },
      "source": [
        "# Dealing with missing values\n",
        "df_image.isnull().sum()"
      ],
      "execution_count": null,
      "outputs": [
        {
          "output_type": "execute_result",
          "data": {
            "text/plain": [
              "id       0\n",
              "url    136\n",
              "dtype: int64"
            ]
          },
          "metadata": {
            "tags": []
          },
          "execution_count": 166
        }
      ]
    },
    {
      "cell_type": "code",
      "metadata": {
        "id": "oVMo6jBgpXQA",
        "colab_type": "code",
        "colab": {
          "base_uri": "https://localhost:8080/",
          "height": 68
        },
        "outputId": "8d07e599-dccf-4b3a-87cf-5e26ea8b475a"
      },
      "source": [
        "df_image.dropna(inplace=True)\n",
        "df_image.isnull().sum()"
      ],
      "execution_count": null,
      "outputs": [
        {
          "output_type": "execute_result",
          "data": {
            "text/plain": [
              "id     0\n",
              "url    0\n",
              "dtype: int64"
            ]
          },
          "metadata": {
            "tags": []
          },
          "execution_count": 167
        }
      ]
    },
    {
      "cell_type": "code",
      "metadata": {
        "id": "2co6XMuTahwR",
        "colab_type": "code",
        "colab": {
          "base_uri": "https://localhost:8080/",
          "height": 359
        },
        "outputId": "18695e39-613f-414a-bfa8-c6bf49c01a36"
      },
      "source": [
        "df_text.head(10)"
      ],
      "execution_count": null,
      "outputs": [
        {
          "output_type": "execute_result",
          "data": {
            "text/html": [
              "<div>\n",
              "<style scoped>\n",
              "    .dataframe tbody tr th:only-of-type {\n",
              "        vertical-align: middle;\n",
              "    }\n",
              "\n",
              "    .dataframe tbody tr th {\n",
              "        vertical-align: top;\n",
              "    }\n",
              "\n",
              "    .dataframe thead th {\n",
              "        text-align: right;\n",
              "    }\n",
              "</style>\n",
              "<table border=\"1\" class=\"dataframe\">\n",
              "  <thead>\n",
              "    <tr style=\"text-align: right;\">\n",
              "      <th></th>\n",
              "      <th>id</th>\n",
              "      <th>nomProduit</th>\n",
              "      <th>marque</th>\n",
              "      <th>famille_drive</th>\n",
              "      <th>rayon_drive</th>\n",
              "      <th>category</th>\n",
              "    </tr>\n",
              "  </thead>\n",
              "  <tbody>\n",
              "    <tr>\n",
              "      <th>0</th>\n",
              "      <td>9632</td>\n",
              "      <td>Pressade nectar de thé à la pêche bio 6x20cl</td>\n",
              "      <td>PRESSADE</td>\n",
              "      <td>Epicerie sucrée</td>\n",
              "      <td>Bio &amp; Ecolo</td>\n",
              "      <td>Boissons à base de thé</td>\n",
              "    </tr>\n",
              "    <tr>\n",
              "      <th>1</th>\n",
              "      <td>11316</td>\n",
              "      <td>Andros Pur jus d'oranges pressées avec pulpe 1L</td>\n",
              "      <td>ANDROS</td>\n",
              "      <td>Jus d'orange</td>\n",
              "      <td>Fruits &amp; légumes</td>\n",
              "      <td>Jus et nectars à l'orange</td>\n",
              "    </tr>\n",
              "    <tr>\n",
              "      <th>2</th>\n",
              "      <td>11322</td>\n",
              "      <td>Tropicana pure premium jus de pommes pressées 1l</td>\n",
              "      <td>TROPICANA</td>\n",
              "      <td>Jus d'orange</td>\n",
              "      <td>Fruits &amp; légumes</td>\n",
              "      <td>Jus de pomme</td>\n",
              "    </tr>\n",
              "    <tr>\n",
              "      <th>3</th>\n",
              "      <td>11324</td>\n",
              "      <td>Tropicana pur jus ananas citron vert 1l</td>\n",
              "      <td>TROPICANA</td>\n",
              "      <td>Jus d'orange</td>\n",
              "      <td>Fruits &amp; légumes</td>\n",
              "      <td>Mélanges de fruits</td>\n",
              "    </tr>\n",
              "    <tr>\n",
              "      <th>4</th>\n",
              "      <td>188</td>\n",
              "      <td>Innocent Pur jus d'oranges sanguines 90cl</td>\n",
              "      <td>INNOCENT</td>\n",
              "      <td>Jus d'orange</td>\n",
              "      <td>Fruits &amp; légumes</td>\n",
              "      <td>Jus et nectars à l'orange</td>\n",
              "    </tr>\n",
              "    <tr>\n",
              "      <th>5</th>\n",
              "      <td>192</td>\n",
              "      <td>Innocent Pur jus d'oranges avec pulpe 90cl</td>\n",
              "      <td>INNOCENT</td>\n",
              "      <td>Jus d'orange</td>\n",
              "      <td>Fruits &amp; légumes</td>\n",
              "      <td>Jus et nectars à l'orange</td>\n",
              "    </tr>\n",
              "    <tr>\n",
              "      <th>6</th>\n",
              "      <td>178</td>\n",
              "      <td>Innocent Pur jus d'oranges sans pulpe 90cl</td>\n",
              "      <td>INNOCENT</td>\n",
              "      <td>Jus d'orange</td>\n",
              "      <td>Fruits &amp; légumes</td>\n",
              "      <td>Jus et nectars à l'orange</td>\n",
              "    </tr>\n",
              "    <tr>\n",
              "      <th>7</th>\n",
              "      <td>139524</td>\n",
              "      <td>Andros Pur jus d'oranges sans pulpe 1L</td>\n",
              "      <td>ANDROS</td>\n",
              "      <td>Jus d'orange</td>\n",
              "      <td>Fruits &amp; légumes</td>\n",
              "      <td>Jus et nectars à l'orange</td>\n",
              "    </tr>\n",
              "    <tr>\n",
              "      <th>8</th>\n",
              "      <td>223606</td>\n",
              "      <td>ANDROS Pur jus d'oranges pressées sans sucres ...</td>\n",
              "      <td>ANDROS</td>\n",
              "      <td>Jus d'orange</td>\n",
              "      <td>Fruits &amp; légumes</td>\n",
              "      <td>Jus et nectars à l'orange</td>\n",
              "    </tr>\n",
              "    <tr>\n",
              "      <th>9</th>\n",
              "      <td>202</td>\n",
              "      <td>Tropicana Pur jus d'oranges pressées avec pulp...</td>\n",
              "      <td>TROPICANA</td>\n",
              "      <td>Jus d'orange</td>\n",
              "      <td>Fruits &amp; légumes</td>\n",
              "      <td>Jus et nectars à l'orange</td>\n",
              "    </tr>\n",
              "  </tbody>\n",
              "</table>\n",
              "</div>"
            ],
            "text/plain": [
              "       id  ...                   category\n",
              "0    9632  ...     Boissons à base de thé\n",
              "1   11316  ...  Jus et nectars à l'orange\n",
              "2   11322  ...               Jus de pomme\n",
              "3   11324  ...         Mélanges de fruits\n",
              "4     188  ...  Jus et nectars à l'orange\n",
              "5     192  ...  Jus et nectars à l'orange\n",
              "6     178  ...  Jus et nectars à l'orange\n",
              "7  139524  ...  Jus et nectars à l'orange\n",
              "8  223606  ...  Jus et nectars à l'orange\n",
              "9     202  ...  Jus et nectars à l'orange\n",
              "\n",
              "[10 rows x 6 columns]"
            ]
          },
          "metadata": {
            "tags": []
          },
          "execution_count": 168
        }
      ]
    },
    {
      "cell_type": "code",
      "metadata": {
        "id": "z_NHXxCta45Z",
        "colab_type": "code",
        "colab": {
          "base_uri": "https://localhost:8080/",
          "height": 34
        },
        "outputId": "a6c9484a-785b-4b65-b3a8-031ba17c01b7"
      },
      "source": [
        "# Merging the 2 Datasets\n",
        "newdf_image = df_image.merge(new_dftext,on=\"id\", how = 'inner')\n",
        "newdf_image.shape"
      ],
      "execution_count": null,
      "outputs": [
        {
          "output_type": "execute_result",
          "data": {
            "text/plain": [
              "(110772, 7)"
            ]
          },
          "metadata": {
            "tags": []
          },
          "execution_count": 169
        }
      ]
    },
    {
      "cell_type": "code",
      "metadata": {
        "id": "kSdw_JrC6djD",
        "colab_type": "code",
        "colab": {
          "base_uri": "https://localhost:8080/",
          "height": 529
        },
        "outputId": "17a1acf6-0867-4d94-ef09-4424c08ad9fb"
      },
      "source": [
        "# Merging the 2 Datasets for testing equality\n",
        "newdf_image_2 = df_image.merge(df_text,on=\"id\", how = 'inner')\n",
        "newdf_image_2.head(10)"
      ],
      "execution_count": null,
      "outputs": [
        {
          "output_type": "execute_result",
          "data": {
            "text/html": [
              "<div>\n",
              "<style scoped>\n",
              "    .dataframe tbody tr th:only-of-type {\n",
              "        vertical-align: middle;\n",
              "    }\n",
              "\n",
              "    .dataframe tbody tr th {\n",
              "        vertical-align: top;\n",
              "    }\n",
              "\n",
              "    .dataframe thead th {\n",
              "        text-align: right;\n",
              "    }\n",
              "</style>\n",
              "<table border=\"1\" class=\"dataframe\">\n",
              "  <thead>\n",
              "    <tr style=\"text-align: right;\">\n",
              "      <th></th>\n",
              "      <th>id</th>\n",
              "      <th>url</th>\n",
              "      <th>nomProduit</th>\n",
              "      <th>marque</th>\n",
              "      <th>famille_drive</th>\n",
              "      <th>rayon_drive</th>\n",
              "      <th>category</th>\n",
              "    </tr>\n",
              "  </thead>\n",
              "  <tbody>\n",
              "    <tr>\n",
              "      <th>0</th>\n",
              "      <td>166</td>\n",
              "      <td>https://media.auchan.fr/MEDIASTEP73419569_165x...</td>\n",
              "      <td>Andros Jus de pommes 1,5L</td>\n",
              "      <td>ANDROS</td>\n",
              "      <td>Softs</td>\n",
              "      <td>C'est l'été</td>\n",
              "      <td>Jus de pomme</td>\n",
              "    </tr>\n",
              "    <tr>\n",
              "      <th>1</th>\n",
              "      <td>2810</td>\n",
              "      <td>https://media.auchan.fr/MEDIASTEP57433119_165x...</td>\n",
              "      <td>Auchan bio pur jus de fruits du verger brique 1l</td>\n",
              "      <td>AUCHAN</td>\n",
              "      <td>Multifruits</td>\n",
              "      <td>Boissons</td>\n",
              "      <td>Jus de pomme</td>\n",
              "    </tr>\n",
              "    <tr>\n",
              "      <th>2</th>\n",
              "      <td>3131</td>\n",
              "      <td>https://media.auchan.fr/MEDIASTEP61167474_460x...</td>\n",
              "      <td>Rik &amp; Rok pur jus de pomme bio 4x20cl</td>\n",
              "      <td>RIK ET ROK</td>\n",
              "      <td>Monofruit</td>\n",
              "      <td>Boissons</td>\n",
              "      <td>Jus de pomme</td>\n",
              "    </tr>\n",
              "    <tr>\n",
              "      <th>3</th>\n",
              "      <td>3146</td>\n",
              "      <td>https://media.auchan.fr/MEDIASTEP57975980_165x...</td>\n",
              "      <td>Thomas le prince Pur jus de pomme poire bio bo...</td>\n",
              "      <td>THOMAS LE PRINCE</td>\n",
              "      <td>Boissons sans alcool</td>\n",
              "      <td>Bio &amp; Ecolo</td>\n",
              "      <td>Jus de pomme</td>\n",
              "    </tr>\n",
              "    <tr>\n",
              "      <th>4</th>\n",
              "      <td>6395</td>\n",
              "      <td>https://media.auchan.fr/MEDIASTEP67195204_165x...</td>\n",
              "      <td>Auchan Pur jus de pomme trouble 1l</td>\n",
              "      <td>AUCHAN</td>\n",
              "      <td>Monofruit</td>\n",
              "      <td>Boissons</td>\n",
              "      <td>Jus de pomme</td>\n",
              "    </tr>\n",
              "    <tr>\n",
              "      <th>5</th>\n",
              "      <td>6464</td>\n",
              "      <td>https://media.auchan.fr/MEDIASTEP61854876_460x...</td>\n",
              "      <td>Pressade pocket abc pomme 8x20cl</td>\n",
              "      <td>PRESSADE</td>\n",
              "      <td>Orange</td>\n",
              "      <td>Boissons</td>\n",
              "      <td>Jus de pomme</td>\n",
              "    </tr>\n",
              "    <tr>\n",
              "      <th>6</th>\n",
              "      <td>6465</td>\n",
              "      <td>https://media.auchan.fr/MEDIASTEP57433204_165x...</td>\n",
              "      <td>Pressade Jus de pomme bonjour brique 1,5l</td>\n",
              "      <td>PRESSADE</td>\n",
              "      <td>Monofruit</td>\n",
              "      <td>Boissons</td>\n",
              "      <td>Jus de pomme</td>\n",
              "    </tr>\n",
              "    <tr>\n",
              "      <th>7</th>\n",
              "      <td>6465</td>\n",
              "      <td>https://media.auchan.fr/MEDIASTEP57433204_165x...</td>\n",
              "      <td>Pressade Jus de pomme bonjour brique 1,5l</td>\n",
              "      <td>PRESSADE</td>\n",
              "      <td>Monofruit</td>\n",
              "      <td>Boissons</td>\n",
              "      <td>Jus de pomme</td>\n",
              "    </tr>\n",
              "    <tr>\n",
              "      <th>8</th>\n",
              "      <td>6465</td>\n",
              "      <td>https://media.auchan.fr/MEDIASTEP57433204_165x...</td>\n",
              "      <td>Pressade Jus de pomme bonjour brique 1,5l</td>\n",
              "      <td>PRESSADE</td>\n",
              "      <td>Monofruit</td>\n",
              "      <td>Boissons</td>\n",
              "      <td>Jus de pomme</td>\n",
              "    </tr>\n",
              "    <tr>\n",
              "      <th>9</th>\n",
              "      <td>6465</td>\n",
              "      <td>https://media.auchan.fr/MEDIASTEP57433204_165x...</td>\n",
              "      <td>Pressade Jus de pomme bonjour brique 1,5l</td>\n",
              "      <td>PRESSADE</td>\n",
              "      <td>Monofruit</td>\n",
              "      <td>Boissons</td>\n",
              "      <td>Jus de pomme</td>\n",
              "    </tr>\n",
              "  </tbody>\n",
              "</table>\n",
              "</div>"
            ],
            "text/plain": [
              "     id  ...      category\n",
              "0   166  ...  Jus de pomme\n",
              "1  2810  ...  Jus de pomme\n",
              "2  3131  ...  Jus de pomme\n",
              "3  3146  ...  Jus de pomme\n",
              "4  6395  ...  Jus de pomme\n",
              "5  6464  ...  Jus de pomme\n",
              "6  6465  ...  Jus de pomme\n",
              "7  6465  ...  Jus de pomme\n",
              "8  6465  ...  Jus de pomme\n",
              "9  6465  ...  Jus de pomme\n",
              "\n",
              "[10 rows x 7 columns]"
            ]
          },
          "metadata": {
            "tags": []
          },
          "execution_count": 170
        }
      ]
    },
    {
      "cell_type": "code",
      "metadata": {
        "id": "uXr8El1H5p5v",
        "colab_type": "code",
        "colab": {
          "base_uri": "https://localhost:8080/",
          "height": 102
        },
        "outputId": "3398ab5a-f17a-4084-f499-09cab937b187"
      },
      "source": [
        "# Testing to see that the data didn't shuffle while merging\n",
        "id_to_word = {val:key for key,val in word_to_id.items()}\n",
        "for j in range(5):\n",
        "  print([id_to_word[i] for i in newdf_image.nomProduit.values[j]])"
      ],
      "execution_count": null,
      "outputs": [
        {
          "output_type": "stream",
          "text": [
            "['<START>', 'andros', 'jus', 'pommes', '1', '5l']\n",
            "['<START>', 'auchan', 'bio', 'pur', 'jus', 'fruits', 'verger', 'brique', '1l']\n",
            "['<START>', 'rik', '&', 'rok', 'pur', 'jus', 'pomme', 'bio', '4x20cl']\n",
            "['<START>', 'thomas', 'prince', 'pur', 'jus', 'pomme', 'poire', 'bio', 'bouteille', 'verre', '1l']\n",
            "['<START>', 'auchan', 'pur', 'jus', 'pomme', 'trouble', '1l']\n"
          ],
          "name": "stdout"
        }
      ]
    },
    {
      "cell_type": "code",
      "metadata": {
        "id": "0qG0JKuGn6WF",
        "colab_type": "code",
        "colab": {
          "base_uri": "https://localhost:8080/",
          "height": 102
        },
        "outputId": "ffb7ba14-ed1a-4951-e1d7-80614d3f6eca"
      },
      "source": [
        "for j in range(5):\n",
        "  print(newdf_image_2.nomProduit.values[j].split())"
      ],
      "execution_count": null,
      "outputs": [
        {
          "output_type": "stream",
          "text": [
            "['Andros', 'Jus', 'de', 'pommes', '1,5L']\n",
            "['Auchan', 'bio', 'pur', 'jus', 'de', 'fruits', 'du', 'verger', 'brique', '1l']\n",
            "['Rik', '&', 'Rok', 'pur', 'jus', 'de', 'pomme', 'bio', '4x20cl']\n",
            "['Thomas', 'le', 'prince', 'Pur', 'jus', 'de', 'pomme', 'poire', 'bio', 'bouteille', 'verre', '1l']\n",
            "['Auchan', 'Pur', 'jus', 'de', 'pomme', 'trouble', '1l']\n"
          ],
          "name": "stdout"
        }
      ]
    },
    {
      "cell_type": "code",
      "metadata": {
        "id": "1vrYjp9qo9Zn",
        "colab_type": "code",
        "colab": {
          "base_uri": "https://localhost:8080/",
          "height": 153
        },
        "outputId": "8e7cdf4b-82e3-4a6f-c90b-efa240a2d24d"
      },
      "source": [
        "newdf_image.isnull().sum()"
      ],
      "execution_count": null,
      "outputs": [
        {
          "output_type": "execute_result",
          "data": {
            "text/plain": [
              "id               0\n",
              "url              0\n",
              "nomProduit       0\n",
              "marque           0\n",
              "famille_drive    0\n",
              "rayon_drive      0\n",
              "category         0\n",
              "dtype: int64"
            ]
          },
          "metadata": {
            "tags": []
          },
          "execution_count": 173
        }
      ]
    },
    {
      "cell_type": "code",
      "metadata": {
        "id": "seaxIYLy4C45",
        "colab_type": "code",
        "colab": {}
      },
      "source": [
        "# delete the directory\n",
        "#import shutil\n",
        "#shutil.rmtree('/content/drive/My Drve/product')"
      ],
      "execution_count": null,
      "outputs": []
    },
    {
      "cell_type": "code",
      "metadata": {
        "id": "Eh7qylLTuGf2",
        "colab_type": "code",
        "colab": {}
      },
      "source": [
        "# Downloading Images\n",
        "\n",
        "import requests # to get image from the web\n",
        "import shutil # to save it locally\n",
        "import os\n",
        "\n",
        "if not os.path.isdir('/content/drive/My Drive/product'): \n",
        "  os.mkdir('/content/drive/My Drive/product') \n",
        "timed_out = open('/content/drive/My Drive/Timedout.txt','a')\n",
        "i = 0\n",
        "while i < newdf_image['url'].values.size:\n",
        "  ## Set up the image URL and filename\n",
        "  image_url = newdf_image['url'].values[i]\n",
        "  if 'http' not in image_url:\n",
        "    i += 1\n",
        "    continue \n",
        "  image_url = image_url.encode('ascii', 'ignore').decode('ascii')\n",
        "  filename = '/content/drive/My Drive/product/' + str(i) + '.jpg'\n",
        "  try:\n",
        "    # Open the url image, set stream to True, this will return the stream content.\n",
        "    r = requests.get(image_url,timeout = 5, stream = True)\n",
        "\n",
        "    # Check if the image was retrieved successfully\n",
        "    if r.status_code == 200:\n",
        "        # Set decode_content value to True, otherwise the downloaded image file's size will be zero.\n",
        "        r.raw.decode_content = True\n",
        "        \n",
        "        # Open a local file with wb ( write binary ) permission.\n",
        "        with open(filename,'wb') as f:\n",
        "            shutil.copyfileobj(r.raw, f)\n",
        "        if i % 10000 == 0:    \n",
        "          print(f'Image {i} sucessfully Downloaded: ',filename)\n",
        "    else:\n",
        "        print('Image Couldn\\'t be retreived')\n",
        "  except Exception as e:\n",
        "    timed_out.write(image_url+' '+str(i)+' \\n')\n",
        "    print(f'Timed out {i}')\n",
        "  i += 1"
      ],
      "execution_count": null,
      "outputs": []
    },
    {
      "cell_type": "code",
      "metadata": {
        "id": "T6jaxbAPSIDD",
        "colab_type": "code",
        "colab": {
          "base_uri": "https://localhost:8080/",
          "height": 34
        },
        "outputId": "65ccf684-db3c-40b4-bf35-f8cc77b60def"
      },
      "source": [
        "import requests # to get image from the web\n",
        "import shutil # to save it locally\n",
        "import os\n",
        "\n",
        "if not os.path.isdir('/content'): \n",
        "  os.mkdir('/content') \n",
        "image_url = newdf_image['url'].values[72616]\n",
        "image_url = image_url.encode('ascii', 'ignore').decode('ascii')\n",
        "filename = '/content/' + str(72616) + '.jpg'\n",
        "r = requests.get(image_url, stream = True)\n",
        "r.raw.decode_content = True\n",
        "      \n",
        "      # Open a local file with wb ( write binary ) permission.\n",
        "with open(filename,'wb') as f:\n",
        "  shutil.copyfileobj(r.raw, f)\n",
        "  print(f'Image {72616} sucessfully Downloaded: ',filename)"
      ],
      "execution_count": null,
      "outputs": [
        {
          "output_type": "stream",
          "text": [
            "Image 72616 sucessfully Downloaded:  /content72616.jpg\n"
          ],
          "name": "stdout"
        }
      ]
    },
    {
      "cell_type": "code",
      "metadata": {
        "id": "OuvyVWNUGF9x",
        "colab_type": "code",
        "colab": {
          "base_uri": "https://localhost:8080/",
          "height": 34
        },
        "outputId": "ec129b84-b0e9-4a1e-c8a8-60b42d5c7117"
      },
      "source": [
        "newdf_image.at[6,'url']"
      ],
      "execution_count": null,
      "outputs": [
        {
          "output_type": "execute_result",
          "data": {
            "text/plain": [
              "(110772, 7)"
            ]
          },
          "metadata": {
            "tags": []
          },
          "execution_count": 99
        }
      ]
    },
    {
      "cell_type": "code",
      "metadata": {
        "id": "ySur0yKqfFR3",
        "colab_type": "code",
        "colab": {}
      },
      "source": [
        "import requests # to get image from the web\n",
        "import shutil # to save it locally\n",
        "import os\n",
        "\n",
        "if not os.path.isdir('/content/product'): \n",
        "  os.mkdir('/content/product') \n",
        "\n",
        "to = open(\"/content/timedout_2.txt\",\"r\")\n",
        "tmp_list = to.readlines()\n",
        "print(tmp_list)\n",
        "i = 0\n",
        "for tmp in tmp_list:\n",
        "  list_tmp = tmp.split()\n",
        "  ## Set up the image URL and filename\n",
        "  image_id = int(list_tmp[1][:-1])\n",
        "  image_url = newdf_image.at[image_id,'url']\n",
        "  if 'http' not in image_url:\n",
        "    i += 1\n",
        "    continue \n",
        "  image_url = image_url.encode('ascii', 'ignore').decode('ascii')\n",
        "  filename = '/content/product/' + str(image_id) + '.jpg'\n",
        "\n",
        "  # Open the url image, set stream to True, this will return the stream content.\n",
        "  r = requests.get(image_url, stream = True)\n",
        "\n",
        "  # Check if the image was retrieved successfully\n",
        "  if r.status_code == 200:\n",
        "      # Set decode_content value to True, otherwise the downloaded image file's size will be zero.\n",
        "      r.raw.decode_content = True\n",
        "      \n",
        "      # Open a local file with wb ( write binary ) permission.\n",
        "      with open(filename,'wb') as f:\n",
        "          shutil.copyfileobj(r.raw, f)\n",
        "      if i % 100 == 0:    \n",
        "        print(f'Image {image_id} sucessfully Downloaded: ',filename)\n",
        "  else:\n",
        "      print('Image Couldn\\'t be retreived')\n",
        "  i += 1"
      ],
      "execution_count": null,
      "outputs": []
    },
    {
      "cell_type": "code",
      "metadata": {
        "id": "QiJqcs7cb8tn",
        "colab_type": "code",
        "colab": {
          "base_uri": "https://localhost:8080/",
          "height": 214
        },
        "outputId": "4f364bdc-9fe5-4932-b7c6-1bd81db3c4fb"
      },
      "source": [
        "from google.colab import files\n",
        "import os\n",
        "#files.upload()\n",
        "list_ = os.listdir('/content/drive/My Drive/product')\n",
        "len(list_) # number of pictures\n"
      ],
      "execution_count": null,
      "outputs": [
        {
          "output_type": "error",
          "ename": "OSError",
          "evalue": "ignored",
          "traceback": [
            "\u001b[0;31m---------------------------------------------------------------------------\u001b[0m",
            "\u001b[0;31mOSError\u001b[0m                                   Traceback (most recent call last)",
            "\u001b[0;32m<ipython-input-45-b17bf520b1a8>\u001b[0m in \u001b[0;36m<module>\u001b[0;34m()\u001b[0m\n\u001b[1;32m      2\u001b[0m \u001b[0;32mimport\u001b[0m \u001b[0mos\u001b[0m\u001b[0;34m\u001b[0m\u001b[0;34m\u001b[0m\u001b[0m\n\u001b[1;32m      3\u001b[0m \u001b[0;31m#files.upload()\u001b[0m\u001b[0;34m\u001b[0m\u001b[0;34m\u001b[0m\u001b[0;34m\u001b[0m\u001b[0m\n\u001b[0;32m----> 4\u001b[0;31m \u001b[0mlist_\u001b[0m \u001b[0;34m=\u001b[0m \u001b[0mos\u001b[0m\u001b[0;34m.\u001b[0m\u001b[0mlistdir\u001b[0m\u001b[0;34m(\u001b[0m\u001b[0;34m'/content/drive/My Drive/product'\u001b[0m\u001b[0;34m)\u001b[0m\u001b[0;34m\u001b[0m\u001b[0;34m\u001b[0m\u001b[0m\n\u001b[0m\u001b[1;32m      5\u001b[0m \u001b[0mlen\u001b[0m\u001b[0;34m(\u001b[0m\u001b[0mlist_\u001b[0m\u001b[0;34m)\u001b[0m \u001b[0;31m# number of pictures\u001b[0m\u001b[0;34m\u001b[0m\u001b[0;34m\u001b[0m\u001b[0m\n",
            "\u001b[0;31mOSError\u001b[0m: [Errno 5] Input/output error: '/content/drive/My Drive/product'"
          ]
        }
      ]
    },
    {
      "cell_type": "code",
      "metadata": {
        "id": "HuxMJ0m4b5Rw",
        "colab_type": "code",
        "colab": {
          "base_uri": "https://localhost:8080/",
          "height": 34
        },
        "outputId": "34021d02-0699-4e79-e43b-b6e35f6d9bae"
      },
      "source": [
        "newdf_image.url.values.size"
      ],
      "execution_count": null,
      "outputs": [
        {
          "output_type": "execute_result",
          "data": {
            "text/plain": [
              "110772"
            ]
          },
          "metadata": {
            "tags": []
          },
          "execution_count": 45
        }
      ]
    },
    {
      "cell_type": "code",
      "metadata": {
        "id": "5TKRL0ip8d1N",
        "colab_type": "code",
        "colab": {
          "base_uri": "https://localhost:8080/",
          "height": 195
        },
        "outputId": "693b4ffe-998a-43a5-9ca8-28a58ec06502"
      },
      "source": [
        "newdf_image.head()"
      ],
      "execution_count": null,
      "outputs": [
        {
          "output_type": "execute_result",
          "data": {
            "text/html": [
              "<div>\n",
              "<style scoped>\n",
              "    .dataframe tbody tr th:only-of-type {\n",
              "        vertical-align: middle;\n",
              "    }\n",
              "\n",
              "    .dataframe tbody tr th {\n",
              "        vertical-align: top;\n",
              "    }\n",
              "\n",
              "    .dataframe thead th {\n",
              "        text-align: right;\n",
              "    }\n",
              "</style>\n",
              "<table border=\"1\" class=\"dataframe\">\n",
              "  <thead>\n",
              "    <tr style=\"text-align: right;\">\n",
              "      <th></th>\n",
              "      <th>id</th>\n",
              "      <th>url</th>\n",
              "      <th>nomProduit</th>\n",
              "      <th>marque</th>\n",
              "      <th>famille_drive</th>\n",
              "      <th>rayon_drive</th>\n",
              "      <th>category</th>\n",
              "    </tr>\n",
              "  </thead>\n",
              "  <tbody>\n",
              "    <tr>\n",
              "      <th>0</th>\n",
              "      <td>166</td>\n",
              "      <td>https://media.auchan.fr/MEDIASTEP73419569_165x...</td>\n",
              "      <td>[1, 125, 2728, 759, 1408, 223]</td>\n",
              "      <td>18</td>\n",
              "      <td>336</td>\n",
              "      <td>10</td>\n",
              "      <td>2</td>\n",
              "    </tr>\n",
              "    <tr>\n",
              "      <th>1</th>\n",
              "      <td>2810</td>\n",
              "      <td>https://media.auchan.fr/MEDIASTEP57433119_165x...</td>\n",
              "      <td>[1, 1956, 424, 1723, 2728, 2089, 1443, 2252, 464]</td>\n",
              "      <td>25</td>\n",
              "      <td>257</td>\n",
              "      <td>6</td>\n",
              "      <td>2</td>\n",
              "    </tr>\n",
              "    <tr>\n",
              "      <th>2</th>\n",
              "      <td>3131</td>\n",
              "      <td>https://media.auchan.fr/MEDIASTEP61167474_460x...</td>\n",
              "      <td>[1, 2467, 1311, 161, 1723, 2728, 822, 424, 2507]</td>\n",
              "      <td>555</td>\n",
              "      <td>254</td>\n",
              "      <td>6</td>\n",
              "      <td>2</td>\n",
              "    </tr>\n",
              "    <tr>\n",
              "      <th>3</th>\n",
              "      <td>3146</td>\n",
              "      <td>https://media.auchan.fr/MEDIASTEP57975980_165x...</td>\n",
              "      <td>[1, 181, 2108, 1723, 2728, 822, 896, 424, 2296...</td>\n",
              "      <td>637</td>\n",
              "      <td>82</td>\n",
              "      <td>4</td>\n",
              "      <td>2</td>\n",
              "    </tr>\n",
              "    <tr>\n",
              "      <th>4</th>\n",
              "      <td>6395</td>\n",
              "      <td>https://media.auchan.fr/MEDIASTEP67195204_165x...</td>\n",
              "      <td>[1, 1956, 1723, 2728, 822, 1817, 464]</td>\n",
              "      <td>25</td>\n",
              "      <td>254</td>\n",
              "      <td>6</td>\n",
              "      <td>2</td>\n",
              "    </tr>\n",
              "  </tbody>\n",
              "</table>\n",
              "</div>"
            ],
            "text/plain": [
              "     id  ... category\n",
              "0   166  ...        2\n",
              "1  2810  ...        2\n",
              "2  3131  ...        2\n",
              "3  3146  ...        2\n",
              "4  6395  ...        2\n",
              "\n",
              "[5 rows x 7 columns]"
            ]
          },
          "metadata": {
            "tags": []
          },
          "execution_count": 101
        }
      ]
    },
    {
      "cell_type": "code",
      "metadata": {
        "id": "pSWrcZrk2iTW",
        "colab_type": "code",
        "colab": {
          "base_uri": "https://localhost:8080/",
          "height": 1000
        },
        "outputId": "0c148b16-cc45-4a7e-ce7d-658370896735"
      },
      "source": [
        "import cv2\n",
        "import matplotlib.pyplot as plt \n",
        "\n",
        "data = []\n",
        "c = 0\n",
        "path = '/content/drive/My Drive/product'\n",
        "for img in os.listdir(path):\n",
        "  index = img[:-4]\n",
        "  print(index)\n",
        "  img_array = cv2.imread(os.path.join(path,img) , cv2.IMREAD_GRAYSCALE)\n",
        "  new_array = cv2.resize(img_array,(150,150))\n",
        "  #data.append(new_array)\n",
        "  plt.imshow(new_array,cmap=\"gray\")\n",
        "  plt.show()\n",
        "  print(new_array.shape)\n",
        "  if c==5:\n",
        "    break\n",
        "  c += 1"
      ],
      "execution_count": null,
      "outputs": [
        {
          "output_type": "stream",
          "text": [
            "109770\n"
          ],
          "name": "stdout"
        },
        {
          "output_type": "display_data",
          "data": {
            "image/png": "[encoded data removed]",
            "text/plain": [
              "<Figure size 432x288 with 1 Axes>"
            ]
          },
          "metadata": {
            "tags": [],
            "needs_background": "light"
          }
        },
        {
          "output_type": "stream",
          "text": [
            "(150, 150)\n",
            "109771\n"
          ],
          "name": "stdout"
        },
        {
          "output_type": "display_data",
          "data": {
            "image/png": "[encoded data removed]",
            "text/plain": [
              "<Figure size 432x288 with 1 Axes>"
            ]
          },
          "metadata": {
            "tags": [],
            "needs_background": "light"
          }
        },
        {
          "output_type": "stream",
          "text": [
            "(150, 150)\n",
            "109772\n"
          ],
          "name": "stdout"
        },
        {
          "output_type": "display_data",
          "data": {
            "image/png": "[encoded data removed]",
            "text/plain": [
              "<Figure size 432x288 with 1 Axes>"
            ]
          },
          "metadata": {
            "tags": [],
            "needs_background": "light"
          }
        },
        {
          "output_type": "stream",
          "text": [
            "(150, 150)\n",
            "109773\n"
          ],
          "name": "stdout"
        },
        {
          "output_type": "display_data",
          "data": {
            "image/png": "[encoded data removed]",
            "text/plain": [
              "<Figure size 432x288 with 1 Axes>"
            ]
          },
          "metadata": {
            "tags": [],
            "needs_background": "light"
          }
        },
        {
          "output_type": "stream",
          "text": [
            "(150, 150)\n",
            "109774\n"
          ],
          "name": "stdout"
        },
        {
          "output_type": "display_data",
          "data": {
            "image/png": "[encoded data removed]",
            "text/plain": [
              "<Figure size 432x288 with 1 Axes>"
            ]
          },
          "metadata": {
            "tags": [],
            "needs_background": "light"
          }
        },
        {
          "output_type": "stream",
          "text": [
            "(150, 150)\n",
            "109775\n"
          ],
          "name": "stdout"
        },
        {
          "output_type": "display_data",
          "data": {
            "image/png": "[encoded data removed]",
            "text/plain": [
              "<Figure size 432x288 with 1 Axes>"
            ]
          },
          "metadata": {
            "tags": [],
            "needs_background": "light"
          }
        },
        {
          "output_type": "stream",
          "text": [
            "(150, 150)\n"
          ],
          "name": "stdout"
        }
      ]
    },
    {
      "cell_type": "code",
      "metadata": {
        "id": "UAE77TNx3Hag",
        "colab_type": "code",
        "colab": {
          "base_uri": "https://localhost:8080/",
          "height": 35
        },
        "outputId": "82a00d4d-497f-46d4-812e-9082183feb92"
      },
      "source": [
        "newdf_image_2.at[109775,'nomProduit']"
      ],
      "execution_count": null,
      "outputs": [
        {
          "output_type": "execute_result",
          "data": {
            "application/vnd.google.colaboratory.intrinsic+json": {
              "type": "string"
            },
            "text/plain": [
              "'Lime - Bière aromatisée Tequila citron vert cactus'"
            ]
          },
          "metadata": {
            "tags": []
          },
          "execution_count": 175
        }
      ]
    },
    {
      "cell_type": "code",
      "metadata": {
        "id": "KZBc6VQ71u5K",
        "colab_type": "code",
        "colab": {}
      },
      "source": [
        "nomProduit_ = newdf_image.nomProduit.values\n",
        "nomProduit_ = np.array(nomProduit_,dtype=np.ndarray)\n",
        "nomProduit_ = pad_sequences(nomProduit_, word_to_id, 20)\n",
        "\n",
        "other_ = newdf_image[['marque','famille_drive','rayon_drive']].values\n",
        "other_ = preprocessing.normalize(other_)\n",
        "\n",
        "\n",
        "category_ = newdf_image.category.values.tolist()\n",
        "category_.append(44)\n",
        "category_ = np.array(category_)\n",
        "encoded_category_ = to_categorical(category_)"
      ],
      "execution_count": null,
      "outputs": []
    },
    {
      "cell_type": "code",
      "metadata": {
        "id": "V4NztUJ1P5qy",
        "colab_type": "code",
        "colab": {
          "base_uri": "https://localhost:8080/",
          "height": 35
        },
        "outputId": "6f930809-21d0-4829-b5eb-bcdd048ffef3"
      },
      "source": [
        "id_to_category = {val:key for key,val in category_to_id.items()}\n",
        "id_to_category[category_[109775]]"
      ],
      "execution_count": null,
      "outputs": [
        {
          "output_type": "execute_result",
          "data": {
            "application/vnd.google.colaboratory.intrinsic+json": {
              "type": "string"
            },
            "text/plain": [
              "'Bières spéciales'"
            ]
          },
          "metadata": {
            "tags": []
          },
          "execution_count": 177
        }
      ]
    },
    {
      "cell_type": "code",
      "metadata": {
        "id": "uvTog1eMnG8P",
        "colab_type": "code",
        "colab": {
          "base_uri": "https://localhost:8080/",
          "height": 35
        },
        "outputId": "17d58ac6-0afd-4d36-af8e-15f9afaf5269"
      },
      "source": [
        "id_to_category[newdf_image.at[109775,'category']]"
      ],
      "execution_count": null,
      "outputs": [
        {
          "output_type": "execute_result",
          "data": {
            "application/vnd.google.colaboratory.intrinsic+json": {
              "type": "string"
            },
            "text/plain": [
              "'Bières spéciales'"
            ]
          },
          "metadata": {
            "tags": []
          },
          "execution_count": 178
        }
      ]
    },
    {
      "cell_type": "code",
      "metadata": {
        "id": "8MS4YTuZ1nRy",
        "colab_type": "code",
        "colab": {
          "base_uri": "https://localhost:8080/",
          "height": 34
        },
        "outputId": "e6b602f9-0f13-4aa3-b847-7c02cda1df95"
      },
      "source": [
        "product_listdir = os.listdir('/content/drive/My Drive/product')\n",
        "product_listdir[0:5]"
      ],
      "execution_count": null,
      "outputs": [
        {
          "output_type": "execute_result",
          "data": {
            "text/plain": [
              "['109770.jpg', '109771.jpg', '109772.jpg', '109773.jpg', '109774.jpg']"
            ]
          },
          "metadata": {
            "tags": []
          },
          "execution_count": 179
        }
      ]
    },
    {
      "cell_type": "code",
      "metadata": {
        "id": "IJPZYhku5maA",
        "colab_type": "code",
        "colab": {}
      },
      "source": [
        "data_sample = []\n",
        "img_array_to_id = [] # To get the id so we can search in the dataset for the category(later use)"
      ],
      "execution_count": null,
      "outputs": []
    },
    {
      "cell_type": "code",
      "metadata": {
        "id": "962WJ8xC0TrU",
        "colab_type": "code",
        "colab": {}
      },
      "source": [
        "Image_size= 50 # we want every shape of every image to be similar"
      ],
      "execution_count": null,
      "outputs": []
    },
    {
      "cell_type": "code",
      "metadata": {
        "id": "Ch37h2smcKwq",
        "colab_type": "code",
        "colab": {}
      },
      "source": [
        "#import cv2\n",
        "#import matplotlib.pyplot as plt \n",
        "\n",
        "\n",
        "Image_size= 50\n",
        "path = '/content/drive/My Drive/product'\n",
        "a = 0\n",
        "for img in product_listdir:\n",
        "  try:\n",
        "    index = int(img[:-4])\n",
        "    img_array = cv2.imread(os.path.join(path,img) , cv2.IMREAD_GRAYSCALE)    \n",
        "    new_array = cv2.resize(img_array,(Image_size,Image_size))\n",
        "    img_array_to_id.append((new_array,index))\n",
        "    data_sample.append([new_array,nomProduit_[index],other_[index],encoded_category_[index]])\n",
        "    if a % 2000 == 0:\n",
        "      print(f'Image {a} uploaded')\n",
        "  except Exception as e:\n",
        "    print(f'Error {a}')\n",
        "  a += 1"
      ],
      "execution_count": null,
      "outputs": []
    },
    {
      "cell_type": "code",
      "metadata": {
        "id": "uKorNdEmoGrH",
        "colab_type": "code",
        "colab": {}
      },
      "source": [
        "i = 0\n",
        "while i < len(data_sample):\n",
        "  t = data_sample[i][1].tolist()\n",
        "  n = t.pop()\n",
        "  t = t + [ 0 , 0 , 0 ,0 , n]\n",
        "  data_sample[i][1] = np.array(t)\n",
        "  i = i + 1"
      ],
      "execution_count": null,
      "outputs": []
    },
    {
      "cell_type": "code",
      "metadata": {
        "id": "3Redm7ZJisJh",
        "colab_type": "code",
        "colab": {}
      },
      "source": [
        "i = 0\n",
        "while i < len(data_sample):\n",
        "  t = data_sample[i][3].tolist()\n",
        "  t.append(0)\n",
        "  data_sample[i][3] = np.array(t)\n",
        "  i = i + 1"
      ],
      "execution_count": null,
      "outputs": []
    },
    {
      "cell_type": "code",
      "metadata": {
        "id": "6WaznEFlfnRZ",
        "colab_type": "code",
        "colab": {
          "base_uri": "https://localhost:8080/",
          "height": 34
        },
        "outputId": "f995598c-5fd7-46a7-9bce-e7d89347a9b5"
      },
      "source": [
        "len(data_sample[1][3])"
      ],
      "execution_count": null,
      "outputs": [
        {
          "output_type": "execute_result",
          "data": {
            "text/plain": [
              "45"
            ]
          },
          "metadata": {
            "tags": []
          },
          "execution_count": 239
        }
      ]
    },
    {
      "cell_type": "code",
      "metadata": {
        "id": "yvZmpiGt6eWv",
        "colab_type": "code",
        "colab": {
          "base_uri": "https://localhost:8080/",
          "height": 633
        },
        "outputId": "c5d0d7fc-a48f-4934-9ed0-67f97da778ef"
      },
      "source": [
        "img_array_to_id[0:5]"
      ],
      "execution_count": null,
      "outputs": [
        {
          "output_type": "execute_result",
          "data": {
            "text/plain": [
              "[(array([[255, 255, 255, ..., 255, 255, 255],\n",
              "         [255, 255, 255, ..., 255, 255, 255],\n",
              "         [255, 255, 255, ..., 255, 255, 255],\n",
              "         ...,\n",
              "         [255, 255, 255, ..., 255, 255, 255],\n",
              "         [255, 255, 255, ..., 255, 255, 255],\n",
              "         [255, 255, 255, ..., 255, 255, 255]], dtype=uint8), 109770),\n",
              " (array([[255, 255, 255, ..., 255, 255, 255],\n",
              "         [255, 255, 255, ..., 255, 255, 255],\n",
              "         [255, 255, 255, ..., 255, 255, 255],\n",
              "         ...,\n",
              "         [255, 255, 255, ..., 255, 255, 255],\n",
              "         [255, 255, 255, ..., 255, 255, 255],\n",
              "         [255, 255, 255, ..., 255, 255, 255]], dtype=uint8), 109771),\n",
              " (array([[255, 255, 255, ..., 255, 255, 255],\n",
              "         [255, 255, 255, ..., 255, 255, 255],\n",
              "         [255, 255, 255, ..., 255, 255, 255],\n",
              "         ...,\n",
              "         [255, 255, 255, ..., 255, 255, 255],\n",
              "         [255, 255, 255, ..., 255, 255, 255],\n",
              "         [255, 255, 255, ..., 255, 255, 255]], dtype=uint8), 109772),\n",
              " (array([[255, 255, 255, ..., 255, 255, 255],\n",
              "         [255, 255, 255, ..., 255, 255, 255],\n",
              "         [255, 255, 255, ..., 255, 255, 255],\n",
              "         ...,\n",
              "         [255, 255, 255, ..., 255, 255, 255],\n",
              "         [255, 255, 255, ..., 255, 255, 255],\n",
              "         [255, 255, 255, ..., 255, 255, 255]], dtype=uint8), 109773),\n",
              " (array([[255, 255, 255, ..., 255, 255, 255],\n",
              "         [255, 255, 255, ..., 255, 255, 255],\n",
              "         [255, 255, 255, ..., 255, 255, 255],\n",
              "         ...,\n",
              "         [255, 255, 255, ..., 255, 255, 255],\n",
              "         [255, 255, 255, ..., 255, 255, 255],\n",
              "         [255, 255, 255, ..., 255, 255, 255]], dtype=uint8), 109774)]"
            ]
          },
          "metadata": {
            "tags": []
          },
          "execution_count": 72
        }
      ]
    },
    {
      "cell_type": "code",
      "metadata": {
        "id": "ipH1VbhANFL4",
        "colab_type": "code",
        "colab": {}
      },
      "source": [
        "import random\n",
        "random.shuffle(data_sample)"
      ],
      "execution_count": null,
      "outputs": []
    },
    {
      "cell_type": "code",
      "metadata": {
        "id": "UKrNCpBFQH3N",
        "colab_type": "code",
        "colab": {}
      },
      "source": [
        "import pickle\n",
        "\n",
        "#Saving data_sample and img_array_to_id variables we don't need to resize them at every attempt\n",
        "\n",
        "#pickle_out = open('/content/drive/My Drive/data_sample.pickle','wb')\n",
        "#pickle.dump(data_sample,pickle_out)\n",
        "#pickle_out.close()\n",
        "\n",
        "#pickle_out = open('/content/drive/My Drive/img_array_to_id.pickle','wb')\n",
        "#pickle.dump(img_array_to_id,pickle_out)\n",
        "#pickle_out.close()"
      ],
      "execution_count": null,
      "outputs": []
    },
    {
      "cell_type": "code",
      "metadata": {
        "id": "rmP9ovQ8Qvbp",
        "colab_type": "code",
        "colab": {}
      },
      "source": [
        "prickle_in = open('/content/drive/My Drive/data_sample.pickle','rb')\n",
        "data_sample = pickle.load(prickle_in)\n",
        "\n",
        "prickle_in = open('/content/drive/My Drive/img_array_to_id.pickle','rb')\n",
        "img_array_to_id = pickle.load(prickle_in)"
      ],
      "execution_count": null,
      "outputs": []
    },
    {
      "cell_type": "code",
      "metadata": {
        "id": "JJAiJeowN5KX",
        "colab_type": "code",
        "colab": {
          "base_uri": "https://localhost:8080/",
          "height": 1000
        },
        "outputId": "c25c3590-dbdb-451c-8179-6ff699a3414c"
      },
      "source": [
        "from sklearn.model_selection import train_test_split\n",
        "data_sample_train, data_sample_test = train_test_split(data_sample, test_size=0.1, random_state=42, shuffle=True)\n",
        "data_sample_train[0:5]"
      ],
      "execution_count": null,
      "outputs": [
        {
          "output_type": "execute_result",
          "data": {
            "text/plain": [
              "[[array([[255, 255, 255, ..., 254, 254, 255],\n",
              "         [254, 254, 254, ..., 254, 254, 254],\n",
              "         [255, 255, 255, ..., 255, 255, 255],\n",
              "         ...,\n",
              "         [255, 255, 255, ..., 255, 255, 255],\n",
              "         [254, 254, 254, ..., 254, 254, 254],\n",
              "         [254, 255, 255, ..., 255, 255, 255]], dtype=uint8),\n",
              "  array([   1, 3270, 2496, 1632,    0,    0,    0,    0,    0,    0,    0,\n",
              "            0,    0,    0,    0,    0,    0,    0,    0,    3]),\n",
              "  array([0.64174522, 0.76691533, 0.00198683]),\n",
              "  array([0., 0., 0., 0., 0., 0., 0., 0., 0., 0., 0., 0., 0., 0., 0., 1., 0.,\n",
              "         0., 0., 0., 0., 0., 0., 0., 0., 0., 0., 0., 0., 0., 0., 0., 0., 0.,\n",
              "         0., 0., 0., 0., 0., 0., 0., 0., 0., 0., 0.])],\n",
              " [array([[255, 255, 255, ..., 254, 254, 255],\n",
              "         [254, 254, 254, ..., 254, 254, 254],\n",
              "         [255, 255, 255, ..., 255, 255, 255],\n",
              "         ...,\n",
              "         [255, 255, 255, ..., 255, 255, 255],\n",
              "         [254, 254, 254, ..., 254, 254, 254],\n",
              "         [254, 255, 255, ..., 255, 255, 255]], dtype=uint8),\n",
              "  array([   1, 1292, 3297,  743, 2452,    0,    0,    0,    0,    0,    0,\n",
              "            0,    0,    0,    0,    0,    0,    0,    0,    3]),\n",
              "  array([0.41159959, 0.91085466, 0.03048886]),\n",
              "  array([0., 0., 0., 0., 0., 0., 0., 0., 0., 0., 0., 1., 0., 0., 0., 0., 0.,\n",
              "         0., 0., 0., 0., 0., 0., 0., 0., 0., 0., 0., 0., 0., 0., 0., 0., 0.,\n",
              "         0., 0., 0., 0., 0., 0., 0., 0., 0., 0., 0.])],\n",
              " [array([[255, 255, 255, ..., 254, 254, 255],\n",
              "         [254, 255, 254, ..., 255, 255, 254],\n",
              "         [174,  84, 158, ..., 255, 255, 255],\n",
              "         ...,\n",
              "         [255, 255, 255, ..., 255, 255, 255],\n",
              "         [254, 254, 254, ..., 254, 254, 254],\n",
              "         [254, 255, 255, ..., 255, 255, 255]], dtype=uint8),\n",
              "  array([   1, 1968, 1859, 2574,  698, 3213, 2113,    0,    0,    0,    0,\n",
              "            0,    0,    0,    0,    0,    0,    0,    0,    3]),\n",
              "  array([0.82783136, 0.55631786, 0.07215044]),\n",
              "  array([0., 0., 0., 0., 0., 0., 0., 0., 0., 0., 0., 0., 0., 0., 0., 0., 0.,\n",
              "         0., 0., 0., 0., 0., 0., 0., 1., 0., 0., 0., 0., 0., 0., 0., 0., 0.,\n",
              "         0., 0., 0., 0., 0., 0., 0., 0., 0., 0., 0.])],\n",
              " [array([[255, 255, 255, ..., 254, 254, 255],\n",
              "         [254, 254, 254, ..., 254, 254, 254],\n",
              "         [255, 255, 255, ..., 255, 255, 255],\n",
              "         ...,\n",
              "         [255, 255, 255, ..., 255, 255, 255],\n",
              "         [254, 254, 254, ..., 254, 254, 254],\n",
              "         [254, 255, 255, ..., 255, 255, 255]], dtype=uint8),\n",
              "  array([   1, 2435,  406, 1796, 1799, 1912,    0,    0,    0,    0,    0,\n",
              "            0,    0,    0,    0,    0,    0,    0,    0,    3]),\n",
              "  array([0.93311188, 0.3593017 , 0.01430057]),\n",
              "  array([0., 1., 0., 0., 0., 0., 0., 0., 0., 0., 0., 0., 0., 0., 0., 0., 0.,\n",
              "         0., 0., 0., 0., 0., 0., 0., 0., 0., 0., 0., 0., 0., 0., 0., 0., 0.,\n",
              "         0., 0., 0., 0., 0., 0., 0., 0., 0., 0., 0.])],\n",
              " [array([[255, 255, 255, ..., 254, 254, 255],\n",
              "         [254, 254, 254, ..., 254, 254, 254],\n",
              "         [255, 255, 255, ..., 255, 255, 255],\n",
              "         ...,\n",
              "         [255, 255, 255, ..., 255, 255, 255],\n",
              "         [254, 254, 254, ..., 254, 254, 254],\n",
              "         [254, 255, 255, ..., 255, 255, 255]], dtype=uint8),\n",
              "  array([   1,  155, 2201,   56,  633,   56, 3129, 1471, 1146,   22, 2482,\n",
              "         2881,    0,    0,    0,    0,    0,    0,    0,    3]),\n",
              "  array([0.97628104, 0.21649747, 0.00204243]),\n",
              "  array([0., 0., 0., 0., 0., 0., 0., 0., 0., 0., 0., 0., 0., 0., 0., 0., 0.,\n",
              "         0., 0., 1., 0., 0., 0., 0., 0., 0., 0., 0., 0., 0., 0., 0., 0., 0.,\n",
              "         0., 0., 0., 0., 0., 0., 0., 0., 0., 0., 0.])]]"
            ]
          },
          "metadata": {
            "tags": []
          },
          "execution_count": 240
        }
      ]
    },
    {
      "cell_type": "code",
      "metadata": {
        "id": "7Ucuki7PODHP",
        "colab_type": "code",
        "colab": {}
      },
      "source": [
        "nomProduit_finaltrain = []\n",
        "nomProduit_finaltest = []\n",
        "\n",
        "other_finaltrain = []\n",
        "other_finaltest = []\n",
        "\n",
        "url_finaltrain = []\n",
        "url_finaltest = []\n",
        "\n",
        "encoded_category_finaltrain = []\n",
        "encoded_category_finaltest = []\n"
      ],
      "execution_count": null,
      "outputs": []
    },
    {
      "cell_type": "code",
      "metadata": {
        "id": "jvrWaDXAQ_qm",
        "colab_type": "code",
        "colab": {}
      },
      "source": [
        "for url, nP, other, category in data_sample_train:\n",
        "  url_finaltrain.append(url)\n",
        "  nomProduit_finaltrain.append(nP)\n",
        "  other_finaltrain.append(other)\n",
        "  encoded_category_finaltrain.append(category)\n",
        "\n",
        "url_finaltrain = np.array(url_finaltrain).reshape(-1 , Image_size , Image_size , 1 )\n",
        "nomProduit_finaltrain = np.array(nomProduit_finaltrain)\n",
        "other_finaltrain = np.array(other_finaltrain)\n",
        "encoded_category_finaltrain = np.array(encoded_category_finaltrain)"
      ],
      "execution_count": null,
      "outputs": []
    },
    {
      "cell_type": "code",
      "metadata": {
        "id": "GA6w9NFVTALH",
        "colab_type": "code",
        "colab": {
          "base_uri": "https://localhost:8080/",
          "height": 68
        },
        "outputId": "d5deb129-961b-4f3c-f1aa-ffc005e52122"
      },
      "source": [
        "encoded_category_finaltrain[0]"
      ],
      "execution_count": null,
      "outputs": [
        {
          "output_type": "execute_result",
          "data": {
            "text/plain": [
              "array([0., 0., 0., 0., 0., 0., 0., 0., 0., 0., 0., 0., 0., 0., 0., 1., 0.,\n",
              "       0., 0., 0., 0., 0., 0., 0., 0., 0., 0., 0., 0., 0., 0., 0., 0., 0.,\n",
              "       0., 0., 0., 0., 0., 0., 0., 0., 0., 0., 0.])"
            ]
          },
          "metadata": {
            "tags": []
          },
          "execution_count": 243
        }
      ]
    },
    {
      "cell_type": "code",
      "metadata": {
        "id": "Al72BvaqTD8W",
        "colab_type": "code",
        "colab": {}
      },
      "source": [
        "for url, nP, other, category in data_sample_test:\n",
        "  url_finaltest.append(url)\n",
        "  nomProduit_finaltest.append(nP)\n",
        "  other_finaltest.append(other)\n",
        "  encoded_category_finaltest.append(category)\n",
        "\n",
        "url_finaltest = np.array(url_finaltest).reshape(-1 , Image_size , Image_size , 1 )\n",
        "nomProduit_finaltest = np.array(nomProduit_finaltest)\n",
        "other_finaltest = np.array(other_finaltest)\n",
        "encoded_category_finaltest = np.array(encoded_category_finaltest)"
      ],
      "execution_count": null,
      "outputs": []
    },
    {
      "cell_type": "code",
      "metadata": {
        "id": "g3-NZJKEpuVV",
        "colab_type": "code",
        "colab": {}
      },
      "source": [
        "training_size = nomProduit_finaltrain.shape[0]\n",
        "url_finalvalid, nomProduit_finalvalid, other_finalvalid,encoded_category_finalvalid =url_finaltrain[:int(training_size*0.09)], nomProduit_finaltrain[:int(training_size*0.09)], other_finaltrain[:int(training_size*0.09)],encoded_category_finaltrain[:int(training_size*0.09)]\n",
        "url_finaltrain2, nomProduit_finaltrain2, other_finaltrain2,encoded_category_finaltrain2 = url_finaltrain[int(training_size*0.09):], nomProduit_finaltrain[int(training_size*0.09):], other_finaltrain[int(training_size*0.09):],encoded_category_finaltrain[int(training_size*0.09):]\n"
      ],
      "execution_count": null,
      "outputs": []
    },
    {
      "cell_type": "code",
      "metadata": {
        "id": "q_-Kl6HopEPr",
        "colab_type": "code",
        "colab": {
          "base_uri": "https://localhost:8080/",
          "height": 686
        },
        "outputId": "3c9e75aa-2dfa-4d0c-be8c-eac721509635"
      },
      "source": [
        "model_1 = Sequential()\n",
        "model.add(Conv2D(128 , (3,3) , input_shape= url_finaltrain2.shape[1:]))\n",
        "model.add(Activation('relu'))\n",
        "model.add(MaxPooling2D(pool_size=(2,2)))\n",
        "\n",
        "model.add(Conv2D(256 , (3,3) , input_shape= url_finaltrain2.shape[1:]))\n",
        "model.add(Activation('relu'))\n",
        "model.add(MaxPooling2D(pool_size=(2,2)))\n",
        "\n",
        "model.add(Flatten())\n",
        "model.add(Dense(1024))\n",
        "model.add(Activation('relu'))\n",
        "model.add(Dropout(0.1))\n",
        "\n",
        "model.add(Dense(256))\n",
        "model.add(Activation('relu'))\n",
        "model.add(Dropout(0.1))\n",
        "\n",
        "model.add(Dense(45))\n",
        "model.add(Activation('softmax'))\n",
        "\n",
        "model.summary()"
      ],
      "execution_count": null,
      "outputs": [
        {
          "output_type": "stream",
          "text": [
            "Model: \"sequential_4\"\n",
            "_________________________________________________________________\n",
            "Layer (type)                 Output Shape              Param #   \n",
            "=================================================================\n",
            "conv2d_4 (Conv2D)            (None, 48, 48, 128)       1280      \n",
            "_________________________________________________________________\n",
            "activation_6 (Activation)    (None, 48, 48, 128)       0         \n",
            "_________________________________________________________________\n",
            "max_pooling2d_4 (MaxPooling2 (None, 24, 24, 128)       0         \n",
            "_________________________________________________________________\n",
            "conv2d_5 (Conv2D)            (None, 22, 22, 256)       295168    \n",
            "_________________________________________________________________\n",
            "activation_7 (Activation)    (None, 22, 22, 256)       0         \n",
            "_________________________________________________________________\n",
            "max_pooling2d_5 (MaxPooling2 (None, 11, 11, 256)       0         \n",
            "_________________________________________________________________\n",
            "flatten_2 (Flatten)          (None, 30976)             0         \n",
            "_________________________________________________________________\n",
            "dense_6 (Dense)              (None, 1024)              31720448  \n",
            "_________________________________________________________________\n",
            "activation_8 (Activation)    (None, 1024)              0         \n",
            "_________________________________________________________________\n",
            "dropout_4 (Dropout)          (None, 1024)              0         \n",
            "_________________________________________________________________\n",
            "dense_7 (Dense)              (None, 256)               262400    \n",
            "_________________________________________________________________\n",
            "activation_9 (Activation)    (None, 256)               0         \n",
            "_________________________________________________________________\n",
            "dropout_5 (Dropout)          (None, 256)               0         \n",
            "_________________________________________________________________\n",
            "dense_8 (Dense)              (None, 44)                11308     \n",
            "_________________________________________________________________\n",
            "activation_10 (Activation)   (None, 44)                0         \n",
            "=================================================================\n",
            "Total params: 32,290,604\n",
            "Trainable params: 32,290,604\n",
            "Non-trainable params: 0\n",
            "_________________________________________________________________\n"
          ],
          "name": "stdout"
        }
      ]
    },
    {
      "cell_type": "code",
      "metadata": {
        "id": "7EFa6-lcopo1",
        "colab_type": "code",
        "colab": {}
      },
      "source": [
        "model.compile(loss='categorical_crossentropy', optimizer='adam', metrics=['accuracy'])"
      ],
      "execution_count": null,
      "outputs": []
    },
    {
      "cell_type": "code",
      "metadata": {
        "id": "hTqGQ5LqozdL",
        "colab_type": "code",
        "colab": {
          "base_uri": "https://localhost:8080/",
          "height": 1000
        },
        "outputId": "fa037b8c-2ddc-4e71-c2b2-442984b4912e"
      },
      "source": [
        "model.fit(url_finaltrain2, encoded_category_finaltrain2,validation_data=(url_finalvalid,encoded_category_finalvalid), epochs = 10, batch_size=32)"
      ],
      "execution_count": null,
      "outputs": [
        {
          "output_type": "stream",
          "text": [
            "Epoch 1/40\n",
            "1404/1404 [==============================] - 20s 15ms/step - loss: 0.8531 - accuracy: 0.9289 - val_loss: 0.1007 - val_accuracy: 0.9787\n",
            "Epoch 2/40\n",
            "1404/1404 [==============================] - 21s 15ms/step - loss: 0.0779 - accuracy: 0.9827 - val_loss: 0.0800 - val_accuracy: 0.9829\n",
            "Epoch 3/40\n",
            "1404/1404 [==============================] - 20s 15ms/step - loss: 0.0563 - accuracy: 0.9865 - val_loss: 0.1040 - val_accuracy: 0.9821\n",
            "Epoch 4/40\n",
            "1404/1404 [==============================] - 20s 14ms/step - loss: 0.0503 - accuracy: 0.9887 - val_loss: 0.1103 - val_accuracy: 0.9823\n",
            "Epoch 5/40\n",
            "1404/1404 [==============================] - 20s 14ms/step - loss: 0.0550 - accuracy: 0.9875 - val_loss: 0.1225 - val_accuracy: 0.9811\n",
            "Epoch 6/40\n",
            "1404/1404 [==============================] - 20s 14ms/step - loss: 0.0357 - accuracy: 0.9921 - val_loss: 0.1062 - val_accuracy: 0.9827\n",
            "Epoch 7/40\n",
            "1404/1404 [==============================] - 20s 14ms/step - loss: 0.0338 - accuracy: 0.9924 - val_loss: 0.1454 - val_accuracy: 0.9770\n",
            "Epoch 8/40\n",
            "1404/1404 [==============================] - 20s 14ms/step - loss: 0.0382 - accuracy: 0.9919 - val_loss: 0.1166 - val_accuracy: 0.9830\n",
            "Epoch 9/40\n",
            "1404/1404 [==============================] - 20s 14ms/step - loss: 0.0275 - accuracy: 0.9941 - val_loss: 0.2058 - val_accuracy: 0.9824\n",
            "Epoch 10/40\n",
            "1404/1404 [==============================] - 20s 14ms/step - loss: 0.0338 - accuracy: 0.9938 - val_loss: 0.1759 - val_accuracy: 0.9821\n",
            "Epoch 11/40\n",
            "1404/1404 [==============================] - 20s 14ms/step - loss: 0.0271 - accuracy: 0.9944 - val_loss: 0.1702 - val_accuracy: 0.9832\n",
            "Epoch 12/40\n",
            "1404/1404 [==============================] - 20s 14ms/step - loss: 0.0281 - accuracy: 0.9947 - val_loss: 0.1665 - val_accuracy: 0.9822\n",
            "Epoch 13/40\n",
            "1404/1404 [==============================] - 20s 14ms/step - loss: 0.0316 - accuracy: 0.9939 - val_loss: 0.2083 - val_accuracy: 0.9818\n",
            "Epoch 14/40\n",
            "1404/1404 [==============================] - 20s 14ms/step - loss: 0.0203 - accuracy: 0.9963 - val_loss: 0.2201 - val_accuracy: 0.9826\n",
            "Epoch 15/40\n",
            "1404/1404 [==============================] - 20s 14ms/step - loss: 0.0286 - accuracy: 0.9952 - val_loss: 0.2471 - val_accuracy: 0.9819\n",
            "Epoch 16/40\n",
            "1404/1404 [==============================] - 20s 14ms/step - loss: 0.0260 - accuracy: 0.9959 - val_loss: 0.2281 - val_accuracy: 0.9828\n",
            "Epoch 17/40\n",
            "1404/1404 [==============================] - 20s 14ms/step - loss: 0.0333 - accuracy: 0.9953 - val_loss: 0.2367 - val_accuracy: 0.9830\n",
            "Epoch 18/40\n",
            "1404/1404 [==============================] - 20s 14ms/step - loss: 0.0240 - accuracy: 0.9962 - val_loss: 0.2598 - val_accuracy: 0.9817\n",
            "Epoch 19/40\n",
            "1404/1404 [==============================] - 20s 14ms/step - loss: 0.0284 - accuracy: 0.9960 - val_loss: 0.2456 - val_accuracy: 0.9828\n",
            "Epoch 20/40\n",
            "1404/1404 [==============================] - 20s 14ms/step - loss: 0.0250 - accuracy: 0.9963 - val_loss: 0.2718 - val_accuracy: 0.9818\n",
            "Epoch 21/40\n",
            "1404/1404 [==============================] - 20s 14ms/step - loss: 0.0291 - accuracy: 0.9954 - val_loss: 0.3392 - val_accuracy: 0.9830\n",
            "Epoch 22/40\n",
            "1404/1404 [==============================] - 20s 14ms/step - loss: 0.0223 - accuracy: 0.9969 - val_loss: 0.3025 - val_accuracy: 0.9841\n",
            "Epoch 23/40\n",
            "1404/1404 [==============================] - 20s 14ms/step - loss: 0.0244 - accuracy: 0.9969 - val_loss: 0.3424 - val_accuracy: 0.9840\n",
            "Epoch 24/40\n",
            "1404/1404 [==============================] - 20s 15ms/step - loss: 0.0277 - accuracy: 0.9965 - val_loss: 0.3269 - val_accuracy: 0.9830\n",
            "Epoch 25/40\n",
            "1404/1404 [==============================] - 20s 14ms/step - loss: 0.0263 - accuracy: 0.9967 - val_loss: 0.3305 - val_accuracy: 0.9812\n",
            "Epoch 26/40\n",
            "1404/1404 [==============================] - 20s 14ms/step - loss: 0.0266 - accuracy: 0.9971 - val_loss: 0.3504 - val_accuracy: 0.9831\n",
            "Epoch 27/40\n",
            "1404/1404 [==============================] - 20s 14ms/step - loss: 0.0249 - accuracy: 0.9970 - val_loss: 0.3616 - val_accuracy: 0.9815\n",
            "Epoch 28/40\n",
            "1404/1404 [==============================] - 20s 14ms/step - loss: 0.0299 - accuracy: 0.9968 - val_loss: 0.4426 - val_accuracy: 0.9830\n",
            "Epoch 29/40\n",
            "1404/1404 [==============================] - 20s 14ms/step - loss: 0.0246 - accuracy: 0.9973 - val_loss: 0.4347 - val_accuracy: 0.9844\n",
            "Epoch 30/40\n",
            "1404/1404 [==============================] - 20s 14ms/step - loss: 0.0303 - accuracy: 0.9971 - val_loss: 0.5006 - val_accuracy: 0.9823\n",
            "Epoch 31/40\n",
            "1404/1404 [==============================] - 20s 14ms/step - loss: 0.0274 - accuracy: 0.9974 - val_loss: 0.5332 - val_accuracy: 0.9830\n",
            "Epoch 32/40\n",
            "1404/1404 [==============================] - 20s 14ms/step - loss: 0.0257 - accuracy: 0.9972 - val_loss: 0.4544 - val_accuracy: 0.9832\n",
            "Epoch 33/40\n",
            "1404/1404 [==============================] - 20s 14ms/step - loss: 0.0355 - accuracy: 0.9973 - val_loss: 0.5142 - val_accuracy: 0.9840\n",
            "Epoch 34/40\n",
            "1404/1404 [==============================] - 20s 14ms/step - loss: 0.0213 - accuracy: 0.9979 - val_loss: 0.4732 - val_accuracy: 0.9824\n",
            "Epoch 35/40\n",
            "1404/1404 [==============================] - 20s 14ms/step - loss: 0.0208 - accuracy: 0.9978 - val_loss: 0.5090 - val_accuracy: 0.9836\n",
            "Epoch 36/40\n",
            "1404/1404 [==============================] - 20s 14ms/step - loss: 0.0273 - accuracy: 0.9975 - val_loss: 0.5464 - val_accuracy: 0.9828\n",
            "Epoch 37/40\n",
            "1404/1404 [==============================] - 20s 14ms/step - loss: 0.0366 - accuracy: 0.9975 - val_loss: 0.5621 - val_accuracy: 0.9836\n",
            "Epoch 38/40\n",
            "1404/1404 [==============================] - 20s 14ms/step - loss: 0.0321 - accuracy: 0.9975 - val_loss: 0.6233 - val_accuracy: 0.9835\n",
            "Epoch 39/40\n",
            "1404/1404 [==============================] - 20s 14ms/step - loss: 0.0275 - accuracy: 0.9976 - val_loss: 0.6296 - val_accuracy: 0.9833\n",
            "Epoch 40/40\n",
            "1404/1404 [==============================] - 20s 14ms/step - loss: 0.0209 - accuracy: 0.9981 - val_loss: 0.6347 - val_accuracy: 0.9831\n"
          ],
          "name": "stdout"
        },
        {
          "output_type": "execute_result",
          "data": {
            "text/plain": [
              "<tensorflow.python.keras.callbacks.History at 0x7f0c576c0a90>"
            ]
          },
          "metadata": {
            "tags": []
          },
          "execution_count": 99
        }
      ]
    },
    {
      "cell_type": "code",
      "metadata": {
        "id": "QSlY2iTuo7l-",
        "colab_type": "code",
        "colab": {
          "base_uri": "https://localhost:8080/",
          "height": 34
        },
        "outputId": "335a240e-0c4a-4790-b8f9-50c9267b0c89"
      },
      "source": [
        "loss, acc = model.evaluate(url_finaltest, encoded_category_finaltest)"
      ],
      "execution_count": null,
      "outputs": [
        {
          "output_type": "stream",
          "text": [
            "343/343 [==============================] - 1s 4ms/step - loss: 0.6065 - accuracy: 0.9840\n"
          ],
          "name": "stdout"
        }
      ]
    },
    {
      "cell_type": "code",
      "metadata": {
        "id": "zGkvcrPaxwb4",
        "colab_type": "code",
        "colab": {
          "base_uri": "https://localhost:8080/",
          "height": 34
        },
        "outputId": "3e599b00-6411-4b92-ae63-a0ab4e14ee49"
      },
      "source": [
        "pred = model.predict(url_finaltest)\n",
        "np.argmax(pred[2])"
      ],
      "execution_count": null,
      "outputs": [
        {
          "output_type": "execute_result",
          "data": {
            "text/plain": [
              "24"
            ]
          },
          "metadata": {
            "tags": []
          },
          "execution_count": 112
        }
      ]
    },
    {
      "cell_type": "code",
      "metadata": {
        "id": "9PsUzJJ1yOQk",
        "colab_type": "code",
        "colab": {
          "base_uri": "https://localhost:8080/",
          "height": 34
        },
        "outputId": "8e048b06-6e08-4386-ad24-13508363dea2"
      },
      "source": [
        "np.argmax(encoded_category_finaltest[2])"
      ],
      "execution_count": null,
      "outputs": [
        {
          "output_type": "execute_result",
          "data": {
            "text/plain": [
              "24"
            ]
          },
          "metadata": {
            "tags": []
          },
          "execution_count": 113
        }
      ]
    },
    {
      "cell_type": "code",
      "metadata": {
        "id": "f4SG3w2iUQji",
        "colab_type": "code",
        "colab": {
          "base_uri": "https://localhost:8080/",
          "height": 1000
        },
        "outputId": "1e5a85c5-9d6d-4432-8573-507219fe57b6"
      },
      "source": [
        "#Final Model\n",
        "\n",
        "nomProduit = Input(shape=(20,))\n",
        "nomProduitlayers = Embedding(vocab_size+1, 50, input_length=20)(nomProduit)\n",
        "nomProduitlayers = LSTM(256, input_shape=((20,50)),return_sequences=True)(nomProduitlayers)\n",
        "nomProduitlayers = Dropout(0.2)(nomProduitlayers)\n",
        "nomProduitlayers = BatchNormalization()(nomProduitlayers)\n",
        "\n",
        "nomProduitlayers = LSTM(256, input_shape=((20,50)),return_sequences=True)(nomProduitlayers)\n",
        "nomProduitlayers = Dropout(0.1)(nomProduitlayers)\n",
        "nomProduitlayers = BatchNormalization()(nomProduitlayers)\n",
        "\n",
        "nomProduitlayers = LSTM(256, input_shape=((20,50)),return_sequences=False)(nomProduitlayers)\n",
        "nomProduitlayers = Dropout(0.1)(nomProduitlayers)\n",
        "nomProduitlayers = BatchNormalization()(nomProduitlayers)\n",
        "\n",
        "nomProduit_output = Dense(96, activation='relu')(nomProduitlayers)\n",
        "nomProduit_output = Dropout(0.1)(nomProduit_output)\n",
        "\n",
        "other = Input(shape=(3,1))\n",
        "otherlayer = LSTM(256, input_shape=((3,1)))(other)\n",
        "otherlayer = Dropout(0.1)(otherlayer)\n",
        "otherlayer = BatchNormalization()(otherlayer)\n",
        "\n",
        "other_output = Dense(32, activation='relu')(otherlayer)\n",
        "other_output = Dropout(0.1)(other_output)\n",
        "\n",
        "output_1 = concatenate([nomProduit_output,other_output])\n",
        "output_1 = Dense(64, activation='relu')(output_1)\n",
        "output_1 = Dropout(0.1)(output_1)\n",
        "\n",
        "image = Input(shape=(50,50,1))\n",
        "imagelayers = Conv2D(128 , (3,3) , input_shape= (50,50,1))(image)\n",
        "imagelayers = Activation('relu')(imagelayers)\n",
        "imagelayers = MaxPooling2D(pool_size=(2,2))(imagelayers)\n",
        "\n",
        "imagelayers = Conv2D(256 , (3,3) , input_shape= (50,50,1))(image)\n",
        "imagelayers = Activation('relu')(imagelayers)\n",
        "imagelayers = MaxPooling2D(pool_size=(2,2))(imagelayers)\n",
        "\n",
        "imagelayers = Flatten()(imagelayers)\n",
        "\n",
        "image_output = Dense(256)(imagelayers)\n",
        "image_output = Activation('relu')(image_output)\n",
        "image_output = Dropout(0.1)(image_output)\n",
        "\n",
        "\n",
        "output = concatenate([output_1,image_output])\n",
        "output = Dense(96, activation='relu')(output)\n",
        "output = Dropout(0.1)(output)\n",
        "\n",
        "output = Dense(45, activation='softmax')(output)\n",
        "\n",
        "model = Model([nomProduit, other, image], output)\n",
        "model.summary()"
      ],
      "execution_count": null,
      "outputs": [
        {
          "output_type": "stream",
          "text": [
            "Model: \"functional_3\"\n",
            "__________________________________________________________________________________________________\n",
            "Layer (type)                    Output Shape         Param #     Connected to                     \n",
            "==================================================================================================\n",
            "input_4 (InputLayer)            [(None, 20)]         0                                            \n",
            "__________________________________________________________________________________________________\n",
            "embedding_2 (Embedding)         (None, 20, 50)       165600      input_4[0][0]                    \n",
            "__________________________________________________________________________________________________\n",
            "lstm_7 (LSTM)                   (None, 20, 256)      314368      embedding_2[0][0]                \n",
            "__________________________________________________________________________________________________\n",
            "dropout_13 (Dropout)            (None, 20, 256)      0           lstm_7[0][0]                     \n",
            "__________________________________________________________________________________________________\n",
            "batch_normalization_7 (BatchNor (None, 20, 256)      1024        dropout_13[0][0]                 \n",
            "__________________________________________________________________________________________________\n",
            "lstm_8 (LSTM)                   (None, 20, 256)      525312      batch_normalization_7[0][0]      \n",
            "__________________________________________________________________________________________________\n",
            "dropout_14 (Dropout)            (None, 20, 256)      0           lstm_8[0][0]                     \n",
            "__________________________________________________________________________________________________\n",
            "batch_normalization_8 (BatchNor (None, 20, 256)      1024        dropout_14[0][0]                 \n",
            "__________________________________________________________________________________________________\n",
            "input_5 (InputLayer)            [(None, 3, 1)]       0                                            \n",
            "__________________________________________________________________________________________________\n",
            "lstm_9 (LSTM)                   (None, 256)          525312      batch_normalization_8[0][0]      \n",
            "__________________________________________________________________________________________________\n",
            "lstm_10 (LSTM)                  (None, 256)          264192      input_5[0][0]                    \n",
            "__________________________________________________________________________________________________\n",
            "input_6 (InputLayer)            [(None, 50, 50, 1)]  0                                            \n",
            "__________________________________________________________________________________________________\n",
            "dropout_15 (Dropout)            (None, 256)          0           lstm_9[0][0]                     \n",
            "__________________________________________________________________________________________________\n",
            "dropout_17 (Dropout)            (None, 256)          0           lstm_10[0][0]                    \n",
            "__________________________________________________________________________________________________\n",
            "conv2d_3 (Conv2D)               (None, 48, 48, 256)  2560        input_6[0][0]                    \n",
            "__________________________________________________________________________________________________\n",
            "batch_normalization_9 (BatchNor (None, 256)          1024        dropout_15[0][0]                 \n",
            "__________________________________________________________________________________________________\n",
            "batch_normalization_10 (BatchNo (None, 256)          1024        dropout_17[0][0]                 \n",
            "__________________________________________________________________________________________________\n",
            "activation_4 (Activation)       (None, 48, 48, 256)  0           conv2d_3[0][0]                   \n",
            "__________________________________________________________________________________________________\n",
            "dense_8 (Dense)                 (None, 96)           24672       batch_normalization_9[0][0]      \n",
            "__________________________________________________________________________________________________\n",
            "dense_9 (Dense)                 (None, 32)           8224        batch_normalization_10[0][0]     \n",
            "__________________________________________________________________________________________________\n",
            "max_pooling2d_3 (MaxPooling2D)  (None, 24, 24, 256)  0           activation_4[0][0]               \n",
            "__________________________________________________________________________________________________\n",
            "dropout_16 (Dropout)            (None, 96)           0           dense_8[0][0]                    \n",
            "__________________________________________________________________________________________________\n",
            "dropout_18 (Dropout)            (None, 32)           0           dense_9[0][0]                    \n",
            "__________________________________________________________________________________________________\n",
            "flatten_1 (Flatten)             (None, 147456)       0           max_pooling2d_3[0][0]            \n",
            "__________________________________________________________________________________________________\n",
            "concatenate_2 (Concatenate)     (None, 128)          0           dropout_16[0][0]                 \n",
            "                                                                 dropout_18[0][0]                 \n",
            "__________________________________________________________________________________________________\n",
            "dense_11 (Dense)                (None, 256)          37748992    flatten_1[0][0]                  \n",
            "__________________________________________________________________________________________________\n",
            "dense_10 (Dense)                (None, 64)           8256        concatenate_2[0][0]              \n",
            "__________________________________________________________________________________________________\n",
            "activation_5 (Activation)       (None, 256)          0           dense_11[0][0]                   \n",
            "__________________________________________________________________________________________________\n",
            "dropout_19 (Dropout)            (None, 64)           0           dense_10[0][0]                   \n",
            "__________________________________________________________________________________________________\n",
            "dropout_20 (Dropout)            (None, 256)          0           activation_5[0][0]               \n",
            "__________________________________________________________________________________________________\n",
            "concatenate_3 (Concatenate)     (None, 320)          0           dropout_19[0][0]                 \n",
            "                                                                 dropout_20[0][0]                 \n",
            "__________________________________________________________________________________________________\n",
            "dense_12 (Dense)                (None, 96)           30816       concatenate_3[0][0]              \n",
            "__________________________________________________________________________________________________\n",
            "dropout_21 (Dropout)            (None, 96)           0           dense_12[0][0]                   \n",
            "__________________________________________________________________________________________________\n",
            "dense_13 (Dense)                (None, 45)           4365        dropout_21[0][0]                 \n",
            "==================================================================================================\n",
            "Total params: 39,626,765\n",
            "Trainable params: 39,624,717\n",
            "Non-trainable params: 2,048\n",
            "__________________________________________________________________________________________________\n"
          ],
          "name": "stdout"
        }
      ]
    },
    {
      "cell_type": "code",
      "metadata": {
        "id": "6Fq6VgcE5HcV",
        "colab_type": "code",
        "colab": {}
      },
      "source": [
        "model.compile(loss='categorical_crossentropy', optimizer='adam', metrics=['accuracy'])"
      ],
      "execution_count": null,
      "outputs": []
    },
    {
      "cell_type": "code",
      "metadata": {
        "id": "qhKlAjV05Muu",
        "colab_type": "code",
        "colab": {
          "base_uri": "https://localhost:8080/",
          "height": 136
        },
        "outputId": "10f8f12d-b666-4fd0-8a4f-badb342e227e"
      },
      "source": [
        "model.fit([nomProduit_finaltrain2, other_finaltrain2, url_finaltrain2], encoded_category_finaltrain2,validation_data=([nomProduit_finalvalid,other_finalvalid,url_finalvalid],encoded_category_finalvalid), epochs = 3, batch_size=64)"
      ],
      "execution_count": null,
      "outputs": [
        {
          "output_type": "stream",
          "text": [
            "Epoch 1/3\n",
            "1387/1387 [==============================] - 40s 29ms/step - loss: 4.5251 - accuracy: 0.9322 - val_loss: 0.0782 - val_accuracy: 0.9828\n",
            "Epoch 2/3\n",
            "1387/1387 [==============================] - 40s 29ms/step - loss: 0.0933 - accuracy: 0.9797 - val_loss: 0.0700 - val_accuracy: 0.9850\n",
            "Epoch 3/3\n",
            "1387/1387 [==============================] - 41s 30ms/step - loss: 0.0659 - accuracy: 0.9846 - val_loss: 0.1406 - val_accuracy: 0.9682\n"
          ],
          "name": "stdout"
        },
        {
          "output_type": "execute_result",
          "data": {
            "text/plain": [
              "<tensorflow.python.keras.callbacks.History at 0x7ff97124de10>"
            ]
          },
          "metadata": {
            "tags": []
          },
          "execution_count": 327
        }
      ]
    },
    {
      "cell_type": "code",
      "metadata": {
        "id": "SaHTYL615M2s",
        "colab_type": "code",
        "colab": {
          "base_uri": "https://localhost:8080/",
          "height": 34
        },
        "outputId": "90cae64d-05fd-4fa9-8c96-ee49086d24b0"
      },
      "source": [
        "loss, acc = model.evaluate([nomProduit_finaltest, other_finaltest,url_finaltest], encoded_category_finaltest)"
      ],
      "execution_count": null,
      "outputs": [
        {
          "output_type": "stream",
          "text": [
            "339/339 [==============================] - 3s 7ms/step - loss: 24.6968 - accuracy: 0.0220\n"
          ],
          "name": "stdout"
        }
      ]
    },
    {
      "cell_type": "code",
      "metadata": {
        "id": "1HM2f37l5M9r",
        "colab_type": "code",
        "colab": {}
      },
      "source": [
        "pred = model.predict([nomProduit_finaltest, other_finaltest,url_finaltest])"
      ],
      "execution_count": null,
      "outputs": []
    },
    {
      "cell_type": "code",
      "metadata": {
        "id": "h7-a18Lr58-M",
        "colab_type": "code",
        "colab": {
          "base_uri": "https://localhost:8080/",
          "height": 51
        },
        "outputId": "a205da60-df9e-4baa-a278-8313fb7b4c40"
      },
      "source": [
        "print(np.argmax(pred[31]))\n",
        "print(np.argmax(encoded_category_finaltest[31]))"
      ],
      "execution_count": null,
      "outputs": [
        {
          "output_type": "stream",
          "text": [
            "23\n",
            "23\n"
          ],
          "name": "stdout"
        }
      ]
    },
    {
      "cell_type": "code",
      "metadata": {
        "id": "v6d4wpaH59DL",
        "colab_type": "code",
        "colab": {}
      },
      "source": [
        "def print_prediction(index):\n",
        "  l_indexes = [i[1] for i in img_array_to_id  if (i[0] == url_finaltest[index].reshape(50,50)).all()]\n",
        "  image_index = l_indexes[0]\n",
        "  print(f'Image of {image_index}: \\n')\n",
        "  #test_image = url_finaltest[2].reshape(50,50)\n",
        "  plt.imshow(cv2.imread('/content/drive/My Drive/product/{}.jpg'.format(image_index),1))\n",
        "  plt.show()\n",
        "  category_image = newdf_image.at[image_index,'category']\n",
        "  print(f'Category of Image: {id_to_category[category_image]} \\n')\n",
        "  print(f'Predicted Category: {id_to_category[np.argmax(pred[index])]}')\n"
      ],
      "execution_count": null,
      "outputs": []
    },
    {
      "cell_type": "code",
      "metadata": {
        "id": "WEitI3Z4mdI5",
        "colab_type": "code",
        "colab": {
          "base_uri": "https://localhost:8080/",
          "height": 35
        },
        "outputId": "13384bfb-17b1-408a-8fce-d43393e0ad39"
      },
      "source": [
        "newdf_image.at[73367,'url']"
      ],
      "execution_count": null,
      "outputs": [
        {
          "output_type": "execute_result",
          "data": {
            "application/vnd.google.colaboratory.intrinsic+json": {
              "type": "string"
            },
            "text/plain": [
              "'https://media.auchan.fr/MEDIASTEP85730482_165x165/ADR/Joker-Le-Bio-Nectar-trio-dagrumes-sans-sucres-ajoutes-1l-P859689-1'"
            ]
          },
          "metadata": {
            "tags": []
          },
          "execution_count": 257
        }
      ]
    },
    {
      "cell_type": "code",
      "metadata": {
        "id": "ufRiYcn1g5_U",
        "colab_type": "code",
        "colab": {
          "base_uri": "https://localhost:8080/",
          "height": 354
        },
        "outputId": "3bd3726b-7159-4968-d04d-7f516182b1c3"
      },
      "source": [
        "print_prediction(10) # choose an index from the testing data [nomProduit_finaltest, other_finaltest,url_finaltest] to predict the category\n",
        "#print_prediction(5)"
      ],
      "execution_count": null,
      "outputs": [
        {
          "output_type": "stream",
          "text": [
            "Image of 73367: \n",
            "\n"
          ],
          "name": "stdout"
        },
        {
          "output_type": "display_data",
          "data": {
            "image/png": "[encoded data removed]",
            "text/plain": [
              "<Figure size 432x288 with 1 Axes>"
            ]
          },
          "metadata": {
            "tags": [],
            "needs_background": "light"
          }
        },
        {
          "output_type": "stream",
          "text": [
            "Category of Image: Mélanges de fruits \n",
            "\n",
            "Predicted Category: Mélanges de fruits\n"
          ],
          "name": "stdout"
        }
      ]
    },
    {
      "cell_type": "code",
      "metadata": {
        "id": "DzZF9RT9rDv3",
        "colab_type": "code",
        "colab": {}
      },
      "source": [
        "def sequence_to_sentences(sequence):\n",
        "  tmp_l = [id_to_word[i] for i in sequence]\n",
        "  setence = ''\n",
        "  for i in tmp_l:\n",
        "    if i != '<START>' and i != '<END>' and i != '<UKN>' and i != '<PAD>': \n",
        "      setence += i + ' '\n",
        "  return setence"
      ],
      "execution_count": null,
      "outputs": []
    },
    {
      "cell_type": "code",
      "metadata": {
        "id": "av-nATuHrulR",
        "colab_type": "code",
        "colab": {
          "base_uri": "https://localhost:8080/",
          "height": 34
        },
        "outputId": "6c001633-5fb0-4f80-e4c3-9f51f66bd621"
      },
      "source": [
        "len(pred)"
      ],
      "execution_count": null,
      "outputs": [
        {
          "output_type": "execute_result",
          "data": {
            "text/plain": [
              "10834"
            ]
          },
          "metadata": {
            "tags": []
          },
          "execution_count": 163
        }
      ]
    },
    {
      "cell_type": "code",
      "metadata": {
        "id": "CbxKHi8oi-C7",
        "colab_type": "code",
        "colab": {
          "base_uri": "https://localhost:8080/",
          "height": 1000
        },
        "outputId": "8f00ff82-77f5-4422-dbaa-b2be265d2dd7"
      },
      "source": [
        "suming = 0\n",
        "for i in range(len(pred)):\n",
        "  if np.argmax(pred[i]) != np.argmax(encoded_category_finaltest[i]):\n",
        "    print(f'Product(without stopwords): {sequence_to_sentences(nomProduit_finaltest[i])} => Category: {id_to_category[np.argmax(encoded_category_finaltest[i])]} ===> Predicted Category: {id_to_category[np.argmax(pred[i])]}')\n",
        "    suming += 1\n"
      ],
      "execution_count": null,
      "outputs": [
        {
          "output_type": "stream",
          "text": [
            "Product(without stopwords): blonde12x33cl lmega marker fizz juicy superdefense phyto  => Category: Eau aromatisée gazeuse et gazéifiée ===> Predicted Category: Bières spéciales\n",
            "Product(without stopwords): toute pitterson boualem maturation renaissance caraïbos vamp détoxifiante  => Category: Whisky ===> Predicted Category: Mélanges de fruits\n",
            "Product(without stopwords): bien line briquettes wet  => Category: Visage ===> Predicted Category: Base de teint et Fixateurs\n",
            "Product(without stopwords): ale oasismultifruits allongeant fizz \"reflets alpes regard superdefense orientali  => Category: Bières spéciales ===> Predicted Category: Bières de spécialités\n",
            "Product(without stopwords): kit  => Category: Eyeliner ===> Predicted Category: Eau de parfum\n",
            "Product(without stopwords): puh balenciaga lmega guarana  => Category: Eau de toilette ===> Predicted Category: Mascara\n",
            "Product(without stopwords): lighting peace juicy  => Category: Eau aromatisée gazeuse et gazéifiée ===> Predicted Category: Autres fruits\n",
            "Product(without stopwords): mexique france\" tomate  => Category: Pinceau, houpette ou éponge teint ===> Predicted Category: Eau de parfum\n",
            "Product(without stopwords): déjà warenghem barbie pasteurisé 12%vol perfectly  => Category: autres chocolats ===> Predicted Category: chocolat surprise\n",
            "Product(without stopwords): blender  => Category: Mascara ===> Predicted Category: Eau de parfum\n",
            "Product(without stopwords): rocket overcurl 51  => Category: Autres mono fruits ===> Predicted Category: Eaux aromatisée plates\n",
            "Product(without stopwords): côtes liminana  => Category: Mascara ===> Predicted Category: Eau de parfum\n",
            "Product(without stopwords): rocket pjmasks  => Category: Jus et nectars à l'orange ===> Predicted Category: Diététique et jus de légumes\n",
            "Product(without stopwords): aromatics micro rocket nuit arctique  => Category: Autres mono fruits ===> Predicted Category: Mélanges de fruits\n",
            "Product(without stopwords): lighting multivitamines up ginger licorne  => Category: Diététique et jus de légumes ===> Predicted Category: Sodas\n",
            "Product(without stopwords): j’adore 42° 6x20cl friture cristaline balenciaga lmega campbell  => Category: Coffret parfum femme ===> Predicted Category: Eau de parfum\n",
            "Product(without stopwords): portfolio bertrand  => Category: Mascara ===> Predicted Category: Base de teint et Fixateurs\n",
            "Product(without stopwords): aromatics délice déjà suspension green chèvre  => Category: autres chocolats ===> Predicted Category: chocolat surprise\n",
            "Product(without stopwords): nuanceur liaisons solution lolita  => Category: Pinceau yeux et sourcils ===> Predicted Category: Pinceau, houpette ou éponge teint\n",
            "Product(without stopwords): allongeant perfect neige perfector  => Category: Bières spéciales ===> Predicted Category: Bières de spécialités\n",
            "Product(without stopwords): brave mozzarella 35cl  => Category: Eau de parfum ===> Predicted Category: Lotion et tonique \n",
            "Product(without stopwords): dragée pureté sugar  => Category: Mascara ===> Predicted Category: Base de teint et Fixateurs\n",
            "Product(without stopwords): intensifying naturelle ombres collector réfrigérés laborde d'argouges passiflora  => Category: Mélanges de fruits ===> Predicted Category: Pizza pate normale\n",
            "Product(without stopwords): impact impériale flamme payot  => Category: Blush ===> Predicted Category: Champagnes Bruts\n",
            "Product(without stopwords): singha5%vol minimizing  => Category: Eau de toilette ===> Predicted Category: Eau de parfum\n",
            "Product(without stopwords): celebration empire embellisseur  => Category: Visage ===> Predicted Category: Eau de parfum\n",
            "Product(without stopwords): malt moulages landes pasteurisé kavalan sugar  => Category: Masque  ===> Predicted Category: Eau de parfum\n",
            "Product(without stopwords): o cloud framboise  => Category: Masque  ===> Predicted Category: Eau de parfum\n",
            "Product(without stopwords): julien lmega guarana j’adore n°1 bioplein bambi  => Category: Eau de toilette ===> Predicted Category: Soin de jour\n",
            "Product(without stopwords): 35cl sex frères shine l'aloe palette baby  => Category: Eau de parfum ===> Predicted Category: Base lèvres et repulpeur\n",
            "Product(without stopwords): revillon eyectaching sugar pur charrette sources run  => Category: Masque  ===> Predicted Category: Eau de parfum\n",
            "Product(without stopwords): extravagant oxydante anisette  => Category: Palette Yeux ===> Predicted Category: Eau de parfum\n",
            "Product(without stopwords): fruity blended lighting pocket london jade chamade  => Category: Boissons énergisantes ===> Predicted Category: Sodas Base extrait fruits\n",
            "Product(without stopwords): th&#233 panthère xmas  => Category: Base lèvres et repulpeur ===> Predicted Category: Visage\n",
            "Product(without stopwords): allongeant perfect micro gaffeliere pasteurisé lambic  => Category: Bières spéciales ===> Predicted Category: Bières de spécialités\n",
            "Product(without stopwords): twinkle  => Category: Coffret parfum femme ===> Predicted Category: Rouge à lèvres\n",
            "Product(without stopwords): anisette 35cl l'avant cherrysia  => Category: Palette Yeux ===> Predicted Category: Fard à paupières\n",
            "Product(without stopwords): flammekueche sourcils argouges  => Category: Pinceau yeux et sourcils ===> Predicted Category: Eau de parfum\n",
            "Product(without stopwords): allongeant perfect neige fizz music caraïbos vamp  => Category: Bières spéciales ===> Predicted Category: Eaux aromatisée plates\n",
            "Product(without stopwords): juicy little iii  => Category: Eau aromatisée gazeuse et gazéifiée ===> Predicted Category: Blush\n",
            "Product(without stopwords): côtes portfolio pastèque adelscott vita deal dry bright  => Category: Mascara ===> Predicted Category: Autres fruits\n",
            "Product(without stopwords): 25cl roses liqueur charrette  => Category: Masque  ===> Predicted Category: Mascara\n",
            "Product(without stopwords): luna wet  => Category: Visage ===> Predicted Category: Eau de parfum\n",
            "Product(without stopwords): single palms côtes bulgari paulin  => Category: Mascara ===> Predicted Category: Boissons énergisantes\n",
            "Product(without stopwords): bien concentré punchpop  => Category: Eau de toilette ===> Predicted Category: Eau de parfum\n",
            "Product(without stopwords): lmega born loco haute madame  => Category: Eaux plates ===> Predicted Category: Fruits rouges\n",
            "Product(without stopwords): choc d'issey moulage choc hippopotame  => Category: Mascara ===> Predicted Category: Palette Yeux\n",
            "Product(without stopwords): but renaissance moulis  => Category: Colas ===> Predicted Category: Boissons énergisantes\n",
            "Product(without stopwords): retrograde lmega pressés  => Category: Eau de toilette ===> Predicted Category: Eau de parfum\n",
            "Product(without stopwords): wet  => Category: Visage ===> Predicted Category: Eau de parfum\n",
            "Product(without stopwords): d'abricot  => Category: Eau de toilette ===> Predicted Category: Eau de parfum\n",
            "Product(without stopwords): lmega d' lmega guarana  => Category: Eau de toilette ===> Predicted Category: Eau de parfum\n",
            "Product(without stopwords): lmega born loco  => Category: Eaux plates ===> Predicted Category: Bières de spécialités\n",
            "Product(without stopwords): dust lmega valdonnep&#234 click superdefense 1913  => Category: Eaux plates ===> Predicted Category: Bières spéciales\n",
            "Product(without stopwords): fiber lmega guarana  => Category: Eau de toilette ===> Predicted Category: Eau de parfum\n",
            "Product(without stopwords): it bright côtes haut  => Category: Mascara ===> Predicted Category: Pinceau, houpette ou éponge teint\n",
            "Product(without stopwords): max2l réanectar fluide laborde rivière mummdemi frères shine  => Category: Masque  ===> Predicted Category: Eau de parfum\n",
            "Product(without stopwords): soy  => Category: Coffret parfum homme ===> Predicted Category: Coffret parfum femme\n",
            "Product(without stopwords): jour lmega 227  => Category: Eau de parfum ===> Predicted Category: Coffret parfum homme\n",
            "Product(without stopwords): j’adore bâtonnets agrum&#39  => Category: Visage ===> Predicted Category: Coffret parfum homme\n",
            "Product(without stopwords): mascara men pasteurisé  => Category: Mélanges de fruits ===> Predicted Category: Jus et nectars à l'orange\n",
            "Product(without stopwords): blanches  => Category: Soin de jour ===> Predicted Category: Coffret parfum homme\n",
            "Product(without stopwords): ambient lalande norvina  => Category: Lotion et tonique  ===> Predicted Category: Boissons à base de thé\n",
            "Product(without stopwords): pulcocitronnade  => Category: Soin de jour ===> Predicted Category: Coffret parfum homme\n",
            "Product(without stopwords): blush™ marseille soirée tarte lmega guarana  => Category: Eau de toilette ===> Predicted Category: Eau de parfum\n",
            "Product(without stopwords): grant'sréserve run bioregenerate happy cythère by iii  => Category: Visage ===> Predicted Category: Sodas Base extrait fruits\n",
            "Product(without stopwords): awake lighting marker tea n°17 chachatint dentelle jade orientali  => Category: Sodas Base extrait fruits ===> Predicted Category: Sodas\n",
            "Product(without stopwords):  => Category: Eau de toilette ===> Predicted Category: Eau de parfum\n",
            "Product(without stopwords): sky embout superprimer 30ml 4x50cl  => Category: Eyeliner ===> Predicted Category: Fruits rouges\n",
            "Product(without stopwords): powerpuff  => Category: Masque  ===> Predicted Category: Soin de jour\n",
            "Product(without stopwords): martiniquenos mark glossy lmega guarana  => Category: Eau de toilette ===> Predicted Category: Eau de parfum\n",
            "Product(without stopwords): rivanis umbrian  => Category: Rouge à lèvres ===> Predicted Category: Base lèvres et repulpeur\n",
            "Product(without stopwords): oasis volvicfontaine  => Category: Pinceau, houpette ou éponge teint ===> Predicted Category: Pinceau yeux et sourcils\n",
            "Product(without stopwords): aromatics lighting jolie ginger creamy zaini métalliques  => Category: Eaux aromatisée plates ===> Predicted Category: Autres mono fruits\n",
            "Product(without stopwords): 1offert papa anisette  => Category: Palette Yeux ===> Predicted Category: Fard à paupières\n",
            "Product(without stopwords): poreless épinard l'orange mercedes bull  => Category: Soin de jour ===> Predicted Category: Coffret parfum homme\n",
            "Product(without stopwords): amrezy norvina juicy monin arctique  => Category: Autres mono fruits ===> Predicted Category: Autres fruits\n",
            "Product(without stopwords): décorés cl fine mark panthère cassis  => Category: Base lèvres et repulpeur ===> Predicted Category: Mascara\n",
            "Product(without stopwords): full l'avant  => Category: Fard à paupières ===> Predicted Category: Soin de jour\n",
            "Product(without stopwords): lighting jolie men charrettetraditionnel  => Category: Mélanges de fruits ===> Predicted Category: Eaux gazeuses et gazéifiées\n",
            "Product(without stopwords): aromatics by slim brique métalliques  => Category: Boissons à base de thé ===> Predicted Category: Mélanges de fruits\n",
            "Product(without stopwords): frigopack intense  => Category: Eaux aromatisée plates ===> Predicted Category: Pinceau, houpette ou éponge teint\n",
            "Product(without stopwords): climax run ikks fronsac tonka abatilles6x1  => Category: Base de teint et Fixateurs ===> Predicted Category: Eau de parfum\n",
            "Product(without stopwords): deal n°23 soap serve line  => Category: Soin de jour ===> Predicted Category: Coffret parfum femme\n",
            "Product(without stopwords): girl big n°29 anisette  => Category: Palette Yeux ===> Predicted Category: Rouge à lèvres\n",
            "Product(without stopwords): fine cassis  => Category: Base de teint et Fixateurs ===> Predicted Category: Visage\n",
            "Product(without stopwords): aromatics micro rocket creamy 12° arctique  => Category: Jus de pomme ===> Predicted Category: Mélanges de fruits\n",
            "Product(without stopwords): trolls now  => Category: Fard à paupières ===> Predicted Category: Coffret parfum homme\n",
            "Product(without stopwords): ambient lalande norvina  => Category: Lotion et tonique  ===> Predicted Category: Mélanges de fruits\n",
            "Product(without stopwords): agrum' l'aloe yuza lmega épinard lmega guarana  => Category: Eau de parfum ===> Predicted Category: Pinceau yeux et sourcils\n",
            "Product(without stopwords): mexique terre natural  => Category: Pinceau, houpette ou éponge teint ===> Predicted Category: Pinceau yeux et sourcils\n",
            "Product(without stopwords): brit nord dry sauvignon  => Category: Mascara ===> Predicted Category: Eau de parfum\n",
            "Product(without stopwords): palm mâtvanille  => Category: Coffret parfum femme ===> Predicted Category: Eau de parfum\n",
            "Product(without stopwords): charrette oasisorange  => Category: Masque  ===> Predicted Category: Base de teint et Fixateurs\n",
            "Product(without stopwords): 35° dagger wet  => Category: Visage ===> Predicted Category: Eau de parfum\n",
            "Product(without stopwords): boucheron rivanis pasteurisé poussins trois cask innocentavec cask sunset endless basilic hypnotic  => Category: Bordeaux ===> Predicted Category: Pizza pate normale\n",
            "Product(without stopwords): lmega born loco peace 42° peaches  => Category: Eaux gazeuses et gazéifiées ===> Predicted Category: Eaux aromatisée plates\n",
            "Product(without stopwords): petits griotte  => Category: Eau de toilette ===> Predicted Category: Visage\n",
            "Product(without stopwords): vap' puff argouges  => Category: Pinceau, houpette ou éponge teint ===> Predicted Category: Pinceau yeux et sourcils\n",
            "Product(without stopwords): william off  => Category: Visage ===> Predicted Category: Base lèvres et repulpeur\n",
            "Product(without stopwords): privé poudrée off fruity  => Category: Rouge à lèvres ===> Predicted Category: Mascara\n",
            "Product(without stopwords): giving mascara mountains diormania dagger sugar  => Category: Masque  ===> Predicted Category: Mélanges de fruits\n",
            "Product(without stopwords): princesses moutains  => Category: Visage ===> Predicted Category: Eau de parfum\n",
            "Product(without stopwords): nuanceur trans  => Category: Pinceau, houpette ou éponge teint ===> Predicted Category: Eau de toilette\n",
            "Product(without stopwords): fine ceramidin  => Category: Base de teint et Fixateurs ===> Predicted Category: Pinceau, houpette ou éponge teint\n",
            "Product(without stopwords): deal frigo  => Category: Eau de parfum ===> Predicted Category: Visage\n",
            "Product(without stopwords): rock boîte poperings rock boîte poperings  => Category: Eau de toilette ===> Predicted Category: Eau de parfum\n",
            "Product(without stopwords): oui anisette deal pump'n'volume  => Category: Palette Yeux ===> Predicted Category: Fard à paupières\n",
            "Product(without stopwords): btes estephe sky finement sky finement pastèque thank  => Category: Eyeliner ===> Predicted Category: Mélanges de fruits\n",
            "Product(without stopwords): mystique cils kitten pitterson confetti  => Category: Palette Yeux ===> Predicted Category: Fard à paupières\n",
            "Product(without stopwords): complete confetti  => Category: Eau de toilette ===> Predicted Category: Eau de parfum\n",
            "Product(without stopwords): chachatint rocket pjmasks n°17  => Category: Jus et nectars à l'orange ===> Predicted Category: Mélanges de fruits\n",
            "Product(without stopwords): aromatics pasteurisé barbie enrichie ginger purity arctique  => Category: Diététique et jus de légumes ===> Predicted Category: Mélanges de fruits\n",
            "Product(without stopwords): fizzy sponge cat  => Category: Fard à paupières ===> Predicted Category: Visage\n",
            "Product(without stopwords): bio  => Category: Eau de parfum ===> Predicted Category: Eau de toilette\n",
            "Product(without stopwords): holi pellegrinolimonata  => Category: Eau de parfum ===> Predicted Category: Visage\n",
            "Product(without stopwords): déjà pommery chocolatier matcha gazéifiée 1881  => Category: chocolat surprise ===> Predicted Category: autres chocolats\n",
            "Product(without stopwords): velvet brit  => Category: Mascara ===> Predicted Category: Coffret parfum femme\n",
            "Product(without stopwords): intensifying naturelle ombres collector réfrigérés laborde d'argouges passiflora  => Category: Mélanges de fruits ===> Predicted Category: Mascara\n",
            "Product(without stopwords): fruit\"  => Category: Blush ===> Predicted Category: Palette Yeux\n",
            "Product(without stopwords): pressées balenciaga  => Category: Eau de parfum ===> Predicted Category: Mascara\n",
            "Product(without stopwords): snake h35  => Category: Masque  ===> Predicted Category: Palette Yeux\n",
            "Product(without stopwords): energisant venezuela closeraie préparation accord  => Category: Visage ===> Predicted Category: Eau de parfum\n",
            "Product(without stopwords): retrograde  => Category: Eau de toilette ===> Predicted Category: Eau de parfum\n",
            "Product(without stopwords): lmega born loco enrichi  => Category: Eaux plates ===> Predicted Category: Eaux gazeuses et gazéifiées\n",
            "Product(without stopwords): but renaissance intense limonade full outrageous cocoa lestacbordeaux extrait laborde d'ardèche passiflora  => Category: Sodas ===> Predicted Category: Pizza pate normale\n",
            "Product(without stopwords): bubblegum panthère gioia repetto  => Category: Base lèvres et repulpeur ===> Predicted Category: Fard à paupières\n",
            "Product(without stopwords): primaires  => Category: Lotion et tonique  ===> Predicted Category: Soin de jour\n",
            "Product(without stopwords): nougat nettoyante foubouteille  => Category: Masque  ===> Predicted Category: Eau de parfum\n",
            "Product(without stopwords): infusions tropical sourcils papa anisette  => Category: Palette Yeux ===> Predicted Category: Fard à paupières\n",
            "Product(without stopwords): pure bright 8%vol iconique  => Category: Base de teint et Fixateurs ===> Predicted Category: Soin de jour\n",
            "Product(without stopwords): into 41% tea awake  => Category: Eau aromatisée gazeuse et gazéifiée ===> Predicted Category: Sodas\n",
            "Product(without stopwords): charrette maturation romance spray résines  => Category: Masque  ===> Predicted Category: Visage\n",
            "Product(without stopwords): remix revitalizing  => Category: Blush ===> Predicted Category: Soin de jour\n",
            "Product(without stopwords): boite outrageous démultipliés laborde pétillante passiflora  => Category: Sodas Base extrait fruits ===> Predicted Category: Sodas\n",
            "Product(without stopwords): nudes 8l hepar planteur bi&#232  => Category: Visage ===> Predicted Category: Soin de jour\n"
          ],
          "name": "stdout"
        }
      ]
    },
    {
      "cell_type": "code",
      "metadata": {
        "id": "PpUK83wRsrXv",
        "colab_type": "code",
        "colab": {
          "base_uri": "https://localhost:8080/",
          "height": 34
        },
        "outputId": "36ff70c1-e35f-452b-bdd4-2904f8678702"
      },
      "source": [
        "ratio = (nomProduit_finaltest.shape[0] - suming)/nomProduit_finaltest.shape[0]\n",
        "print(f'Ratio of prediction = {ratio}')"
      ],
      "execution_count": null,
      "outputs": [
        {
          "output_type": "stream",
          "text": [
            "Ratio of prediction = 0.9874469263429942\n"
          ],
          "name": "stdout"
        }
      ]
    },
    {
      "cell_type": "code",
      "metadata": {
        "id": "pKujHDG4OS9u",
        "colab_type": "code",
        "colab": {}
      },
      "source": [
        ""
      ],
      "execution_count": null,
      "outputs": []
    },
    {
      "cell_type": "code",
      "metadata": {
        "id": "4b37IKAnOTCV",
        "colab_type": "code",
        "colab": {}
      },
      "source": [
        ""
      ],
      "execution_count": null,
      "outputs": []
    },
    {
      "cell_type": "code",
      "metadata": {
        "id": "6kFulLr7OS7G",
        "colab_type": "code",
        "colab": {}
      },
      "source": [
        ""
      ],
      "execution_count": null,
      "outputs": []
    },
    {
      "cell_type": "code",
      "metadata": {
        "id": "g_K-GMXYDJzB",
        "colab_type": "code",
        "colab": {
          "base_uri": "https://localhost:8080/",
          "height": 289
        },
        "outputId": "7a43cdba-cc02-4752-ffe9-d94f76475a09"
      },
      "source": [
        "# TESTING THE NEW SET\n",
        "def Merging2Dataframe(df_1,df_2):\n",
        "  \n",
        "  df_1 = df_1[[c for c in df_1 if c not in ['category']] + ['category']]\n",
        "  df_1 = df_1.fillna('SANS MARQUE')\n",
        "\n",
        "  \n",
        "  df_2.dropna(inplace=True)\n",
        "  \n",
        "  df_3 = df_2.merge(df_1,on=\"id\", how = 'inner')\n",
        "  return df_3\n",
        "\n",
        "df_1 = pd.read_csv('/content/test_data_images.csv')\n",
        "df_2 = pd.read_csv('/content/test_data_text.csv')\n",
        "newdf_image_testing = Merging2Dataframe(df_2,df_1)\n",
        "newdf_image_testing.head()"
      ],
      "execution_count": null,
      "outputs": [
        {
          "output_type": "execute_result",
          "data": {
            "text/html": [
              "<div>\n",
              "<style scoped>\n",
              "    .dataframe tbody tr th:only-of-type {\n",
              "        vertical-align: middle;\n",
              "    }\n",
              "\n",
              "    .dataframe tbody tr th {\n",
              "        vertical-align: top;\n",
              "    }\n",
              "\n",
              "    .dataframe thead th {\n",
              "        text-align: right;\n",
              "    }\n",
              "</style>\n",
              "<table border=\"1\" class=\"dataframe\">\n",
              "  <thead>\n",
              "    <tr style=\"text-align: right;\">\n",
              "      <th></th>\n",
              "      <th>id</th>\n",
              "      <th>url</th>\n",
              "      <th>nomProduit</th>\n",
              "      <th>marque</th>\n",
              "      <th>famille_drive</th>\n",
              "      <th>rayon_drive</th>\n",
              "      <th>category</th>\n",
              "    </tr>\n",
              "  </thead>\n",
              "  <tbody>\n",
              "    <tr>\n",
              "      <th>0</th>\n",
              "      <td>166</td>\n",
              "      <td>https://media.auchan.fr/MEDIASTEP73419569_188x...</td>\n",
              "      <td>Andros Jus de pommes 1,5L</td>\n",
              "      <td>ANDROS</td>\n",
              "      <td>Softs</td>\n",
              "      <td>C'est l'été</td>\n",
              "      <td>Jus de pomme</td>\n",
              "    </tr>\n",
              "    <tr>\n",
              "      <th>1</th>\n",
              "      <td>2810</td>\n",
              "      <td>https://media.auchan.fr/MEDIASTEP57433119_165x...</td>\n",
              "      <td>Auchan bio pur jus de fruits du verger brique 1l</td>\n",
              "      <td>AUCHAN</td>\n",
              "      <td>Multifruits</td>\n",
              "      <td>Boissons</td>\n",
              "      <td>Jus de pomme</td>\n",
              "    </tr>\n",
              "    <tr>\n",
              "      <th>2</th>\n",
              "      <td>3131</td>\n",
              "      <td>https://media.auchan.fr/MEDIASTEP61167474_460x...</td>\n",
              "      <td>Rik &amp; Rok pur jus de pomme bio 4x20cl</td>\n",
              "      <td>RIK ET ROK</td>\n",
              "      <td>Monofruit</td>\n",
              "      <td>Boissons</td>\n",
              "      <td>Jus de pomme</td>\n",
              "    </tr>\n",
              "    <tr>\n",
              "      <th>3</th>\n",
              "      <td>3146</td>\n",
              "      <td>https://media.auchan.fr/MEDIASTEP57975980_188x...</td>\n",
              "      <td>Thomas le prince Pur jus de pomme poire bio bo...</td>\n",
              "      <td>THOMAS LE PRINCE</td>\n",
              "      <td>Bio et écolo</td>\n",
              "      <td>Bio et écolo</td>\n",
              "      <td>Jus de pomme</td>\n",
              "    </tr>\n",
              "    <tr>\n",
              "      <th>4</th>\n",
              "      <td>6395</td>\n",
              "      <td>/product-renderer/sav_20200710-01/images/pixel...</td>\n",
              "      <td>Auchan Pur jus de pomme trouble 1l</td>\n",
              "      <td>AUCHAN</td>\n",
              "      <td>Jus de fruits, jus de légumes</td>\n",
              "      <td>Boissons</td>\n",
              "      <td>Jus de pomme</td>\n",
              "    </tr>\n",
              "  </tbody>\n",
              "</table>\n",
              "</div>"
            ],
            "text/plain": [
              "     id  ...      category\n",
              "0   166  ...  Jus de pomme\n",
              "1  2810  ...  Jus de pomme\n",
              "2  3131  ...  Jus de pomme\n",
              "3  3146  ...  Jus de pomme\n",
              "4  6395  ...  Jus de pomme\n",
              "\n",
              "[5 rows x 7 columns]"
            ]
          },
          "metadata": {
            "tags": []
          },
          "execution_count": 124
        }
      ]
    },
    {
      "cell_type": "code",
      "metadata": {
        "id": "s9J1R_yeEkru",
        "colab_type": "code",
        "colab": {
          "base_uri": "https://localhost:8080/",
          "height": 170
        },
        "outputId": "4cf59add-2d22-4107-9664-7025708e8462"
      },
      "source": [
        "#print(newdf_image.shape)\n",
        "print(newdf_image_testing.shape)\n",
        "newdf_image_testing.isnull().sum()"
      ],
      "execution_count": null,
      "outputs": [
        {
          "output_type": "stream",
          "text": [
            "(94645, 7)\n"
          ],
          "name": "stdout"
        },
        {
          "output_type": "execute_result",
          "data": {
            "text/plain": [
              "id               0\n",
              "url              0\n",
              "nomProduit       0\n",
              "marque           0\n",
              "famille_drive    0\n",
              "rayon_drive      0\n",
              "category         0\n",
              "dtype: int64"
            ]
          },
          "metadata": {
            "tags": []
          },
          "execution_count": 125
        }
      ]
    },
    {
      "cell_type": "code",
      "metadata": {
        "id": "-mBf9P_L5GBX",
        "colab_type": "code",
        "colab": {
          "base_uri": "https://localhost:8080/",
          "height": 34
        },
        "outputId": "3c2944c8-b086-4b82-cc7e-049da520372a"
      },
      "source": [
        "len(newdf_image_testing.category.unique())"
      ],
      "execution_count": null,
      "outputs": [
        {
          "output_type": "execute_result",
          "data": {
            "text/plain": [
              "45"
            ]
          },
          "metadata": {
            "tags": []
          },
          "execution_count": 126
        }
      ]
    },
    {
      "cell_type": "code",
      "metadata": {
        "id": "sVx1Ghm9lf9S",
        "colab_type": "code",
        "colab": {}
      },
      "source": [
        "# Downloading Image Data Set\n",
        "import requests\n",
        "import shutil\n",
        "if not os.path.isdir('/content/drive/My Drive/product_test'): \n",
        "  os.mkdir('/content/drive/My Drive/product_test') \n",
        "  \n",
        "i = 81425\n",
        "while i < newdf_image_testing['url'].values.size:\n",
        "  ## Set up the image URL and filename\n",
        "  tmp_image_url = newdf_image_testing['url'].values[i]\n",
        "  if 'http' not in tmp_image_url:\n",
        "    i += 1\n",
        "    continue \n",
        "  tmp_image_url = tmp_image_url.encode('ascii', 'ignore').decode('ascii')\n",
        "  tmp_filename = '/content/drive/My Drive/product_test/' + str(i) + '.jpg'\n",
        "  # Open the url image, set stream to True, this will return the stream content.\n",
        "  r = requests.get(tmp_image_url, stream = True)\n",
        "   # Check if the image was retrieved successfully\n",
        "  if r.status_code == 200:\n",
        "        # Set decode_content value to True, otherwise the downloaded image file's size will be zero.\n",
        "      r.raw.decode_content = True\n",
        "       \n",
        "        # Open a local file with wb ( write binary ) permission.\n",
        "      with open(tmp_filename,'wb') as f:\n",
        "          shutil.copyfileobj(r.raw, f)\n",
        "      if i % 10000 == 0:    \n",
        "          print(f'Image {i} sucessfully Downloaded: ',tmp_filename)\n",
        "  else:\n",
        "    print('Image Couldn\\'t be retreived')\n",
        "  i += 1\n"
      ],
      "execution_count": null,
      "outputs": []
    },
    {
      "cell_type": "code",
      "metadata": {
        "id": "lYUSc2Z1vir5",
        "colab_type": "code",
        "colab": {
          "base_uri": "https://localhost:8080/",
          "height": 34
        },
        "outputId": "6978dae6-367f-4afe-d77c-935c8fcd2a7c"
      },
      "source": [
        "tmp_path = '/content/drive/My Drive/product_test'\n",
        "len(os.listdir(tmp_path))"
      ],
      "execution_count": null,
      "outputs": [
        {
          "output_type": "execute_result",
          "data": {
            "text/plain": [
              "94570"
            ]
          },
          "metadata": {
            "tags": []
          },
          "execution_count": 62
        }
      ]
    },
    {
      "cell_type": "code",
      "metadata": {
        "id": "JWp2vVomjn8o",
        "colab_type": "code",
        "colab": {}
      },
      "source": [
        "def processessing_new_testingdata(df):\n",
        "  tmp_names = df.nomProduit.str.cat(sep=' ')\n",
        "  nltk.download('punkt')\n",
        "  tmp_tokens = word_tokenize(tmp_names)\n",
        "  tmp_vocabulary = set(tmp_tokens)\n",
        "  \n",
        "  nltk.download('stopwords')\n",
        "  tmp_stop_words = set(stopwords.words('french'))\n",
        "  tmp_tokens = [w for w in tmp_tokens if (not w in tmp_stop_words)]\n",
        "  tmp_vocabulary = set(tmp_tokens)\n",
        "  \n",
        "  tmp_result= []\n",
        "  tmp_tokens = []\n",
        "  for i,produit in enumerate(df.nomProduit.values):\n",
        "    # tokenize the document\n",
        "    tmp_words = text_to_word_sequence(produit,filters='!”$()*+,-./:;<=>?@[\\\\]^_`{|}~\\t\\n')\n",
        "    tmp_stop_words = set(stopwords.words('french'))\n",
        "    tmp_words = [w for w in tmp_words if not w in tmp_stop_words]\n",
        "    tmp_tokens += [w for w in tmp_words]\n",
        "    tmp_result.append(tmp_words)\n",
        "  print(tmp_result)\n",
        "  df['nomProduit']=tmp_result\n",
        "  df.head(5)\n",
        "  \n",
        "  le_marquet = [marque_to_id[c] for c in df.marque]\n",
        "  df.marque = le_marquet\n",
        "\n",
        "  le_familledrivet = [fd_to_id[c] for c in df.famille_drive]\n",
        "  df.famille_drive = le_familledrivet\n",
        "\n",
        "  le_rayondrivet = [rd_to_id[c] for c in df.rayon_drive]\n",
        "  df.rayon_drive = le_rayondrivet\n",
        "\n",
        "  df.head(5)\n",
        "  tmp_sequence_of_id = []\n",
        "  for sequence in df.nomProduit:\n",
        "    tmp_sequence_of_id.append([1] + [word_to_id[w] if w in word_to_id else 2 for w in sequence ] )\n",
        "  df.nomProduit = tmp_sequence_of_id\n",
        "  df.head(5)\n",
        "\n",
        "  tmp_category = [category_to_id[c] for c in df.category]\n",
        "  df.category = tmp_category\n",
        "\n",
        "  tmp_nomProduit_ = df.nomProduit.values\n",
        "  tmp_nomProduit_ = np.array(tmp_nomProduit_,dtype=np.ndarray)\n",
        "  tmp_maxLen = len(max(tmp_nomProduit_, key=len))\n",
        "\n",
        "\n",
        "  tmp_nomProduit_ = df.nomProduit.values\n",
        "  tmp_nomProduit_ = np.array(tmp_nomProduit_,dtype=np.ndarray)\n",
        "  tmp_nomProduit_ = pad_sequences(tmp_nomProduit_, word_to_id, 20)\n",
        "\n",
        "  tmp_other_ = df[['marque','famille_drive','rayon_drive']].values\n",
        "  tmp_other_ = preprocessing.normalize(tmp_other_)\n",
        "\n",
        "  tmp_category_ = df.category.values\n",
        "  tmp_category_ = np.array(tmp_category_)\n",
        "  tmp_encoded_category_ = to_categorical(tmp_category_)\n",
        "\n",
        "  \n",
        "  return tmp_nomProduit_,tmp_other_,tmp_encoded_category_"
      ],
      "execution_count": null,
      "outputs": []
    },
    {
      "cell_type": "code",
      "metadata": {
        "id": "jYW01wLxx4n2",
        "colab_type": "code",
        "colab": {
          "base_uri": "https://localhost:8080/",
          "height": 204
        },
        "outputId": "8427c2aa-e8d4-49e9-bf6b-b58bedcb5d4e"
      },
      "source": [
        "newdf_image_testing.head()"
      ],
      "execution_count": null,
      "outputs": [
        {
          "output_type": "execute_result",
          "data": {
            "text/html": [
              "<div>\n",
              "<style scoped>\n",
              "    .dataframe tbody tr th:only-of-type {\n",
              "        vertical-align: middle;\n",
              "    }\n",
              "\n",
              "    .dataframe tbody tr th {\n",
              "        vertical-align: top;\n",
              "    }\n",
              "\n",
              "    .dataframe thead th {\n",
              "        text-align: right;\n",
              "    }\n",
              "</style>\n",
              "<table border=\"1\" class=\"dataframe\">\n",
              "  <thead>\n",
              "    <tr style=\"text-align: right;\">\n",
              "      <th></th>\n",
              "      <th>id</th>\n",
              "      <th>url</th>\n",
              "      <th>nomProduit</th>\n",
              "      <th>marque</th>\n",
              "      <th>famille_drive</th>\n",
              "      <th>rayon_drive</th>\n",
              "      <th>category</th>\n",
              "    </tr>\n",
              "  </thead>\n",
              "  <tbody>\n",
              "    <tr>\n",
              "      <th>0</th>\n",
              "      <td>166</td>\n",
              "      <td>https://media.auchan.fr/MEDIASTEP73419569_188x...</td>\n",
              "      <td>[1, 1367, 3160, 2791, 2837, 1014]</td>\n",
              "      <td>20</td>\n",
              "      <td>354</td>\n",
              "      <td>11</td>\n",
              "      <td>2</td>\n",
              "    </tr>\n",
              "    <tr>\n",
              "      <th>1</th>\n",
              "      <td>2810</td>\n",
              "      <td>https://media.auchan.fr/MEDIASTEP57433119_165x...</td>\n",
              "      <td>[1, 2209, 162, 2351, 3160, 1889, 1252, 1011, 1...</td>\n",
              "      <td>27</td>\n",
              "      <td>272</td>\n",
              "      <td>7</td>\n",
              "      <td>2</td>\n",
              "    </tr>\n",
              "    <tr>\n",
              "      <th>2</th>\n",
              "      <td>3131</td>\n",
              "      <td>https://media.auchan.fr/MEDIASTEP61167474_460x...</td>\n",
              "      <td>[1, 1266, 1084, 2187, 2351, 3160, 546, 162, 525]</td>\n",
              "      <td>567</td>\n",
              "      <td>269</td>\n",
              "      <td>7</td>\n",
              "      <td>2</td>\n",
              "    </tr>\n",
              "    <tr>\n",
              "      <th>3</th>\n",
              "      <td>3146</td>\n",
              "      <td>https://media.auchan.fr/MEDIASTEP57975980_188x...</td>\n",
              "      <td>[1, 358, 3180, 2351, 3160, 546, 2694, 162, 246...</td>\n",
              "      <td>647</td>\n",
              "      <td>26</td>\n",
              "      <td>6</td>\n",
              "      <td>2</td>\n",
              "    </tr>\n",
              "    <tr>\n",
              "      <th>4</th>\n",
              "      <td>6395</td>\n",
              "      <td>/product-renderer/sav_20200710-01/images/pixel...</td>\n",
              "      <td>[1, 2209, 2351, 3160, 546, 2086, 1780]</td>\n",
              "      <td>27</td>\n",
              "      <td>234</td>\n",
              "      <td>7</td>\n",
              "      <td>2</td>\n",
              "    </tr>\n",
              "  </tbody>\n",
              "</table>\n",
              "</div>"
            ],
            "text/plain": [
              "     id  ... category\n",
              "0   166  ...        2\n",
              "1  2810  ...        2\n",
              "2  3131  ...        2\n",
              "3  3146  ...        2\n",
              "4  6395  ...        2\n",
              "\n",
              "[5 rows x 7 columns]"
            ]
          },
          "metadata": {
            "tags": []
          },
          "execution_count": 300
        }
      ]
    },
    {
      "cell_type": "code",
      "metadata": {
        "id": "p9053cIwLRqI",
        "colab_type": "code",
        "colab": {
          "base_uri": "https://localhost:8080/",
          "height": 255
        },
        "outputId": "e2f7800c-898f-4794-d2da-6b912f6331fa"
      },
      "source": [
        "tmp_nomProduit_,tmp_other_,tmp_encoded_category_ = processessing_new_testingdata(newdf_image_testing)"
      ],
      "execution_count": null,
      "outputs": [
        {
          "output_type": "stream",
          "text": [
            "[nltk_data] Downloading package punkt to /root/nltk_data...\n",
            "[nltk_data]   Package punkt is already up-to-date!\n",
            "[nltk_data] Downloading package stopwords to /root/nltk_data...\n",
            "[nltk_data]   Package stopwords is already up-to-date!\n"
          ],
          "name": "stdout"
        },
        {
          "output_type": "stream",
          "text": [
            "IOPub data rate exceeded.\n",
            "The notebook server will temporarily stop sending output\n",
            "to the client in order to avoid crashing it.\n",
            "To change this limit, set the config variable\n",
            "`--NotebookApp.iopub_data_rate_limit`.\n",
            "\n",
            "Current values:\n",
            "NotebookApp.iopub_data_rate_limit=1000000.0 (bytes/sec)\n",
            "NotebookApp.rate_limit_window=3.0 (secs)\n",
            "\n"
          ],
          "name": "stderr"
        }
      ]
    },
    {
      "cell_type": "code",
      "metadata": {
        "id": "NzUgzET8ngws",
        "colab_type": "code",
        "colab": {}
      },
      "source": [
        "tmp_data_sample = []\n",
        "tmp_img_array_to_id = []\n",
        "\n",
        "tmp_Image_size = 50\n",
        "a = 0\n",
        "tmp_path = '/content/drive/My Drive/product_test'\n",
        "for img in os.listdir(tmp_path):\n",
        "  try:\n",
        "    tmp_index = int(img[:-4])\n",
        "    tmp_img_array = cv2.imread(os.path.join(tmp_path,img) , cv2.IMREAD_GRAYSCALE)    \n",
        "    tmp_new_array = cv2.resize(tmp_img_array,(tmp_Image_size,tmp_Image_size))\n",
        "    tmp_img_array_to_id.append((tmp_new_array,tmp_index))\n",
        "    tmp_data_sample.append([tmp_new_array,tmp_nomProduit_[tmp_index],tmp_other_[tmp_index],tmp_encoded_category_[tmp_index]])\n",
        "    if a % 2000 == 0:\n",
        "      print(f'Image {a} uploaded')\n",
        "  except Exception as e:\n",
        "    print(f'Error {a}')\n",
        "  a += 1   \n",
        "\n",
        "  "
      ],
      "execution_count": null,
      "outputs": []
    },
    {
      "cell_type": "code",
      "metadata": {
        "id": "oHlooKWDQFiv",
        "colab_type": "code",
        "colab": {
          "base_uri": "https://localhost:8080/",
          "height": 34
        },
        "outputId": "c9c6bf29-4d8a-4fbe-feb6-4a3dfdc216fd"
      },
      "source": [
        "len(tmp_data_sample)"
      ],
      "execution_count": null,
      "outputs": [
        {
          "output_type": "execute_result",
          "data": {
            "text/plain": [
              "94028"
            ]
          },
          "metadata": {
            "tags": []
          },
          "execution_count": 130
        }
      ]
    },
    {
      "cell_type": "code",
      "metadata": {
        "id": "jWAJrOnmnQ8W",
        "colab_type": "code",
        "colab": {}
      },
      "source": [
        "import pickle\n",
        "#pickle_out = open('/content/drive/My Drive/training_data_sample_.pickle','wb')\n",
        "#pickle.dump(tmp_data_sample,pickle_out)\n",
        "#pickle_out.close()\n",
        "\n",
        "#pickle_out = open('/content/drive/My Drive/training_img_array_to_id.pickle','wb')\n",
        "#pickle.dump(tmp_img_array_to_id,pickle_out)\n",
        "#pickle_out.close()"
      ],
      "execution_count": null,
      "outputs": []
    },
    {
      "cell_type": "code",
      "metadata": {
        "id": "Ez3fiTASjVqi",
        "colab_type": "code",
        "colab": {}
      },
      "source": [
        "prickle_in = open('/content/drive/My Drive/training_data_sample_.pickle','rb')\n",
        "tmp_data_sample = pickle.load(prickle_in)\n",
        "\n",
        "prickle_in = open('/content/drive/My Drive/training_img_array_to_id.pickle','rb')\n",
        "tmp_img_array_to_id = pickle.load(prickle_in)"
      ],
      "execution_count": null,
      "outputs": []
    },
    {
      "cell_type": "code",
      "metadata": {
        "id": "qf_x6dWwtiHR",
        "colab_type": "code",
        "colab": {
          "base_uri": "https://localhost:8080/",
          "height": 1000
        },
        "outputId": "101d7e7a-13de-4fff-dac4-30763e307a50"
      },
      "source": [
        "tested_tmp_data_sample = []\n",
        "for i in tmp_data_sample:\n",
        "  if i[3][44] != 1:\n",
        "    tested_tmp_data_sample.append(i)\n",
        "tested_tmp_data_sample[0:5]  "
      ],
      "execution_count": null,
      "outputs": [
        {
          "output_type": "execute_result",
          "data": {
            "text/plain": [
              "[[array([[255, 255, 255, ..., 255, 255, 255],\n",
              "         [255, 255, 255, ..., 255, 255, 255],\n",
              "         [255, 255, 255, ..., 255, 255, 255],\n",
              "         ...,\n",
              "         [255, 255, 255, ..., 255, 255, 255],\n",
              "         [255, 255, 255, ..., 255, 255, 255],\n",
              "         [255, 255, 255, ..., 255, 255, 255]], dtype=uint8),\n",
              "  array([   1, 1367, 3160, 2791, 2837, 1014,    0,    0,    0,    0,    0,\n",
              "            0,    0,    0,    0,    0,    0,    0,    0,    3]),\n",
              "  array([0.0563801 , 0.99792771, 0.03100905]),\n",
              "  array([0., 0., 1., 0., 0., 0., 0., 0., 0., 0., 0., 0., 0., 0., 0., 0., 0.,\n",
              "         0., 0., 0., 0., 0., 0., 0., 0., 0., 0., 0., 0., 0., 0., 0., 0., 0.,\n",
              "         0., 0., 0., 0., 0., 0., 0., 0., 0., 0., 0.], dtype=float32)],\n",
              " [array([[255, 255, 255, ..., 255, 255, 255],\n",
              "         [255, 255, 255, ..., 255, 255, 255],\n",
              "         [255, 255, 255, ..., 255, 255, 255],\n",
              "         ...,\n",
              "         [255, 255, 255, ..., 255, 255, 255],\n",
              "         [255, 255, 255, ..., 255, 255, 255],\n",
              "         [255, 255, 255, ..., 255, 255, 255]], dtype=uint8),\n",
              "  array([   1, 2209,  162, 2351, 3160, 1889, 1252, 1011, 1780,    0,    0,\n",
              "            0,    0,    0,    0,    0,    0,    0,    0,    3]),\n",
              "  array([0.09874686, 0.99478321, 0.02560104]),\n",
              "  array([0., 0., 1., 0., 0., 0., 0., 0., 0., 0., 0., 0., 0., 0., 0., 0., 0.,\n",
              "         0., 0., 0., 0., 0., 0., 0., 0., 0., 0., 0., 0., 0., 0., 0., 0., 0.,\n",
              "         0., 0., 0., 0., 0., 0., 0., 0., 0., 0., 0.], dtype=float32)],\n",
              " [array([[255, 255, 255, ..., 255, 255, 255],\n",
              "         [255, 255, 255, ..., 255, 255, 255],\n",
              "         [255, 255, 255, ..., 255, 255, 255],\n",
              "         ...,\n",
              "         [255, 255, 255, ..., 255, 255, 255],\n",
              "         [255, 255, 255, ..., 255, 255, 255],\n",
              "         [255, 255, 255, ..., 255, 255, 255]], dtype=uint8),\n",
              "  array([   1, 1266, 1084, 2187, 2351, 3160,  546,  162,  525,    0,    0,\n",
              "            0,    0,    0,    0,    0,    0,    0,    0,    3]),\n",
              "  array([0.90342191, 0.42860757, 0.01115336]),\n",
              "  array([0., 0., 1., 0., 0., 0., 0., 0., 0., 0., 0., 0., 0., 0., 0., 0., 0.,\n",
              "         0., 0., 0., 0., 0., 0., 0., 0., 0., 0., 0., 0., 0., 0., 0., 0., 0.,\n",
              "         0., 0., 0., 0., 0., 0., 0., 0., 0., 0., 0.], dtype=float32)],\n",
              " [array([[255, 255, 255, ..., 255, 255, 255],\n",
              "         [255, 255, 255, ..., 255, 255, 255],\n",
              "         [255, 255, 255, ..., 255, 255, 255],\n",
              "         ...,\n",
              "         [255, 255, 255, ..., 255, 255, 255],\n",
              "         [255, 255, 255, ..., 255, 255, 255],\n",
              "         [255, 255, 255, ..., 255, 255, 255]], dtype=uint8),\n",
              "  array([   1,  358, 3180, 2351, 3160,  546, 2694,  162, 2463,  576, 1780,\n",
              "            0,    0,    0,    0,    0,    0,    0,    0,    3]),\n",
              "  array([0.99915065, 0.04015134, 0.00926569]),\n",
              "  array([0., 0., 1., 0., 0., 0., 0., 0., 0., 0., 0., 0., 0., 0., 0., 0., 0.,\n",
              "         0., 0., 0., 0., 0., 0., 0., 0., 0., 0., 0., 0., 0., 0., 0., 0., 0.,\n",
              "         0., 0., 0., 0., 0., 0., 0., 0., 0., 0., 0.], dtype=float32)],\n",
              " [array([[255, 255, 255, ..., 255, 255, 255],\n",
              "         [255, 255, 255, ..., 255, 255, 255],\n",
              "         [255, 255, 255, ..., 255, 255, 255],\n",
              "         ...,\n",
              "         [255, 255, 255, ..., 255, 255, 255],\n",
              "         [255, 255, 255, ..., 255, 255, 255],\n",
              "         [255, 255, 255, ..., 255, 255, 255]], dtype=uint8),\n",
              "  array([   1, 2285,   55, 1409,  546,  288,    0,    0,    0,    0,    0,\n",
              "            0,    0,    0,    0,    0,    0,    0,    0,    3]),\n",
              "  array([0.88702364, 0.46158082, 0.01149845]),\n",
              "  array([0., 0., 1., 0., 0., 0., 0., 0., 0., 0., 0., 0., 0., 0., 0., 0., 0.,\n",
              "         0., 0., 0., 0., 0., 0., 0., 0., 0., 0., 0., 0., 0., 0., 0., 0., 0.,\n",
              "         0., 0., 0., 0., 0., 0., 0., 0., 0., 0., 0.], dtype=float32)]]"
            ]
          },
          "metadata": {
            "tags": []
          },
          "execution_count": 295
        }
      ]
    },
    {
      "cell_type": "code",
      "metadata": {
        "id": "NGO5jIUaLL-r",
        "colab_type": "code",
        "colab": {}
      },
      "source": [
        "tmp_nomProduit_finaltest = []\n",
        "tmp_other_finaltest = []\n",
        "tmp_url_finaltest = []\n",
        "tmp_encoded_category_finaltest = []\n",
        "\n",
        "for url, nP, other, category in tested_tmp_data_sample[70000:]:\n",
        "  tmp_url_finaltest.append(url)\n",
        "  tmp_nomProduit_finaltest.append(nP)\n",
        "  tmp_other_finaltest.append(other)\n",
        "  tmp_encoded_category_finaltest.append(category)\n",
        "\n",
        "tmp_url_finaltest = np.array(tmp_url_finaltest).reshape(-1 , tmp_Image_size , tmp_Image_size , 1 )\n",
        "tmp_nomProduit_finaltest = np.array(tmp_nomProduit_finaltest)\n",
        "tmp_other_finaltest = np.array(tmp_other_finaltest)\n",
        "tmp_encoded_category_finaltest = np.array(tmp_encoded_category_finaltest)\n"
      ],
      "execution_count": null,
      "outputs": []
    },
    {
      "cell_type": "code",
      "metadata": {
        "id": "eVSd--XTtemF",
        "colab_type": "code",
        "colab": {
          "base_uri": "https://localhost:8080/",
          "height": 357
        },
        "outputId": "4c5f0ea8-7608-4759-e661-219e8ca5f534"
      },
      "source": [
        "[id_to_word[i] for i in tmp_nomProduit_finaltest[0]]"
      ],
      "execution_count": null,
      "outputs": [
        {
          "output_type": "execute_result",
          "data": {
            "text/plain": [
              "['<START>',\n",
              " 'andros',\n",
              " 'jus',\n",
              " 'pommes',\n",
              " '1',\n",
              " '5l',\n",
              " '<PAD>',\n",
              " '<PAD>',\n",
              " '<PAD>',\n",
              " '<PAD>',\n",
              " '<PAD>',\n",
              " '<PAD>',\n",
              " '<PAD>',\n",
              " '<PAD>',\n",
              " '<PAD>',\n",
              " '<PAD>',\n",
              " '<PAD>',\n",
              " '<PAD>',\n",
              " '<PAD>',\n",
              " '<END>']"
            ]
          },
          "metadata": {
            "tags": []
          },
          "execution_count": 304
        }
      ]
    },
    {
      "cell_type": "code",
      "metadata": {
        "id": "osfsy7trrsLP",
        "colab_type": "code",
        "colab": {
          "base_uri": "https://localhost:8080/",
          "height": 34
        },
        "outputId": "f144a6e9-6000-472f-e7f5-450648d7761f"
      },
      "source": [
        "loss, acc = model.evaluate([tmp_nomProduit_finaltest, tmp_other_finaltest,tmp_url_finaltest], tmp_encoded_category_finaltest)"
      ],
      "execution_count": null,
      "outputs": [
        {
          "output_type": "stream",
          "text": [
            "715/715 [==============================] - 5s 7ms/step - loss: 0.8349 - accuracy: 0.8022\n"
          ],
          "name": "stdout"
        }
      ]
    },
    {
      "cell_type": "code",
      "metadata": {
        "id": "I0niRHNksym9",
        "colab_type": "code",
        "colab": {
          "base_uri": "https://localhost:8080/",
          "height": 187
        },
        "outputId": "d2b4cc7a-e62c-4687-b743-7b697d94bd72"
      },
      "source": [
        "nomProduit_finaltest, other_finaltest,url_finaltest"
      ],
      "execution_count": null,
      "outputs": [
        {
          "output_type": "execute_result",
          "data": {
            "text/plain": [
              "array([[   1, 3296, 1481,  618, 3198, 2049, 1408,  130,    0,    0,    0,\n",
              "           0,    0,    0,    0,    0,    0,    0,    0,    3],\n",
              "       [   1, 2435,  406, 2853, 1648, 3051, 2435, 2452,    0,    0,    0,\n",
              "           0,    0,    0,    0,    0,    0,    0,    0,    3],\n",
              "       [   1, 2435, 2008,  144, 1040, 3051, 2435, 2853,  743, 2615, 1590,\n",
              "           0,    0,    0,    0,    0,    0,    0,    0,    3],\n",
              "       [   1, 2099,  203,    6, 2592,    0,    0,    0,    0,    0,    0,\n",
              "           0,    0,    0,    0,    0,    0,    0,    0,    3],\n",
              "       [   1, 2435,  406, 2853, 1648, 3051, 2435, 2452,    0,    0,    0,\n",
              "           0,    0,    0,    0,    0,    0,    0,    0,    3]])"
            ]
          },
          "metadata": {
            "tags": []
          },
          "execution_count": 263
        }
      ]
    },
    {
      "cell_type": "code",
      "metadata": {
        "id": "eaxOFfqQs_ln",
        "colab_type": "code",
        "colab": {
          "base_uri": "https://localhost:8080/",
          "height": 272
        },
        "outputId": "d00e0c12-c275-42bd-a40f-9051c6c76b68"
      },
      "source": [
        "encoded_category_finaltest[0:5]"
      ],
      "execution_count": null,
      "outputs": [
        {
          "output_type": "execute_result",
          "data": {
            "text/plain": [
              "array([[0., 0., 0., 0., 0., 0., 0., 0., 0., 0., 0., 0., 0., 0., 0., 0.,\n",
              "        0., 0., 0., 0., 0., 0., 0., 1., 0., 0., 0., 0., 0., 0., 0., 0.,\n",
              "        0., 0., 0., 0., 0., 0., 0., 0., 0., 0., 0., 0., 0.],\n",
              "       [0., 1., 0., 0., 0., 0., 0., 0., 0., 0., 0., 0., 0., 0., 0., 0.,\n",
              "        0., 0., 0., 0., 0., 0., 0., 0., 0., 0., 0., 0., 0., 0., 0., 0.,\n",
              "        0., 0., 0., 0., 0., 0., 0., 0., 0., 0., 0., 0., 0.],\n",
              "       [0., 0., 0., 0., 0., 0., 0., 0., 1., 0., 0., 0., 0., 0., 0., 0.,\n",
              "        0., 0., 0., 0., 0., 0., 0., 0., 0., 0., 0., 0., 0., 0., 0., 0.,\n",
              "        0., 0., 0., 0., 0., 0., 0., 0., 0., 0., 0., 0., 0.],\n",
              "       [0., 0., 0., 0., 1., 0., 0., 0., 0., 0., 0., 0., 0., 0., 0., 0.,\n",
              "        0., 0., 0., 0., 0., 0., 0., 0., 0., 0., 0., 0., 0., 0., 0., 0.,\n",
              "        0., 0., 0., 0., 0., 0., 0., 0., 0., 0., 0., 0., 0.],\n",
              "       [0., 1., 0., 0., 0., 0., 0., 0., 0., 0., 0., 0., 0., 0., 0., 0.,\n",
              "        0., 0., 0., 0., 0., 0., 0., 0., 0., 0., 0., 0., 0., 0., 0., 0.,\n",
              "        0., 0., 0., 0., 0., 0., 0., 0., 0., 0., 0., 0., 0.]])"
            ]
          },
          "metadata": {
            "tags": []
          },
          "execution_count": 266
        }
      ]
    },
    {
      "cell_type": "code",
      "metadata": {
        "id": "BceiebIes2dn",
        "colab_type": "code",
        "colab": {
          "base_uri": "https://localhost:8080/",
          "height": 289
        },
        "outputId": "3642f1b9-2946-4608-90df-fefc34cbdef7"
      },
      "source": [
        "tmp_encoded_category_finaltest[0:5]"
      ],
      "execution_count": null,
      "outputs": [
        {
          "output_type": "execute_result",
          "data": {
            "text/plain": [
              "array([[0., 0., 1., 0., 0., 0., 0., 0., 0., 0., 0., 0., 0., 0., 0., 0.,\n",
              "        0., 0., 0., 0., 0., 0., 0., 0., 0., 0., 0., 0., 0., 0., 0., 0.,\n",
              "        0., 0., 0., 0., 0., 0., 0., 0., 0., 0., 0., 0., 0.],\n",
              "       [0., 0., 1., 0., 0., 0., 0., 0., 0., 0., 0., 0., 0., 0., 0., 0.,\n",
              "        0., 0., 0., 0., 0., 0., 0., 0., 0., 0., 0., 0., 0., 0., 0., 0.,\n",
              "        0., 0., 0., 0., 0., 0., 0., 0., 0., 0., 0., 0., 0.],\n",
              "       [0., 0., 1., 0., 0., 0., 0., 0., 0., 0., 0., 0., 0., 0., 0., 0.,\n",
              "        0., 0., 0., 0., 0., 0., 0., 0., 0., 0., 0., 0., 0., 0., 0., 0.,\n",
              "        0., 0., 0., 0., 0., 0., 0., 0., 0., 0., 0., 0., 0.],\n",
              "       [0., 0., 1., 0., 0., 0., 0., 0., 0., 0., 0., 0., 0., 0., 0., 0.,\n",
              "        0., 0., 0., 0., 0., 0., 0., 0., 0., 0., 0., 0., 0., 0., 0., 0.,\n",
              "        0., 0., 0., 0., 0., 0., 0., 0., 0., 0., 0., 0., 0.],\n",
              "       [0., 0., 1., 0., 0., 0., 0., 0., 0., 0., 0., 0., 0., 0., 0., 0.,\n",
              "        0., 0., 0., 0., 0., 0., 0., 0., 0., 0., 0., 0., 0., 0., 0., 0.,\n",
              "        0., 0., 0., 0., 0., 0., 0., 0., 0., 0., 0., 0., 0.]],\n",
              "      dtype=float32)"
            ]
          },
          "metadata": {
            "tags": []
          },
          "execution_count": 267
        }
      ]
    },
    {
      "cell_type": "code",
      "metadata": {
        "id": "L1-PkyZds4Sr",
        "colab_type": "code",
        "colab": {}
      },
      "source": [
        ""
      ],
      "execution_count": null,
      "outputs": []
    }
  ]
}